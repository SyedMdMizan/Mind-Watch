{
 "cells": [
  {
   "cell_type": "code",
   "execution_count": 1,
   "metadata": {},
   "outputs": [
    {
     "name": "stdout",
     "output_type": "stream",
     "text": [
      "WARNING:tensorflow:From c:\\Python311\\Lib\\site-packages\\keras\\src\\losses.py:2976: The name tf.losses.sparse_softmax_cross_entropy is deprecated. Please use tf.compat.v1.losses.sparse_softmax_cross_entropy instead.\n",
      "\n"
     ]
    }
   ],
   "source": [
    "import numpy as np \n",
    "import pandas as pd\n",
    "from sklearn.model_selection import train_test_split\n",
    "import neattext.functions as nfx\n",
    "import plotly.express as plx\n",
    "from sklearn.metrics import classification_report\n",
    "import keras\n",
    "from keras.layers import Embedding,Dense,LSTM,GlobalMaxPooling1D,Input\n",
    "from keras.callbacks import EarlyStopping,ReduceLROnPlateau\n",
    "from keras.models import Sequential\n",
    "import tensorflow as tf\n",
    "from sklearn.preprocessing import LabelEncoder\n",
    "from keras.preprocessing.text import Tokenizer\n",
    "from keras.preprocessing.sequence import pad_sequences\n",
    "from tqdm import tqdm"
   ]
  },
  {
   "cell_type": "code",
   "execution_count": 2,
   "metadata": {},
   "outputs": [
    {
     "data": {
      "text/html": [
       "<div>\n",
       "<style scoped>\n",
       "    .dataframe tbody tr th:only-of-type {\n",
       "        vertical-align: middle;\n",
       "    }\n",
       "\n",
       "    .dataframe tbody tr th {\n",
       "        vertical-align: top;\n",
       "    }\n",
       "\n",
       "    .dataframe thead th {\n",
       "        text-align: right;\n",
       "    }\n",
       "</style>\n",
       "<table border=\"1\" class=\"dataframe\">\n",
       "  <thead>\n",
       "    <tr style=\"text-align: right;\">\n",
       "      <th></th>\n",
       "      <th>Unnamed: 0</th>\n",
       "      <th>text</th>\n",
       "      <th>class</th>\n",
       "    </tr>\n",
       "  </thead>\n",
       "  <tbody>\n",
       "    <tr>\n",
       "      <th>0</th>\n",
       "      <td>2</td>\n",
       "      <td>Ex Wife Threatening SuicideRecently I left my ...</td>\n",
       "      <td>suicide</td>\n",
       "    </tr>\n",
       "    <tr>\n",
       "      <th>1</th>\n",
       "      <td>3</td>\n",
       "      <td>Am I weird I don't get affected by compliments...</td>\n",
       "      <td>non-suicide</td>\n",
       "    </tr>\n",
       "    <tr>\n",
       "      <th>2</th>\n",
       "      <td>4</td>\n",
       "      <td>Finally 2020 is almost over... So I can never ...</td>\n",
       "      <td>non-suicide</td>\n",
       "    </tr>\n",
       "    <tr>\n",
       "      <th>3</th>\n",
       "      <td>8</td>\n",
       "      <td>i need helpjust help me im crying so hard</td>\n",
       "      <td>suicide</td>\n",
       "    </tr>\n",
       "    <tr>\n",
       "      <th>4</th>\n",
       "      <td>9</td>\n",
       "      <td>I’m so lostHello, my name is Adam (16) and I’v...</td>\n",
       "      <td>suicide</td>\n",
       "    </tr>\n",
       "  </tbody>\n",
       "</table>\n",
       "</div>"
      ],
      "text/plain": [
       "  Unnamed: 0                                               text        class\n",
       "0          2  Ex Wife Threatening SuicideRecently I left my ...      suicide\n",
       "1          3  Am I weird I don't get affected by compliments...  non-suicide\n",
       "2          4  Finally 2020 is almost over... So I can never ...  non-suicide\n",
       "3          8          i need helpjust help me im crying so hard      suicide\n",
       "4          9  I’m so lostHello, my name is Adam (16) and I’v...      suicide"
      ]
     },
     "execution_count": 2,
     "metadata": {},
     "output_type": "execute_result"
    }
   ],
   "source": [
    "data=pd.read_csv('Suicide_Detection1.csv')\n",
    "data.head()"
   ]
  },
  {
   "cell_type": "code",
   "execution_count": 3,
   "metadata": {},
   "outputs": [],
   "source": [
    "data = data.dropna(subset=['class'])"
   ]
  },
  {
   "cell_type": "code",
   "execution_count": 4,
   "metadata": {},
   "outputs": [
    {
     "data": {
      "text/plain": [
       "class\n",
       "suicide        116033\n",
       "non-suicide    116012\n",
       "Name: count, dtype: int64"
      ]
     },
     "execution_count": 4,
     "metadata": {},
     "output_type": "execute_result"
    }
   ],
   "source": [
    "data['class'].value_counts()"
   ]
  },
  {
   "cell_type": "code",
   "execution_count": 5,
   "metadata": {},
   "outputs": [
    {
     "data": {
      "text/plain": [
       "array(['suicide', 'non-suicide'], dtype=object)"
      ]
     },
     "execution_count": 5,
     "metadata": {},
     "output_type": "execute_result"
    }
   ],
   "source": [
    "data['class'].value_counts().index.values"
   ]
  },
  {
   "cell_type": "code",
   "execution_count": 6,
   "metadata": {},
   "outputs": [],
   "source": [
    "train_data,test_data=train_test_split(data,test_size=0.2,random_state=10)"
   ]
  },
  {
   "cell_type": "code",
   "execution_count": 7,
   "metadata": {},
   "outputs": [
    {
     "data": {
      "text/plain": [
       "array(['suicide', 'non-suicide'], dtype=object)"
      ]
     },
     "execution_count": 7,
     "metadata": {},
     "output_type": "execute_result"
    }
   ],
   "source": [
    "train_data['class'].value_counts().index.values"
   ]
  },
  {
   "cell_type": "markdown",
   "metadata": {},
   "source": [
    "# Data Visualisation"
   ]
  },
  {
   "cell_type": "code",
   "execution_count": 8,
   "metadata": {},
   "outputs": [
    {
     "data": {
      "application/vnd.plotly.v1+json": {
       "config": {
        "plotlyServerURL": "https://plot.ly"
       },
       "data": [
        {
         "alignmentgroup": "True",
         "hovertemplate": "color=Suicide<br>Class=%{x}<br>Count=%{y}<extra></extra>",
         "legendgroup": "Suicide",
         "marker": {
          "color": "#636efa",
          "pattern": {
           "shape": ""
          }
         },
         "name": "Suicide",
         "offsetgroup": "Suicide",
         "orientation": "v",
         "showlegend": true,
         "textposition": "auto",
         "type": "bar",
         "x": [
          "suicide"
         ],
         "xaxis": "x",
         "y": [
          92822
         ],
         "yaxis": "y"
        },
        {
         "alignmentgroup": "True",
         "hovertemplate": "color=Not Suicide<br>Class=%{x}<br>Count=%{y}<extra></extra>",
         "legendgroup": "Not Suicide",
         "marker": {
          "color": "#EF553B",
          "pattern": {
           "shape": ""
          }
         },
         "name": "Not Suicide",
         "offsetgroup": "Not Suicide",
         "orientation": "v",
         "showlegend": true,
         "textposition": "auto",
         "type": "bar",
         "x": [
          "non-suicide"
         ],
         "xaxis": "x",
         "y": [
          92814
         ],
         "yaxis": "y"
        }
       ],
       "layout": {
        "barmode": "relative",
        "legend": {
         "title": {
          "text": "color"
         },
         "tracegroupgap": 0
        },
        "template": {
         "data": {
          "bar": [
           {
            "error_x": {
             "color": "#2a3f5f"
            },
            "error_y": {
             "color": "#2a3f5f"
            },
            "marker": {
             "line": {
              "color": "#E5ECF6",
              "width": 0.5
             },
             "pattern": {
              "fillmode": "overlay",
              "size": 10,
              "solidity": 0.2
             }
            },
            "type": "bar"
           }
          ],
          "barpolar": [
           {
            "marker": {
             "line": {
              "color": "#E5ECF6",
              "width": 0.5
             },
             "pattern": {
              "fillmode": "overlay",
              "size": 10,
              "solidity": 0.2
             }
            },
            "type": "barpolar"
           }
          ],
          "carpet": [
           {
            "aaxis": {
             "endlinecolor": "#2a3f5f",
             "gridcolor": "white",
             "linecolor": "white",
             "minorgridcolor": "white",
             "startlinecolor": "#2a3f5f"
            },
            "baxis": {
             "endlinecolor": "#2a3f5f",
             "gridcolor": "white",
             "linecolor": "white",
             "minorgridcolor": "white",
             "startlinecolor": "#2a3f5f"
            },
            "type": "carpet"
           }
          ],
          "choropleth": [
           {
            "colorbar": {
             "outlinewidth": 0,
             "ticks": ""
            },
            "type": "choropleth"
           }
          ],
          "contour": [
           {
            "colorbar": {
             "outlinewidth": 0,
             "ticks": ""
            },
            "colorscale": [
             [
              0,
              "#0d0887"
             ],
             [
              0.1111111111111111,
              "#46039f"
             ],
             [
              0.2222222222222222,
              "#7201a8"
             ],
             [
              0.3333333333333333,
              "#9c179e"
             ],
             [
              0.4444444444444444,
              "#bd3786"
             ],
             [
              0.5555555555555556,
              "#d8576b"
             ],
             [
              0.6666666666666666,
              "#ed7953"
             ],
             [
              0.7777777777777778,
              "#fb9f3a"
             ],
             [
              0.8888888888888888,
              "#fdca26"
             ],
             [
              1,
              "#f0f921"
             ]
            ],
            "type": "contour"
           }
          ],
          "contourcarpet": [
           {
            "colorbar": {
             "outlinewidth": 0,
             "ticks": ""
            },
            "type": "contourcarpet"
           }
          ],
          "heatmap": [
           {
            "colorbar": {
             "outlinewidth": 0,
             "ticks": ""
            },
            "colorscale": [
             [
              0,
              "#0d0887"
             ],
             [
              0.1111111111111111,
              "#46039f"
             ],
             [
              0.2222222222222222,
              "#7201a8"
             ],
             [
              0.3333333333333333,
              "#9c179e"
             ],
             [
              0.4444444444444444,
              "#bd3786"
             ],
             [
              0.5555555555555556,
              "#d8576b"
             ],
             [
              0.6666666666666666,
              "#ed7953"
             ],
             [
              0.7777777777777778,
              "#fb9f3a"
             ],
             [
              0.8888888888888888,
              "#fdca26"
             ],
             [
              1,
              "#f0f921"
             ]
            ],
            "type": "heatmap"
           }
          ],
          "heatmapgl": [
           {
            "colorbar": {
             "outlinewidth": 0,
             "ticks": ""
            },
            "colorscale": [
             [
              0,
              "#0d0887"
             ],
             [
              0.1111111111111111,
              "#46039f"
             ],
             [
              0.2222222222222222,
              "#7201a8"
             ],
             [
              0.3333333333333333,
              "#9c179e"
             ],
             [
              0.4444444444444444,
              "#bd3786"
             ],
             [
              0.5555555555555556,
              "#d8576b"
             ],
             [
              0.6666666666666666,
              "#ed7953"
             ],
             [
              0.7777777777777778,
              "#fb9f3a"
             ],
             [
              0.8888888888888888,
              "#fdca26"
             ],
             [
              1,
              "#f0f921"
             ]
            ],
            "type": "heatmapgl"
           }
          ],
          "histogram": [
           {
            "marker": {
             "pattern": {
              "fillmode": "overlay",
              "size": 10,
              "solidity": 0.2
             }
            },
            "type": "histogram"
           }
          ],
          "histogram2d": [
           {
            "colorbar": {
             "outlinewidth": 0,
             "ticks": ""
            },
            "colorscale": [
             [
              0,
              "#0d0887"
             ],
             [
              0.1111111111111111,
              "#46039f"
             ],
             [
              0.2222222222222222,
              "#7201a8"
             ],
             [
              0.3333333333333333,
              "#9c179e"
             ],
             [
              0.4444444444444444,
              "#bd3786"
             ],
             [
              0.5555555555555556,
              "#d8576b"
             ],
             [
              0.6666666666666666,
              "#ed7953"
             ],
             [
              0.7777777777777778,
              "#fb9f3a"
             ],
             [
              0.8888888888888888,
              "#fdca26"
             ],
             [
              1,
              "#f0f921"
             ]
            ],
            "type": "histogram2d"
           }
          ],
          "histogram2dcontour": [
           {
            "colorbar": {
             "outlinewidth": 0,
             "ticks": ""
            },
            "colorscale": [
             [
              0,
              "#0d0887"
             ],
             [
              0.1111111111111111,
              "#46039f"
             ],
             [
              0.2222222222222222,
              "#7201a8"
             ],
             [
              0.3333333333333333,
              "#9c179e"
             ],
             [
              0.4444444444444444,
              "#bd3786"
             ],
             [
              0.5555555555555556,
              "#d8576b"
             ],
             [
              0.6666666666666666,
              "#ed7953"
             ],
             [
              0.7777777777777778,
              "#fb9f3a"
             ],
             [
              0.8888888888888888,
              "#fdca26"
             ],
             [
              1,
              "#f0f921"
             ]
            ],
            "type": "histogram2dcontour"
           }
          ],
          "mesh3d": [
           {
            "colorbar": {
             "outlinewidth": 0,
             "ticks": ""
            },
            "type": "mesh3d"
           }
          ],
          "parcoords": [
           {
            "line": {
             "colorbar": {
              "outlinewidth": 0,
              "ticks": ""
             }
            },
            "type": "parcoords"
           }
          ],
          "pie": [
           {
            "automargin": true,
            "type": "pie"
           }
          ],
          "scatter": [
           {
            "fillpattern": {
             "fillmode": "overlay",
             "size": 10,
             "solidity": 0.2
            },
            "type": "scatter"
           }
          ],
          "scatter3d": [
           {
            "line": {
             "colorbar": {
              "outlinewidth": 0,
              "ticks": ""
             }
            },
            "marker": {
             "colorbar": {
              "outlinewidth": 0,
              "ticks": ""
             }
            },
            "type": "scatter3d"
           }
          ],
          "scattercarpet": [
           {
            "marker": {
             "colorbar": {
              "outlinewidth": 0,
              "ticks": ""
             }
            },
            "type": "scattercarpet"
           }
          ],
          "scattergeo": [
           {
            "marker": {
             "colorbar": {
              "outlinewidth": 0,
              "ticks": ""
             }
            },
            "type": "scattergeo"
           }
          ],
          "scattergl": [
           {
            "marker": {
             "colorbar": {
              "outlinewidth": 0,
              "ticks": ""
             }
            },
            "type": "scattergl"
           }
          ],
          "scattermapbox": [
           {
            "marker": {
             "colorbar": {
              "outlinewidth": 0,
              "ticks": ""
             }
            },
            "type": "scattermapbox"
           }
          ],
          "scatterpolar": [
           {
            "marker": {
             "colorbar": {
              "outlinewidth": 0,
              "ticks": ""
             }
            },
            "type": "scatterpolar"
           }
          ],
          "scatterpolargl": [
           {
            "marker": {
             "colorbar": {
              "outlinewidth": 0,
              "ticks": ""
             }
            },
            "type": "scatterpolargl"
           }
          ],
          "scatterternary": [
           {
            "marker": {
             "colorbar": {
              "outlinewidth": 0,
              "ticks": ""
             }
            },
            "type": "scatterternary"
           }
          ],
          "surface": [
           {
            "colorbar": {
             "outlinewidth": 0,
             "ticks": ""
            },
            "colorscale": [
             [
              0,
              "#0d0887"
             ],
             [
              0.1111111111111111,
              "#46039f"
             ],
             [
              0.2222222222222222,
              "#7201a8"
             ],
             [
              0.3333333333333333,
              "#9c179e"
             ],
             [
              0.4444444444444444,
              "#bd3786"
             ],
             [
              0.5555555555555556,
              "#d8576b"
             ],
             [
              0.6666666666666666,
              "#ed7953"
             ],
             [
              0.7777777777777778,
              "#fb9f3a"
             ],
             [
              0.8888888888888888,
              "#fdca26"
             ],
             [
              1,
              "#f0f921"
             ]
            ],
            "type": "surface"
           }
          ],
          "table": [
           {
            "cells": {
             "fill": {
              "color": "#EBF0F8"
             },
             "line": {
              "color": "white"
             }
            },
            "header": {
             "fill": {
              "color": "#C8D4E3"
             },
             "line": {
              "color": "white"
             }
            },
            "type": "table"
           }
          ]
         },
         "layout": {
          "annotationdefaults": {
           "arrowcolor": "#2a3f5f",
           "arrowhead": 0,
           "arrowwidth": 1
          },
          "autotypenumbers": "strict",
          "coloraxis": {
           "colorbar": {
            "outlinewidth": 0,
            "ticks": ""
           }
          },
          "colorscale": {
           "diverging": [
            [
             0,
             "#8e0152"
            ],
            [
             0.1,
             "#c51b7d"
            ],
            [
             0.2,
             "#de77ae"
            ],
            [
             0.3,
             "#f1b6da"
            ],
            [
             0.4,
             "#fde0ef"
            ],
            [
             0.5,
             "#f7f7f7"
            ],
            [
             0.6,
             "#e6f5d0"
            ],
            [
             0.7,
             "#b8e186"
            ],
            [
             0.8,
             "#7fbc41"
            ],
            [
             0.9,
             "#4d9221"
            ],
            [
             1,
             "#276419"
            ]
           ],
           "sequential": [
            [
             0,
             "#0d0887"
            ],
            [
             0.1111111111111111,
             "#46039f"
            ],
            [
             0.2222222222222222,
             "#7201a8"
            ],
            [
             0.3333333333333333,
             "#9c179e"
            ],
            [
             0.4444444444444444,
             "#bd3786"
            ],
            [
             0.5555555555555556,
             "#d8576b"
            ],
            [
             0.6666666666666666,
             "#ed7953"
            ],
            [
             0.7777777777777778,
             "#fb9f3a"
            ],
            [
             0.8888888888888888,
             "#fdca26"
            ],
            [
             1,
             "#f0f921"
            ]
           ],
           "sequentialminus": [
            [
             0,
             "#0d0887"
            ],
            [
             0.1111111111111111,
             "#46039f"
            ],
            [
             0.2222222222222222,
             "#7201a8"
            ],
            [
             0.3333333333333333,
             "#9c179e"
            ],
            [
             0.4444444444444444,
             "#bd3786"
            ],
            [
             0.5555555555555556,
             "#d8576b"
            ],
            [
             0.6666666666666666,
             "#ed7953"
            ],
            [
             0.7777777777777778,
             "#fb9f3a"
            ],
            [
             0.8888888888888888,
             "#fdca26"
            ],
            [
             1,
             "#f0f921"
            ]
           ]
          },
          "colorway": [
           "#636efa",
           "#EF553B",
           "#00cc96",
           "#ab63fa",
           "#FFA15A",
           "#19d3f3",
           "#FF6692",
           "#B6E880",
           "#FF97FF",
           "#FECB52"
          ],
          "font": {
           "color": "#2a3f5f"
          },
          "geo": {
           "bgcolor": "white",
           "lakecolor": "white",
           "landcolor": "#E5ECF6",
           "showlakes": true,
           "showland": true,
           "subunitcolor": "white"
          },
          "hoverlabel": {
           "align": "left"
          },
          "hovermode": "closest",
          "mapbox": {
           "style": "light"
          },
          "paper_bgcolor": "white",
          "plot_bgcolor": "#E5ECF6",
          "polar": {
           "angularaxis": {
            "gridcolor": "white",
            "linecolor": "white",
            "ticks": ""
           },
           "bgcolor": "#E5ECF6",
           "radialaxis": {
            "gridcolor": "white",
            "linecolor": "white",
            "ticks": ""
           }
          },
          "scene": {
           "xaxis": {
            "backgroundcolor": "#E5ECF6",
            "gridcolor": "white",
            "gridwidth": 2,
            "linecolor": "white",
            "showbackground": true,
            "ticks": "",
            "zerolinecolor": "white"
           },
           "yaxis": {
            "backgroundcolor": "#E5ECF6",
            "gridcolor": "white",
            "gridwidth": 2,
            "linecolor": "white",
            "showbackground": true,
            "ticks": "",
            "zerolinecolor": "white"
           },
           "zaxis": {
            "backgroundcolor": "#E5ECF6",
            "gridcolor": "white",
            "gridwidth": 2,
            "linecolor": "white",
            "showbackground": true,
            "ticks": "",
            "zerolinecolor": "white"
           }
          },
          "shapedefaults": {
           "line": {
            "color": "#2a3f5f"
           }
          },
          "ternary": {
           "aaxis": {
            "gridcolor": "white",
            "linecolor": "white",
            "ticks": ""
           },
           "baxis": {
            "gridcolor": "white",
            "linecolor": "white",
            "ticks": ""
           },
           "bgcolor": "#E5ECF6",
           "caxis": {
            "gridcolor": "white",
            "linecolor": "white",
            "ticks": ""
           }
          },
          "title": {
           "x": 0.05
          },
          "xaxis": {
           "automargin": true,
           "gridcolor": "white",
           "linecolor": "white",
           "ticks": "",
           "title": {
            "standoff": 15
           },
           "zerolinecolor": "white",
           "zerolinewidth": 2
          },
          "yaxis": {
           "automargin": true,
           "gridcolor": "white",
           "linecolor": "white",
           "ticks": "",
           "title": {
            "standoff": 15
           },
           "zerolinecolor": "white",
           "zerolinewidth": 2
          }
         }
        },
        "title": {
         "text": "Distribution of Classes in Training Data"
        },
        "xaxis": {
         "anchor": "y",
         "domain": [
          0,
          1
         ],
         "title": {
          "text": "Class"
         }
        },
        "yaxis": {
         "anchor": "x",
         "domain": [
          0,
          1
         ],
         "title": {
          "text": "Count"
         }
        }
       }
      }
     },
     "metadata": {},
     "output_type": "display_data"
    }
   ],
   "source": [
    "plx.bar(x=train_data['class'].value_counts().index.values,\n",
    "        y=train_data['class'].value_counts(),color=['Suicide','Not Suicide'],\n",
    "        labels={'x': 'Class', 'y': 'Count'},\n",
    "        title='Distribution of Classes in Training Data')"
   ]
  },
  {
   "cell_type": "markdown",
   "metadata": {},
   "source": [
    "# Data Cleaning"
   ]
  },
  {
   "cell_type": "code",
   "execution_count": 9,
   "metadata": {},
   "outputs": [],
   "source": [
    "def clean_text(text):\n",
    "    text_length=[]\n",
    "    cleaned_text=[]\n",
    "    for sent in tqdm(text):\n",
    "        if isinstance(sent, str):\n",
    "            sent=sent.lower()\n",
    "            sent=nfx.remove_special_characters(sent)\n",
    "            sent=nfx.remove_stopwords(sent)\n",
    "            text_length.append(len(sent.split()))\n",
    "            cleaned_text.append(sent)\n",
    "        else:\n",
    "            text_length.append(0)\n",
    "            cleaned_text.append(\"\")\n",
    "    return cleaned_text,text_length\n"
   ]
  },
  {
   "cell_type": "code",
   "execution_count": 10,
   "metadata": {},
   "outputs": [
    {
     "name": "stderr",
     "output_type": "stream",
     "text": [
      "100%|██████████| 185636/185636 [00:10<00:00, 18270.35it/s]\n",
      "100%|██████████| 46409/46409 [00:02<00:00, 23090.85it/s]\n"
     ]
    }
   ],
   "source": [
    "cleaned_train_text,train_text_length=clean_text(train_data.text)\n",
    "cleaned_test_text,test_text_length=clean_text(test_data.text)"
   ]
  },
  {
   "cell_type": "code",
   "execution_count": 11,
   "metadata": {},
   "outputs": [],
   "source": [
    "tokenizer=Tokenizer()\n",
    "tokenizer.fit_on_texts(cleaned_train_text)"
   ]
  },
  {
   "cell_type": "code",
   "execution_count": 12,
   "metadata": {},
   "outputs": [
    {
     "data": {
      "text/plain": [
       "['probably going jump bridge sooni dont know read post history cant longer feel angry helpless',\n",
       " 'ate 1 hour stopping 1 hour ago hungry toast kept making hungry ate half thing looked food found half pack cereal',\n",
       " 'saw counselor 4 june 2018 lot interesting things happenedi went counselor 4 june 2018 entered office able switch earphones didnt feel frightened yeahi told counselor medications changed caused tired easily breathless dont strength normal things daily routine dizzy sleepy tried concentrate drivingi told counselor recently tried blogging love blogging yeah hope small income blogging pi met stranger online reddit happened live singapore exchanged handphone numbers decided hiking coming thursday 7 june 2018 ask counselor help find topics talk yeah mild autism good socialrelated thingsin counseling session called case manager institute mental health imh singapore told effects new medication taking decided come outpatient clinic imh day inquire changing medicationin counseling session recommended place called sg enable look jobs help autistic adults find jobafter counseling session went sg enable managed earphones ask receptionist outside receptionist inside sg enable yeah managed earphones feeling frightened people trying bully receptionist inside sg enable said need official letter psychiatrist certify ok work work goal taking empowerment programmes organized octave outpatient rehabilitation centre showing psychiatrist occupational therapist ready find job workat evening finally came house relax tiring day saw tv documentary find people lives worse physical disabilities realize compared lot fortunate grumble fate tell going better person daysome time evening went mother buy bread bought bread came house feel tired easily breathless afraid new medications effects psychologicalmy mother went accident emergency department imh cant wait anymore training day earphones talk people reliant dark glasses earphones frightened people trying bully psychiatrist aampe decided change medications new medicine old medicine yeswe went aampe going drive home mind went blank driving remember dont drive dont like gtltwhen returned home feelings uselessness worthlessness arise medications waited patiently finally sleep day',\n",
       " 'idea imagine water fell sky like maybe clouds added update nice maybe word came rain',\n",
       " 'september month today girlfriend ex ended 3 year relationship pay 40 pocket someones meal complaining threatened fired failed kill 17th end working month free manager forgot apply time law contract paid month wifi got shut yesterday bright found 50 cent coins',\n",
       " 'wish people speak nigh incomprehensible verses speech speaking clear understood way close impossible required social events play mention force known school need moment reflect find old near forgotten local stroll forth place stumble slowly like discovering old aztec ruin seen creature help',\n",
       " 'cousins convince adopted leaving cry eyes till saw newborn pictures birth certificate normal ihdowud kqwhdiqwudj kajsdkqwehdjn akjsbdjkb',\n",
       " 'haha reddit persona gos brrrrrr im way balsy internet',\n",
       " 'im getting drone 6 months saving allowance im gonna buy dji mavic mini drone im gonna post crap ton photos videos gets 2 weeks',\n",
       " 'suicide helpi dont know advice suicide need die method surefire work painful point way worried work pain crap load painkillers sleeping pills lay face bathtub b bunch pills jump roof house cement roof 35ft 14 years old male weigh 125 pounds 5 7also anybody help suicide note anybody want free ferret long care thing care pointthanks everybody',\n",
       " 'didnt best decision madeill start beginning alot details ill try spare boring meaty parts life pointwhen 16 met future wife 15 time year 2006 pretty perfect relationship lost vcard spent moment lived town weekends moved parents 17 closer work anyways transferred schools spent pretty moment outside work long run changed mindsi joined army 2007 went summer basic training south carolina ended getting broken hand wanted didnt join college money stong urge serve father father good finished high school held high school jobs didnt mean graduated june 2008 august decided try luck army worked hard rehab hand chancei inoct 14th 2008 came shipped ft jackson south carolina graduated basic training came home leave christmas planned getting married 17 parents sign loved problem condition finish high school marriedi shipped time georgia job training 5 months gone georgia came received orders schofield barracks hawaii pretty awesome start lives waiting yearswe landed hawaii june 2009 deploy iraq aviation unit prepared prepared teenagers totally unprepared ended going aviation unit instead picked infantry unitnothing relevant story happens 3rd 2010 son greatest thing happened born wife seen cry night 3 delivered greatest moment life compared itfast forward apr 2011 deploy afghanistan strong relationship ordinary bickering fighting strike odd pays bills send pictures son sends packages skypes chance going greati rampr states 3 months landing country ordinary notice wrong picture relationship heri head afghanistan august starts stops paying bills stops sending pictures stops sending care packages shes sure skype biweekly ration money transferred food essentialsthings kind tense bicker money bills things bad planning army start preparing saving doesnt like restricted causes things heat beginning november breaks refused money breaking point happened real type breaking devastated let marriage fall apart petty money shower money save time 30k savingsthings werent relationship sincere break like thatdecember 11th 2011 sgt christopher muniz dies ied fucking kills cried life best friends leave states l best friend chris werent supposed tell death official l facebook messenger asking whats usual im emotional wreck point killed know states clueless bestfriend killedfast forward weeks lateri wake skype wife early morning afghanistan late evening texas says tell wanted wait tomorrow course cant tell expect good insist tell whats upi slept elsemy body shock start trembling crying head spinning severly nauseous im shaking violently typing pleasemy mind wouldnt allow believe bit dialogue normal doesnt matter thing know tell ill weekend dad family number thing ill work accept factshe isnt itit gets point m4 rifle mouth camera threaten blow brains wanted badly come home family kept pulling triggershe agrees stay alive day jan 2nd fly hawaii texas 14th purchased ticket month advance hesitanti force work happy fake trick moods wouldnt lapse depression sick stomache ok happened family come 14 jan calls 30 minutes shes flighti cant im sorrywe im shaking violently cant straight threaten kill thinking alot weeks initial shock worn mild depression taken placei cant wife cant live sonshe knows means throws ill alivei buy plane ticket january 27th time showering gifts constantly requesting large amounts money 500700 things new tires truck registration charges ectaround 14th curiosity gets better manage way facebook find fucker fucking wife find evidence drug use hard pot large quantities pricesi rage hardi straight commander request early leave date deal new issue drugs 2 year old sonthey start ball rolling getting home earlycome 27th skips plane ride againwe time calls best friend bigger base 15 minutes away thing know running outpost looking frantic search sat little office slumped wall defeated man couldnt think living longer sergeant finds particularly close helped bit better timei flight big base combat stress therapists stationed help types issuesi remember laying tent 40 people middle winter covered head toe staring silently crying think 5 years life destroyed wanted end prayed heart stop beating stop breathing wanted stop hurting anythingthat night hardest night lifei woke 30 minutes hoped month nightmare came realization single time real lifei saw combat stress wrote suicide attempts thoughts shocki masked pain masked ambienmy leave got approved left afghanistan 8th february wife officially 6th february decided couldnt fucking deal cat mouse games anymore skipped flights obviously intention going hawaiii going home oneno onei hadnt seen son 7 monthswhatever masked 3 ambiens time mouth nose worked time beingall think month january didnt blow brains gas car hawaii nice painless death away pain landed hawaii 0 dollars waiting tax return supposed deposited dayi america 30 minutes called buddy demanding half tax return child supporti wouldnt nopealot happened febuary point wont bore interested flew texas march rescued son wife lost 80 pounds apparent influence way worst marijuana son happy little family march 8th left hawaii returned texas army 60 days going collegei want story hopefully help 4000 miles away help regret path took couldnt happier killing best decision',\n",
       " 'careeveryone stops killing turn hurt care theyre hurting',\n",
       " 'big sad send commentplease write feeling suicidal right crazy state',\n",
       " 'wanna talk wanna chat im bored preferably girls talk girls dont mind guys wanna talk aswell',\n",
       " 'oh shit mom removed door lock pet died attention need place absolutely ridiculous government said schools state reopened starting 19th october need parents consent opening school want meet friends year shifting new school time meet safety important friend attended ptm today teacher said school decided reopen sad meet friends happy dont school remain safe home dont want sit screen day covid shitty',\n",
       " 'im tiredim tired alive anymore im ready im probably going killing tonight putting coma happens mixture pills high dosage dont want alive anymore coma isnt fully alive guess thats fine im tired',\n",
       " 'ill happy bodyim trans ftm know ill happy entire family disowned choice transition friends person life boyfriend reason havent killed dont want cause pain hes pain trans ive testosterone year wait 18 years family wouldnt let homeless living hotels changes nice arent satisfy large chest going money remove itll years surgery cant wait long anymore ive waited long chest large subtle surgery ill stuck ith double incision scars rest life wont able shirtless people realizing im trans im constant physical pain uterus atrophying cysts dont money remove insurance ill fully functioning dick ill xy chromosomes cant work gyms closed wont open time soon iim 5i cant job terrible mental illness cant interact normally people dont car license dont know drive dont money bus work stuck waiting rotting cant wait longer im tired body',\n",
       " 'turn flashlight 11 pm died turn flashlight phone carefully headset bed instead small ass spider drop ceiling edge blanket im half naked killed crushing blanketthe spider pancake audio jack headset wipe blanket throw bed',\n",
       " 'turned 13 yesterday teenager gangteenager gangteenager gang',\n",
       " 'cant deal anymorei hate bad found searching method kill dont suffer anymore im anymore try reach people feel like im invisible decency talk ask dont want hospital look breakup better project darkness solitude cant deal anymore ive im',\n",
       " 'im doneim ex wife thinking limiting time kids things thinks said cant anymore job im hurting family im told im hurting kids cant hurt im sorry cant',\n",
       " 'dropped prized ornament grandmother feel like shit decorating gave prized ornament artist cant remember accidently dropped went compare helping mom decorate hate people like comparison isnt motivation better felt like shit grandpa got home asked wrong started bawling hate grandparents feel bad couldnt hold grandma goes im victim youre comforting shes turning aggressorvictim thing try comfort says dont need comforting annoying times like love nice friendly 89 time',\n",
       " 'goddammit demon stole bread shit',\n",
       " 'wanna die life shitfuck 2020 fucking yearat beginning year wasnt bad healthy smart 13 year old friends family healthy falling apart dying school didnt 4 tests day life goodit started march 14th bday got 14 thought hey nice day finally 14 school closed 4 weeks maybe people remember birthday like knew remembered 2 best friends family isnt bad born start worldwide lockdown enjoy gifts didbut grandpa got surgery dass lockdown birthday visit untill july cant walk rehabso redo house rid shit grandma bunkering crazy completly lunatic think started started realize crazy family grandpa got flu hospital virus influenza weakend surgeries months alsmost killed fucking coma survived came home july care 3 weeks untill caregiver came helped ok ist smooth sailing untill 20 august brother comunion catholic thing pretty big uncle mom complete fucking lunatics 3 hours transfer shit party home ok comunion went fine good 3 days later wednesday 3rd schoolday year brother stayed home went school usual got home grandma waited home mom called said brother diabetes hes edge heaven earth deadi criedi cried 3 hours straightit muchwas handle couldnt enjoy anymoremy hopes normal fucking life diabetes adhd disabled insulin care patents busy day couldnt visit mom 3 weeksthat fucking killed menow school fucked 4 tests day 3 essays weekmy life blownthanks guys gals read fesls good finally telling someonei cant stress patents anymore thank god sub exists',\n",
       " 'wants free award dont know comment gets',\n",
       " 'needs talk needs new friend im im available im willing listenjust send message good talks lt3 people care things bad good people',\n",
       " 'rlostredditor need help ive sick past days cant stand head hurts body feels hot cold time walking makes feel like giant worse cant eat havent eaten past 2 days tryto eat try feel nauseousim asking cure sickness im asking kinds food eat times',\n",
       " 'anyelsedoes plan want im wondering thats going mind time',\n",
       " 'wanted clarify virtual fully hey school fully virtually entire year choice chose halfway year point felt like itd drastic choice start going miss friends yes going virtual hard time distracted easily use personal computer instead chromebooks hurt eyes screen small',\n",
       " 'start dating tell parents',\n",
       " 'best bi dont care im catfished sexting random strangers online',\n",
       " 'ive attempted suicide 6 times successfully obviously needed tell storythis isnt post preaching itll better divine meaning im alive todayim better im worse honestly feel like going attempt 7ill start beginning guess im gay yeah thats greatas child diagnosed photosensitive epilepsy narcolepsy theyre lepsys common people obviously caused problems life feel like burden people way help function normally normal life possiblethis reasoning attempt didnt want burden people anymore jumped balcony apartment building got away broken rib sprained anklethe second time tried sleeping pills parents found immediately took hospital charcoal bind pills stop taking effect parents took away basically thought possibly kill hardly let sight time night time read online people dying water intoxication tried drank 4l water passed coma day okaymy parents decided break send live brother oslo live helsinki crowded student accommodation night raped group guys reported police decided pursue case wanted home forget iti couldnt forget recurrent nightmares weeks point time sleep episode narcolepsy drove fourth attempt meant wait parents asleep sneak window hit car night werent cars decided sit street cold night hoped die hypothermia found unconscious called ambulancea months later started getting horrible pain stomach chest diagnosed leukemia point think universe playing joke methe fifth time feeling terrible radiation sickness therapy didnt want deal anymore decided drink ovencleaning liquid contains cyanide turns wasnt kill burn lining stomach bit hurts lot recommend sixth time days ago decided try sleeping pills crushed dissolved water time couldnt stopped charcoal turns google lied lethal dose actually lot drank water diluted itso thats thats series unfortunate events ive probably forgotten things mind foggy basic account thingsi know says want die want pain stop dying lesser evils case especially think waste time effort try living dont want possible going die leukemia spare suffering course love things better love happy dont way happensure recover leukemia burden disabilities cant recover suicide come theres avoiding iti know unlikely ill find youve far way things better want better want things change help',\n",
       " 'love girls flirty love send end fucking condom later',\n",
       " 'feel worthless dont know im tryingmost day walk pretty numb dont let feel better truly times tell days like today feel worthless dont know whats point pushing forward ive lost control life ive pushed away left push away friends job money lack trying ive tried lot things lot pains admit im jealous recently deceased cousin bc wish doubt probably wishes feel like trying live things little things rejected kicked im time wish disappear existed know thats possible im going try kill wish magically disappear idk life better feel like worth living worth feels like lost cause',\n",
       " 'rough yeargetting courage pull trigger gun head chest set wanting die im afraid ill survive',\n",
       " 'literally goddamn thing like calories strawberries theyre wonderful',\n",
       " 'come funeral anywayyou idea head legitimately wouldnt missed currently know ive actively suicidal week feeling gets stronger stronger fight misunderstanding squabble time feel like way makes incredibly tempting fucking live especially friends family',\n",
       " 'day 5 posting nonamusing fact laid fact5 ive turkey want',\n",
       " 'crushs sister liking posts instagram shit',\n",
       " 'changei dont know problems traced upbringing missed lot didnt develop properly stunted growth caused problems teen years adult life didnt develop skills needed build career social life worse self destructive behaviors disorders picked way situation looks similar id imagine dont know',\n",
       " 'dad pranked roughly 1700 miles away help live actually impressive',\n",
       " 'overthink literally im help ive overthinking abt different topics like week n im stressed help',\n",
       " 'dont like want fix hard shit overview dont like dont good personality im funny im skinny af dont like heres thing fully realizing hate thought hating fix im starting working eating better friend thats going help think biggest thing personality person definitely wouldnt friends want nicer funnier seen guy people like talk dont know change tbh feel like im asshole half time annoy people annoyed talk need fix knows somethingi need change',\n",
       " 'sexdating life going kill mei tend verbose going little long thanks advance reading means mewithout going detail 26m issues girls sex dating trouble meeting people connecting getting laid etcits destroying mental health 8 years drives suicidal thoughts worst mental breakdown ive weeks agoi dont understand im problems im decent looking dude overcritical 65710 good social skills im smart funny driven good job hobbies dog friends etc cant figure dating thing wholeive hooked girls connections couple girlfriend year girl close dating labels know im hoping possiblei havent sex little year time ex ive sex ive broke nearly 2 12 years ago lack trying ive 5 dates time second dates tons ghosting rejection etc think success wasnt constantim looking therapy im taking care ive tried working game lot growth self evaluation worked physical mental health confidence focused personal development ive work areas life havent change lucksuccesswhatever fucks upits driving crazy know lot offer partner cant understand like wants approach people public places things like likeminded people use dating hookup apps little success im looking 10 mrs right etc action little connection greati need help people',\n",
       " 'started new discord server days ago wanna join wanna join dm mind server new active',\n",
       " 'ive complemented entire life therapist said funny ill let sorry wrong flare cant tell social',\n",
       " 'want choker noooo looks sexual cant matter looks',\n",
       " 'cant focus literally online class bc house goddamn loud hahaha need hahaha cant focus college bc screaming house fffffffff college let campus january bc dont wanna live anymore',\n",
       " 'crisis line gps spoofdoes know spoof callgps crisis line knowing located',\n",
       " 'easiest ways commit suicidecan somebody tell commit suicide dont gun option',\n",
       " 'good future myselfthere lot im stuck family cant escape im getting older older running prospects chance good life good possible outcome die heart attack reach 40 doubt universe mercy like want end monster parents id die mental illness hormone health problems addiction turn thing gives nightmares childhood im forced financially rely brother theres way',\n",
       " 'holding onhey dont know im posting maybe place feel like post ive feeling suicidal recently november raped lesbian girlfriend 4 years sex man yeah cant ive suicidal feelings past reached feel like time cant date idea want spend day thing dont know suicide isnt pretty dont expect thing keeping holding moment mum shes gone life know hurt shes like best friend im pain cant sleep anymore im tired want sleep want feelings stop dont want flashbacks anymore want wake happy cant im family girlfriend friends try happy drains energy im uni mum isnt downstairs shes train ride away want hug im feel want light end tunnel feel like im stuck darkness',\n",
       " 'comment gets award idc trying rid',\n",
       " 'emotion way outthat feel things bad im angry feel like theres way pain apart dying normal like way',\n",
       " 'removing blockeri wanted kill years stopping im assuming instinctual dont know want know remove thing finally im trying find way normal meds treatment talking came close weeks ago began feel sense releasebut im coward posting internet im fucked',\n",
       " 'im girl ask questions want ill answer ill tell u im super bored',\n",
       " 'feel like wake want die moment youve opened eyesbecause havent felt long time wake wishing didnt bed wishing id sleeping good sucks bear kind pain single day lifelately ive thinking perfect time die large groups banned gathering burial wouldnt fanfare like wanted eulogies funeral ceremonies dont want want',\n",
       " 'aint title hi degerenatesim degneratesno im fucking cute idolthats lyrics greatest rap song',\n",
       " 'need helpim 14 year old boy whos fedup tired life im tired seeing classmates things dream aboutim tired teachersim tired parents im tired living',\n",
       " 'hey mods stop banning people answer modmail pls pls tell send yall message mod',\n",
       " 'dream life want find platonic soulmate train hop tied',\n",
       " 'comments best dark joke hour gets wholesome award let games begin',\n",
       " 'life currently worth livingi hate complaining know people way worse wish mind understand thisi feel miserable time hate job matter feel like good job feel time dont live justify stressed time live parents saving place money city relocate rent roof live small country leave town start wish fucking couldi feel like failure way job things left catch im tired time matters worse amazing boyfriend getting tired shit bad mood stressed sad getting tired blame want place keeps saying dont dont fucking want live like adult escape toxic environment quit job start cant cant escape problem suck',\n",
       " 'finding hating dad things years ago tw mentions scide hampmphbia rcism ylling v01ence use word rpe personificationi feel like dads asshole hes racist sexist homophobic transphobic asshole general ive noticed hes yelling lot lately dont feel like actually means feel like stays true beliefs 4 years ago merely suppresses emotions paint good image himselfwhen 713 constantly yell behaving school constantly compare sister cousins continues day lesser extent doesnt compare sister anymore cousins adhd diagnosed age 4 havent taken medication yearish guanfacine adderall started adderall prescription couple weeks ago adhd medication act class got seat didnt follow directions best behavior general mainly yelled sister mom divorced didnt yell took anger usi iep plan 504 plan id bullshit behavioral report sheet rat tell dad wrong hed look scowl fucking scowl sister dad walk truck parked water tower hed yell way homeraising voice like students handmainly shitty behavior hed bitch moan long took exit building comment sister exit building seconds id probably seven minutes time walk door mainly disorganized thirdgrade classrooms farther door contrast firstgrade classrooms literally 50 feet soon entered building hed pissed cold raining hed super pissed bothi tried getting touch school psychologist dad got pissed telling got mad apparently law enforcement came house dont know happened dont know shit know told mouth shut fucking audacity 55 thumbhe lot bullshit threats promises threatening send school bad children pretended school ask enroll saw home screen light screen knew shit scared shitless carry decent sum trauma era remember yelling 3rd grade 6th grade discuss morein 6th grade began utilizing windows movie maker mainly shitposts youtube poops dad didnt like themand didnt like themi delete didnt matter 10 likes didnt like delete mom tells parent beg differ wasnt fucking ceo youtube videos sure hell didnt violate community guidelines fuck snoop fucking youtube channel look videos delete mean dont like content 6th grade eitherbut inappropriate think shitty content mind worst thing videos slap pornhub logo jokehonestly going depressive state end 6th grade day 6th grade cut short dad came pick math teacher saw video class contacted student support center student support center fucking ass miss old school batted eye threw away bad behavioral reports couldve 23 bad marks report 2530 possible good marks hed consider bad called dad picked yelled way home said couldnt watch youtube raping mind escape bullshit parentingsomething occupied sure hell didnt want spend time fucking forced outside 90f weather expected play didnt friends area mainly middlehigh school complex past fucking backyard attend didnt know exist dont know specifically came bisexual laughed called names like mr bisexual took xbox brought couple months ago excuse knows kids sort obsession sex maybe poor wording situation way thing comes mind child opens heart like sexuality deviancy maybe youre problem furthermore mom told situation said didnt xbox poor fucking memory hes gaslighting scumbagafter found youtube yelled sent moms house wrestle stepdad room leave alonei cut leg key looked like hurt wasnt deep cut bleeding mom complied father revoked electronicsand nighti tried kill hangingthere loud bang floor fell mother came upstairs asked going told tried kill took 20 minutes convincing noticed mark neck left extension cord try hang got admitted psychiatric hospital july 1stwhen 7th grade came pretty took father rude obnoxious general mention bigoted racist sexist homophobic transphobic knowing phase extremely regrettable lasted 9th grade wasnt woods thought white privilege myth reverse racism existedduring summer year recorded dad thengirlfriend arguing posted snapchat thought funny dad saw family member yelled im saying shouldnt reprimanded right takes shit far online learning began 3 months wasnt classes wasnt failing said dont assignments turned gonna throw computer window failed funny thing islike alwayshe shit didnt itsome weeks later dad went rant media lies black lives matter terrorist organization sat 20 minutes spacing went upstairs vented friends discord tiktokand againhe found yelled intimidated handing phone didnt ran hands pinned wall yelled hands repeatedly instead victimized gave long talk pointless dont remember said know said like told phone didnt hit youand november december ive thinking shit im sure forgive weeks ago moved new house sister gone store didnt laid ate pizza took shit specific order came berated setting worst iswhen tried helphe criticized feel like shit want help tried matters hands trying things independently dad yelled said dont walk away mom picked couple hours later vented asshole actingnext time came acted like fucking happened victimized said making feel like shit nights later bonded music 2 morning said racist unnecessarily like kinda shit scares black people showed song death metal band like didnt like day went lowes dad couldnt find got berated forgetting shitwhich suggested berates slightest errorsbut turns forgot forgot lying kitchen counter told jokingly said lines maybe youre shithead thought like dont shit fucking hurts people know thatwhenever victimizes says shit like dont talk anymore best buddies acts like hes problem problem',\n",
       " 'looked help day 5today best day taken meds today xd scold playing game today getting new pills meds hope stay positive happy',\n",
       " 'pets strict vegans fight guinea pigs digest meat',\n",
       " 'thisits getting harder everyday downed codeine syrups spasmo finish vodka hopefully wake like time wish hereall best',\n",
       " 'stories attempts failed logicanyone lived attempts feel like definitely killed like ive attempts didnt work like taking bottles pain killers expired ended weirdly high half awake state wondering streets shitting puking blue day asphyxiation decided hanging good way rope broke seconds supposed strong weight limits body weight lived odds',\n",
       " 'update appointment todayi think lot anxiety head depressing anticipated cried till couldnt speak 2 hours left doctors office im left feeling im left hopelessness anger exhaustion couldnt bring tell actually tried kill thoughts im coward raised medicine 150mg maybe thatll work happy zombie dont care im half time want happy depressed told list things happy want nightmares stop thoughts stop yelled boyfriend leave got wanted guess wont talk anymore hurt people ive monster shell happyi wish walk traffic vaporize dont want feel pain dont want thoughts consequences want disappear existed begin thoughts wont stop maybe ill end soonedit listening spotify playlist came thisim gonna die knowand youll find new lovebut want want want cause ill knowhttpswwwyoutubecomwatchvldcki9bkkqm way guitar carries vocals like bitter honey comforting depressing',\n",
       " 'hypocritical contradicting meonly bcus tell suicidal wanted die bcus school school short term worth im right worth kill schoolnow wanting die school reason im anxious stressed time makes physically sick think school thats joke hate hate getting yelled going school feel like im going faint throw happened times hurts dont want mom sad',\n",
       " 'dont care anythingi dont care family husband loves dont want anymore dont care havent sex 2 yearsi quit college 18 hours left dont care ill finishi dont care appearancei dont care ive stolen job ive worked dont conscience dont care caught dont care anymore mom alcoholic loved stay sober stay close byi dont care im deep debt ill makes differencei dont care anymoregoodbye',\n",
       " 'whats yall pp size mines redacted data expunged',\n",
       " 'fuck muffin man needs muffin man motherfucker gets people ask knows like banish muffin man',\n",
       " 'old best friend relationship old crush weird huhi dont care havent talked 2 years find awkward',\n",
       " 'youre allowed preference dont let tell preferences youre cisgender taller think thats preference dont let tell youre allowed preference',\n",
       " 'wish teacher shut mouthsyes struggled online learning quarantine stop reminding 2 fucking seconds im trying overcome passiveaggressively pressuring attempting hide blatant superficiality fucking whore know hypocritical youre ruining unrealistic deadlines showing fake kindnessshut shut shut didnt miss hearing childish voice remote learning stop asking supposed youre trying ego bigger forcing yes uncomfortable question like said mama mia good student ohso rebellious thats phone parentsin end ruined fun amusing manage chuckle likely scenario pleasure entertain good sir humbly accept humansacrifice exchange ohso important reputation egosorry getting little heated hope alright rant subreddit goodnight teacher',\n",
       " 'dont want ive lost everythinghi im sorry pity party im loss try quickbackground 21 years old mentally ill point disability im traumatized sexually physically abused caregivers child disorder debilitating cant sleep night panic attacks hours day lose time drop school 3 tries cant learn focus cant work kept losing bad job skills cant stabilize learn feel bad saying cant cant cant trying years crash burn time morning pick dust act like today im going succeed believe cantyou skil ifyou want got long started getting scrambled ill tldrbut cant think straight cant remember self soothing skills triggered thats try find hobbies read draw try write hardly fun symptoms like said apply disability cant work anymore makes depressed knowing dreams going college dropped high school quit cant barely talk people live ny grandmother im like stray animal panic whever talks im extremely regressive sorry state active friendships online tried support people couldnt try positive crashed burned bad cant calm feel like hate im practically living world abusers cant tell difference partly cant think clearly cut corners feel like im single celled organism making words takes ounce strength makes happy feel like im going dont drive dont ability day tell todays day started exercizing set goals planned projects worked set hours managably thinking going school kind career like mom want overwhelms jsut cant process worst dont want concerted effort tools day try reach try ride bike try work art try read brain wont cooperate time anymore frustrating want control dont want defeated want things matter psyche dont know im going better im agitated right feel like im going faint got crisis stabilization unit yesterday feel worse went ive inpatient earlier year years im therapy try hard sure talk things cant rememeber im making progress feel like im failing cant simplest thingsim like mentally child mom recognizes gave pushing succeed sister spared age shes successful graduating high school going college medical field im braindead dont know whats wrong im broken dont want bei cantvtalk friends mental breakdowns months best friend left week ago wants im unstable hold meaningful conversation wanted im jsut frozen terrified exhausted coping skills dissociation rest coping failures growing seams showing think place bad im dont know dotldr im extremely broken dont want brain wont cooperate matter want simple things im going life feel guilty giving dont want theres things want achieve things wantbto experience simply matter hard try feel hopeless ive completely fallen apart regressive state worst ive child dont want die feel like im going fast dont know come terms im going succeed im juat getting better things im supposed trying heal dont wantbto im end rope dont want die thats left im sorry dont question ask end easier respond dont kind selfish post think',\n",
       " 'nyaa pukes carpet',\n",
       " 'help want die dont know help way help',\n",
       " 'partner yelled god nice youbeing nice challenge partner shes external processor gets pretty mean things bothering hard especially years im medicated im depressed love family especially kids cant help feel like lives ill person bothered shes rude day try deal im breaking im broken think mistake theres way leave place kids live dont want wake anymore bed sad wake acts like cant stand says shes processing dont want live anymore',\n",
       " 'underneath bridge tarp sprung leakand animals ive trappedhave petsand im living grassand drippings ceilingits okay eat fishcause dont feelingssomething waymmmmmm',\n",
       " 'cant stop thinking idk doim junior highschool ive pretty depressed october days cant stop thinking killing october moms husband refuse stepdad attacked drunk ive moved dads house time didnt legal repercussions spending night jail relationship mom kind ruined thats started little month ago girlfriend 7 months broke depression worse short span days didnt hit head punched fridge basically fucked breakup extremely rough guess right im trying avoid seeinghearinghaving feel better makes feel like shit month long highschool relationship guy shes talking shes happy kills like couldnt happy shes told didnt happy lost interest month fucked feel feel like talk dont know dont think ill actually kill knows like think havent heavily contemplated attempted dont know far helped',\n",
       " 'broke class dont know im trying post shit teacher said completely went books fucking broke crying trying prove wrong havent cried year ive embarassed like ignored anyways feel like useless thingi literally idea wasnt reason',\n",
       " 'im scared witsi horrible hallucinations delusions raped forced switch psychiatrists prescribed antipsychotics want die cant kill im lower dosage horrible hate feeling hands violating feel cold hands hate cold dirty hands sick want vomit want cry im going jump dont want touched anymore doesnt listen im scared dont im sorry want im going cant let happen im sorry hurts dont touch im sorry',\n",
       " 'im constantly thinking like wasnt anymorei dont talk anymore im posting hopefully help vent dont know im right life ive dark thoughts mental issues depression ive shitty family situation family confide friends come feels like fault figure wrong im constantly questioning whats wrong different okay im wrong havent tried kill 17 formally diagnosed mental illness psychs thought autism spectrum disorder looked lot sense explain social situations cues hard empathy im 21 medication helps somewhat medication makes away dont job anymore cant afford therapy like ive got coping mechanisms usually help stay afloat arent self destructive art im constantly doubting feeling isnt good year probably worst year lost best friend like brother cancer april havent able cope havent hurt cant stop thinking lost good job lost girl strong feelings died bad car crash dont acts like true friend anymore drugs stuff im straight edge makes feel isolated alienated havent house refill medicine weeks ago feel plan wanted cant stop thinking im afraid leave little sister best friends mom dont want disappoint supposed live like supposed away think want disappear feel like im going absolutely great opportunity ahead brain defaults oh youre gonna youll fuck like im rambling im lost want bad love cant cant confidence self esteem destroyed years bullying broken friendships domestic abuse dont know im afraid day wont able bad thoughts bay ill dont know im anymore',\n",
       " 'found crush lesbian context im straightanyways im talking friend class end talking girl class think shes lesbian ask sure says like women seats talk hunches right blue friend says crush honestly shocked person id think crush im awkward wait end class tell liked tooi later said day like movie thought cool story tell subreddit',\n",
       " 'oim haf haf dads moggle mams witch bittuva nasty shock im found',\n",
       " 'people heartbreaksbreakups killing themselvesive relationship amazing girl 3 years girl girl dreams think getting oldolder life want says feelings fading away loves imagine future forming family says personalities clash says feelings changed personality favorite world feelings stronger time ldr living like 25 years pretty technically near future relationship decided feelings fading day add insult injury relationship ending depressing far graduated year ago cant find job life leave country dreams single friend exaggeration dont distant friends acquaintanceshow kill life logically know people break die day horrible heartbreak maybe worse hard imagine personally supposed imagine life imagine year 5 years 20 years dont want day plans visions know time heals dont time dont feel better right cant bear pain cant deal know getting depression medsssris help acute state heartbreak fast relief need stop hurting mature strong dont think',\n",
       " 'suicide feels like sooner later option cant find excuse push laterim twentytwo im trans week marks year started hrt doesnt feel like milestone accomplishment feels hard feel utterly numb guess ive passively suicidal ages months ive come terms fact im going kill later right dont point dragging rest life longer needs theres fulfilling pursuing useless liberal arts degree working shitty deadend job constantly broke hungry free time smoke weed watch tv read life existing poorly parents dont like best im annoyance worst im embarrassment topic brings christmas time matter friends great people love cant deal burden weird fuckedup way makes sense people pain dealing killing force endure weakness neediness complete inconvenience existence hate utterly totally find difficult imagine wont eventually reach conclusioni dont want statistic depressed trans person ends killing im fucking cliche know come ive depressed nearly years ive therapy ive medicated thing helps cutting feel better lately think look guys age know ill fit ill fall love job meet function like normal fucking human im awkward ugly completely pathetic matter ive spent years trying fucking hard hard feel tremendously guilty putting coming emptyhanded fucking lost ive alienated friends family people showed kindness acceptance im selfish asshole dont want way dont anymore im afraid completely transparent know irl feels like im obliging people talk dont want talked life going feel like dont want im tired tired feeling utterly numb people love care im sick existing waste human guess im posting ive thought leaving note ends sounding rote melodramatic sanctimonious flat thank took time read',\n",
       " 'advice families suicide attempt survivorsnot sure right sub im crisis moment found hours ago mom overdosed prescription pills left note afternoon dad found acted quickly shes currently hospital unconscious stable im 4 hours away hopping train tomorrow morning im shocked devestated absolutely heart broken mom like salt earth im running conversation clues talked yesterday plans january im blind sighted crushed feel emotion shock sadness relentless im looking resources guidance support offer dont know whats expected dont know im supposed right care mom',\n",
       " 'dear literally trans girl uh maybe like uh date',\n",
       " 'whats wrong everyoneeveryone judgemental hateful different opinion open live world theres human connections anymore valued productivity thats human',\n",
       " 'confidence ask girl know easier said like help',\n",
       " 'discord users moderators post memes announcements felt touch woman',\n",
       " 'theres want life anymore thing makes happy friendship ive feel life pointlesshey redditi dont expect able help thought id try sorry length tend easily misunderstood wanted try avoid summary end neededive able connect people meaningful way aspergers syndrome know know internet doesnt days diagnosed year unlike aspies know deeply craved personal relationships preferring left time im actually able come normalish merely shyquiet somewhat eccentric attempt merely form friendships based false exterior ive learned worthless dont friends allive wanted kill long remember started feeling suicidal 2002 14 2007 decided kill 1 year couldnt 1 straight week wanting alive way hasty stupid decision 2008 came went didnt trying friends sent message myspace thought maybe chance friends didnt mom found intention ended hospitalized ive felt bad mom cant living reasoni narrow range interests enjoy listening music singing creative works music creation photography videography writing enjoy web design programming interest faded things happy lasting time insignificant lot times dont feel like thing makes truly happy want live feel hope friendship relationship ive best friend boyfriend im gay friendship heading direction hope ive wanted life personal connection im interested typical goals people life like college career etc wouldnt care homeless stuff like important reasonafter burned times handle decided stop seeking personal relationships know sounds like theres problem right gave good reason literally succeeded significant personal friendship real life new failure piles weight past failures hopes things fail absolutely handle dont want anymore dont think come alive sort attachment issue causes like people way like person like important person world actively avoiding personal relationships nowi thought decision stop needing people complete best thing took fair work start selfvalidating instead looking validation unfortunately continue effect didnt ive started feeling overwhelmingly depressed lonely fuck dont know anymore seriously clue think answer cant want people cant want people cant outright ignore theres want life reason im alive nerve suicide 21st birthday coming weeks alcohol system think ill finally able posting want kill ive wanted long practically life aspiration point im posting case comes hadnt thought ofother notes tried therapy psychotherapy year dont think helped tried antidepressants didnt noticeable effect tried overdosing slightly tried exercising regularly helped little bit wouldnt mood happy felt like crap overall life bit temporary giddiness giddiness lack better word didnt care caused stupid things caring consequences basically totally different person didnt like stress weird chemical happylike feeling whilst hating life actually changed conflicting feelings makes content moment doesnt motivate life longterm guess thing havent tried diet thats dont money buy food know eat im wary hacking brain feel happy actually changing life experience giddiness didnt likelastly hopefully goes saying dont reply harsh tone insensitivity found doesnt help makes interpret message personal attack absorb advice contained want man tell grateful ethiopian children love warm bed understand wont helpfultldr ive able connect people meaningful way unlikely stopped trying theres care life im motivated typical areas people college career etc range interests narrow suffice ive tried therapy antidepressants exercise dont currently means try special diet dont think diet work experience exercise',\n",
       " 'ive planned kill birthday month todayi got month left live ive planned ive totally given life dont necessarily want die dont point living wish impossible help ive thoughts killing long remember im depression friends parents dont talk family left im unable life year year fix ive failed totally age 27 think late ive stagnated long im sick energy dont know life track ill use education spent best years ill job hard worked ill friends im staying day night forever looks write home fades hair repair face loosing contours totally pointless feel totally wasted im exhausted im disappointing im im readyi gave year couldnt im',\n",
       " 'hate people dismiss openly suicidal quiet kill selves people shocked like said didnt know wake tf love stop dismissing feelmy parents kicked suicidal family friend killed suffering knowing relatively happy good life mother panicking handed knife',\n",
       " 'confusioni dont want live dont want die im push pull dont know im afraid living im afraid dying im afraid trying ahead kill care people love dont want commit suicide dont want sit love living loving loved im trying trying living dying',\n",
       " 'im tired says got bed early like thats gonna',\n",
       " 'like cucumber itd nice eat cucumber togetherjk jk hahah',\n",
       " 'easier upwow hoping wouldnt againbut amthings got little better posted clearly didnt stick feel like finally time maybe people wouldnt constantly clean mistakes care',\n",
       " 'important 60 seconds minute passes africa stop',\n",
       " 'know bad cant stop thinking suicide daytimeits likely going better 12 years depression 14 years anxiety ive tried nearly meds ive seen countless therapists im therapy works ive pushed away friends ive quit school cant fucking care family ultra christian letusshovejesusdownyourthroat cant tell dont believe try talk depression im told need committed prayer im possessed im caring hope flying window waste im waste potential',\n",
       " 'feeling worthlessand consuming like cant 30 minutes dwelling wrong mei try distract mind focus things spiral thinking want exist anymore wanna evaporate disappeareven fun things feel like chore hard motivated dread work school work days feel relaxed cant im worrying things need doneim constantly counting time time left work time left day need sleep time assignment feel anxious timei feel unlovable stupid ugly honestly dont think feelings away tries tell true dont think think havent noticed yetim going good feel way best distract bit whats point thats fair source happiness dont know handle hopes thinking loves eventually leavei dont know mess things wish fix stop bad wish wasnt dumb wish better looking wish people care unconditionally know dont deserve',\n",
       " 'feel like live forevery day dont hobbies dont friends met girl doesnt want dont car dont job im stuck right im thinking ending',\n",
       " 'sorting new post people sorting new realistically isnt making past new good day guess',\n",
       " '252 time time time time running friendsoh whats past 252 hows future',\n",
       " 'life getting difficulti fix damage like fix mistakes welland dont means stay wallowing misery rest daysboth roads difficult pretty change fix youll fucked rest daysits like earn earn right happy unlike people happiness existingi dont react peoples kindness like cant comprehend didnt accept instances people offered friendship wanted know afraid roasted againand look got',\n",
       " 'wish life end rni dont wanna think dont want pain dont care anymore im close hurt dont care tiny bit hurt want dont wanna exist anymore life special wish wasnt wasted wish away',\n",
       " 'im feeling suicidal im depressedalright im 20 im year universityi battled depression years university point killed year reason incident decided turn life change things suicidal reasons mainly poor grades lack hope future turn vowed think suicide againbut find time different reasons things arent perfect reason feel suicidal friends guess close major trust issues lovely parents bright future work hard semester exchange spain semester thingslike said things arent perfect guess im tired trying pretend ive tried let things slide remain happy didnt want depressionnow meaningless life long way want frankly im exhausted im privileged things life dont continue work hard fight want im lazy things dont point things meaning im sure im im calm scared situation',\n",
       " 'need read im killing need vent outim going kill need convince need vent friends share sentiments withim tired talent fucking doesnt matter easy task manage mess everythibg hate heart suicidal thoughts wont pursue coz mom suffer countryi dont know worthless piece shit like living mean litererally contribute world count taxes co2 know said im going comnit suicide honest want gone weak weak world disappoint everybody disappoint im stupid fucking embarrassment people know',\n",
       " 'noose ready im scared ill change mind lateive severely depressed nearly 10 years yes im able happy long want pit chest end attempted slit throat 8 overdosed multiple times middle school tried shoot year ago havent active attempts years seriously considered slitting wrists im end rope literally st point dont know left world',\n",
       " 'love wanted',\n",
       " 'people sex young age anybody pedos tho ho want answer type fillerfillerfillerfillerfillerfillerfillerfillerfillerfillerfillerfillerfillerfillerfillerfillerfillerfillerfiller',\n",
       " 'kid ill good dad like dad mean ill spend time kids let pet want wont like dads saying dont want insert animal play poker',\n",
       " 'advice thing hair fine wanna grow bit like shoulder length longer normal grandma thinks cut gets longer dont want cut yes',\n",
       " 'feeling low missing mom',\n",
       " 'reason livebut like genuine reason want bed want worth living',\n",
       " 'im broken inside cant things getting betterim 15 im planning end things tonight course ive said hundreds times wrote countless suicide notes cried tears time feels different instead hysterically crying listening sad songs dark strange sense eery calm washed tell time come ive cutting 12 recently quash pain anymore want life stop im cut world dont fit life shown againi parents divorced dont shit anymore work day nights stopping yell ive wrong happens frequently im useless piece shit ive friends acquaintances lives wont change slightest live die going im average looking im smart im probably bad conversationalist cares hope successful future grades shit adulthood ill probably end homeless crack addict street cant anymore tears coming guess words',\n",
       " 'committed ending itso ive come close finally committing finalizing things reservations im concerned son affect time im end rope hanging tiniest threadsive modified bullets technically cartridges grinding cross patterns tips theyll spray open lethal helping guarantee successful know complete know aim sure itll lights bodyim close im slightly struggling fear pulling trigger ive told itll quick equivalent maybe stung bee hurt brief moment ill dead soon itll forever sleep free pain life ive endured 25 years relief ive comfortable finally look forward serenity',\n",
       " 'gotten response herehello im posting im options talk like read help dont think living anymorei 19 year old guy lives shitty state wisconsin ive dealt depression majority life starting parents divorced 6 theres ton wont past experiences cares anywayheres important things living father 9 years got big altercation week gotten actual like fight times past months hits ton stuff father laid hand thisive living aunt past week nice eating mei began talking ex half months ago shes thing helps ive fucking depressed angry ive taking daily im pretty sure ive lost havent heard yesterday morningwe talk everydayi know cant rely happiness ive tried letting cant love shes helped life given shit treat like shit doesnt deserve shes brightest day arguing better best conversation elsebut ive ruined add stuff dad depressionand im end ive given lot thought want ill stop feeling like death day close eyes open againim sorry',\n",
       " 'painful way end iti want pure answers sorrow stories',\n",
       " 'emptinessive persistent sensation emptiness find caught introspective moment soulsearching remains vestige soul left search people pass street faces bathed soft electric glow cellphonelight glassyeyed automata eternally sifting cyberspace opportunities vicariously live unattainable fantasiesthe philosophical difficulties ive struggling intimately connected personal ones half time feel word omnipotent remaining half feel worthless garbagerecently come believe possess free human life possess intrinsic value free abstraction intended describe combination microscopicallyrandom processes shape everyday decisions emergent property way metaphysical abstracted tangible free law large numbers action smoothing crevices personal illusionsthe reason man wouldnt torture dime fear retribution human morality invention designed protect interests civilization perpetuate human lineage motif manifested history politics religion thou shalt kill flock grow absence laws fear punishment man worst kind savage baseline value attached human life cant equal decry hitler evil raving madmen slay millions power true evil lies feckless crowds sheep jostling saluteall feel poor specimen humanity connect imagine feel decide im intelligent intelligent good friends ill marryi thought seek refuge academia pursue interests relatively unhampered quotidian drudgery plagues areas work ready apply college slowly realizing good school academic growth stunted greatly early years schools responded aspergers diagnosis included physical restraint intimidation forced confinement sensory deprivation room punishment swearing needless disillusioned school nominated times gifted program managed perform tests assumed years mean retarded later realized failed gain entrance spite iq school district poorlyvalidated assessments designed measure intelligence se refused consider genuine intelligence tests equity concerns performance highly variable individual test 3rd grade suggested extremely unusual cognitive profile abstract verbal reasoning 164 99999th percentile 70 points higher belowaverage verbal score attained school tests visual perception 104 hair average thought possible underestimate noncooperation testing later nonverbal test visual perceptionreasoning 148 999th percentile working memory characterized high average superior flatout refused processing speed tested nearly certain average assuming patchwork results close accurate suggest reasoning abilities standard deviations ability perform lowlevel information processing relatively low cpi crippled work output reasoning chops difficult relate people wisciv tech report 7 148 taken accurate representation nonverbal reasoning general reasoning 167168 assuming hypothesized 30point communication range holds lower limit 137 138 represents 9935th percentile problematic coupled disability believe effectively sealed vast majority social world good thing bad dont think number iq test spits represents complexity human intelligence im actually smarter average person im abnormal counts socially recently ive able match academic potential achievement school attained perfect score act took grad math class 16 feel like lie improbable things class easy earlier ive failed maybe cheated subconsciously maybe test right im 168 164 148 104 average whats chance happening people reality pearly inside coma druginduced stupor ive developed severe insomnia fear nights fewer hours sleep permanently damaged brain college colleges want academics days want leadership cavalcade nebulous social parameters good academics isolation thats ticket straight thirdstring institution wind place ill hope genuine connection ill probably wind place hope genuine connection catch22whats point life feels fake human society rotten core pass judgment easily gossip blather vacuous tripe proclaim supreme adjudication criminal cases proceed execute innocent pump metric ton metric ton greenhouse hases atmosphere care world frustrated warm weather torture rape lie steal cheat kill scant moments triumph dust wind food earthworms ear universe lent hear troubles species blight',\n",
       " 'think tonights nightim tired im tired job im tired school im tired im tired day fun anymore people ask wanted life idea anymore maybe didmy friends dont care guess lost years ago quit swim probably biggest mistake life filled better tried harder better friend fucked failings tried harder moreim sure im making post dont know dont care time post like told cut self pitying arrogance sure expectso 74 pills 20 mg citalopram im sure thats kill im drunk bottle generic version lamisil lamisil real medicine think prescribed fix weird fungal thing toenail probably maybe im lucky thatll send way maybe ill end psych ward fun find outits funny dont feel depressed sad kinda relieving choice bottle maybe better im sitting staring bottles old swimming trophies ribbons guess thing good real accomplishment 19 fucking years talking friend today whos swim meet day high school swim good old days ruin didnt miss days im sorry fucked fucked badly better im sure ranting boring point guess ill stop dont care',\n",
       " 'yeah sex cool speedrunned minecraft beat 197 minutes',\n",
       " 'tell teacher anxiety issues affecting focus class teacher isnt typical boring english teacher hes great teacher tries engage intense kinda vibe anxiety goes wild everytime im class thought randomly choosing answer questions etc messes im trying focusing class anxiety takes',\n",
       " 'spotify playlist dollar woodsdj keemstar loop',\n",
       " 'living tortureive posted times wish dead dont guts iti know dying family excruciating pain watching family suffer shit bearim unstable cant provide need happy successful kills inside didnt ask brought world im putting wife helli wish family better died better lives wouldnt hanging necks like weighted stoneim starting think need tremendous shock eventually tremendous weight liftedbut im coward happen ill stuck living hell inflicting suffering people love watch endure hell exists deserve',\n",
       " 'fucked real bad accidentally sent picture answers group chat class including teachers quiz',\n",
       " 'help meee ive snapping crush forth couple days yk like sending pictures forth want tell ask parents wont let date pls tell im afraid wait long ill miss chance think like',\n",
       " 'want myselfim negative drain know people worked hard try feel better mom tried therapist best friend im better feel like burden feel like killed self ill person worry cant roommate sort need right bills know mom sad im sad watching frustrated im better want die bad want day',\n",
       " 'world definitely realhave eved feeling meditating cost life core values life doesnt fitlike world obviously real world theres brokensorry unstructured thought idea cant leave mind following confirmation bias constantly showing evidence true thoughts',\n",
       " 'buddy strap pizza cutters shoes like roller skates hill sweat rolls chin palms moisten gives nudge smiles hesitation begin roll hill buddy trailing goes realize theres breaks intersection find blazing feel heart stop 79 kg weight pull lungs trip short lived teenage boy cant steer maybe forgot collision hits like truck bricks screams panic complete confusion lay helplessly pavement sobering adrenaline notice youve taken chunk finger hes screaming crying blood pooling road think wish havent time hill stop cant bad dream isnt dream taken',\n",
       " 'got job finally got job uncles business today im exhausted happy',\n",
       " 'best mobile apps excluding games filler filler filler filler filler filler filler filler filler filler filler filler filler filler filler filler filler filler filler filler filler filler filler filler filler filler filler filler filler filler',\n",
       " 'wanna girl time feel like shes gonna tired cause im tryna hangout n notin defense enjoy company thanks listening ted talk',\n",
       " 'giving random animal facts inevitably forget day 6 think termites eat grass animals african savannacombined',\n",
       " 'wanted listen smhfor months wanted talk sleepless nights selfinduced weekend drug comas loneliness fact suicide think abouthow naive means paychequetheyre liars',\n",
       " 'douaaabt ill wish wouldi guess serve therepuedica way ventexpress feelings onenot best friend knows certain feel fuck himcant beleive asshole oh hell donte haave energy explain goodbye world world fucking hypocrites human disease kind cliche afterlife hope horrible ill finish bottle wake later fuck captcha shit barely right fucking failure cant express expletives',\n",
       " 'anime sucks dick weebs gross downvote',\n",
       " 'dumb way living thing thats keeping killing konosuba lightnovel',\n",
       " 'life hardi recently got kicked love life living dysfunctional family including relative abused child im stressed everyday point makes ulcers act dont insurance cant doctor sorted im bipolar trying strong mixed episode pet rats exfiance idea theyre cared safe barely sleep pain wakes times night feel completely lost life im scared idea losing man care family couldnt help mental health wanted im helping debts idea ill resources left fact likely lost love life mental illness hurts barely force eat feel nauseous time im trying stay strong insurance sorted mental hospital feels like sense stability slipping away lost friends feel',\n",
       " 'im young save herim 17 ive helped depressed lost people girlfriend going worst lives far away talking cant physically help anymore ex told cut ugly face kill random kids school step away moderator minecraft hobby bored said kill thinks shes ugly fat cuts im confused standards beauty shes actually gorgeous skinny attempted overdose pills failed thought getting better attempted overdose thanks worthless fuck telling kill herselfwhy world evil shes innocent quiet wants die loses trust feels ill end like love heart listen stunningly gorgeous cuts im young someones communication help',\n",
       " 'god calls sweetie literally feel butterflies stomach jesus christ im sure like feeling',\n",
       " 'dont want bored longerwhats point life theres life sitting influenced bullshit online theres aspect life left isnt completely influenced random shit ive seen online wake evwry day online day try school whats fucking point look phone day finish degree useless accounting classes want kill work job makes want kill havent friends 10 years old younger autism ive sexually trafficked seen worst world hobbies talents comfy home life im pretty privileged end makes feel guilty ashamed existing end day bad world outweighs good',\n",
       " 'tired world giving sounds goodi started thinking meaning life seriously years ago reason man struggles comes rehashed answer love obvious point trying find permanent happiness world reason wake morning love brings happiness brings happiness person love love matter badly treat let interestingly love thing standing way let love moment ripped life think wont find love like dont care anybody happens point life vanishes leaving endless grind dayin dayout purpose logically come options things better murder course letting anybody know gone letting come kill let happy come staring abyss nothingness forever called life',\n",
       " 'wish bornim 15 years old born whinyarrogant annoying family friend live lie positive things positive things rare whiny narcissistic commonly liedand liei guess victim complex dont like criticism short temper hurt sibling friendships unhealthy ive relationshipseven remorseful im actually dont wrong wish wasnt terrible person terrible things ive happened low empathy guess know thing wrong guilt feeling thereeven pyschotherapy sort thing good person things stay rest life forever people internet people low empathy people mental disorders caise bad people cured potentially theyre rigjt guessthere point live want die wish come shot head dont know suicidei feel bad family theyre wasted 15 fucking years 15 years hope ive somewhat manage kill leave suicide note telling terrible things ive truth dont knoe things ive friends sibling think im good bad want truth',\n",
       " 'weekly routine lol monday morning wake depression hits realize work drink coffee work tuesday morning wake happy monday sad early week work wednesday morning wake 3 work days left hey hump day work thursday morning wake getting closer work home thursday night alright bois friday starting excited friday morning wake friday work happy cheerful work 500 run office screaming yelling like madman friday night weekend hop car drive home way speed limit bed order pizza watch tv eat pizza wait dark head nightclub meet friends super drunk dance night home 4 pass bed saturday afternoon wake noon hungover relax home watch tv day saturday night oh boy dark tons crazy shit fun party clubbing meet friends great time home late night sunday morning wake bit hungover dressed brush teeth church repent weekend sins accepted jesus lord savior cleanse communion sunday morning home sunday afternoon meet christian friends bible study prayer sunday night comes reflect amazing weekend starting sad know day monday monday morning wake weekly routine restarts guys weekly routine',\n",
       " 'fiance homelifemy sister got fight recently met year ago grew apart wanted stuff said like mom loved cared memy mom dad traffiked beat lock room years sister said got grow wont let tell sexually abused 3 family members 4 grew withi sexually assaulted laughed itthen cut contact week sent things fiance good time enjoying going kill saying drove walmart look funampx200bi found 3 days cheated cousin shes younger 18 idk anywayshe crying hard saying didnt mean got hand recently helped new car broken 2016 car nice way nice thing messaged look new car pretty ill come spiraled sexting time wish werent cousins going throw mad sad shaking told riling fought begging knees forgive told hated girls eyebrows etc complimented mad accidently knocked cup like purpose somethingthen girl shes told hated girls upi read messages lips perfect shes precious gross time makes think hes complimented like said sexted sex anymore hurts sex said wasnt asking sex alotthey sex lives like mexico im heartbroken im thinking killing myselfhe knew week sister left heartbroken thishe guy cheat ended thinking wrong helped u new car got u car insurance ur family mad moved said stopbut told family loved feel horrible cant stop sitting thinking cant cry anymore found cheated cold crying sobbed stared like cried im tired ampx200bmy life pain family hates hurt real relationship good like happenedi dont want diminish feelings anymore want leave want stop life worthless victim thought wrong way want attention dont care die sit everyones punching bag goodbye life',\n",
       " 'good thing happens today wont kill work longi close killing way felt drained tired listless hate friends isolate pure complacency wrong gone wrong look tiniest bit joy life day stupidest fucking reason kill favorite youtuber replied comment patreon reason im sitting shitty tiny ikea desk 717 pm writing post right terrible nicotine addiction havent energy leave house buy juul pods found desk drawer tiny bit juice left didnt kill morning package ive waiting month arrived recently didnt kill attended online class instead im going goes right use excuse living daytoday im fucking tired tiny victories want day good thats actually sizable long run people care mom dad handle brunt long know itll hurt theyll appreciate free constant selfpity apathy complacency etc etc etc im writing note stepdad lurks internet activity hell im sub im sure theyll connect dots im gone',\n",
       " 'cat thing lap jumped crotch shit hurt',\n",
       " 'itd easyi respiratory depressants drawer right kill dozens people possibly hundredsi create perfect cocktail massive amounts opioids benzos ketamine gbl betablockers body cant produce adrenaline counteract',\n",
       " 'whats wrong imagination dream tiny planet aliens crashed porch',\n",
       " 'im making alt account need suggestions',\n",
       " 'idk m8not exactly discouraging things commonly subreddit wanna vent bit lol earlier today felt episode coming began struggle dissacociating started playing minecraft felt motivation enjoyment decrease left middle game suddenly feels appealing hate quick kind things come example walking suddenly lost motivation stood',\n",
       " 'know actual good experience mental hospitali want diehi im 23 years old want end got cutting 6 times extremely dramaticpsycho im sure wrong diagnosed depression anxiety bipolar borderline personality disorder need attention completely sad im 53 weighing 240 feel gross look gross suffer sexual emotional abuse different people currently think killing everyday 7 year old daughter know better husband ive 13 look left long time ago suicidal 10 sister physically abuse parents toxic husband makes feel like feelings dont matter thought mental illness bs tired treating like complete shit left year got love man times hate today want kill soooo stupid didnt day stayed bed know im depressed shit came home said isnt clean said shit floor bathroom dirty said clean work cant like shower maybe week maybe longer makes think energy clean damn house deal daughter day told cook clean today didnt said oh ungrateful cook clean didnt mean like lost said alll said clean said 4 minutes clean cant said 4 minutes clean breakdown hatred grew stronger time looking like craziest bitch days acts like angel idk havent told cut point idc need help expensive medications working idk lot problem arent worth',\n",
       " 'suicidalpersonally 26 years old lost like 100000 savings year sex work 30000 probably emergency fund cant spend planning quit sex work hopefully enter real relationship life buy car rent live etc family forced quit year disown loss freedom becameextremely angry depressed point feeling suicidal lost money worked year covid didnt affect area couldve worked year safely andi 200000 friends boyfriend family support moneyi hoping save money spoil nice car apartment work time try meeting friendsboyfriend study hoping spoil surgery confidence beautiful looks honestly helps open doors im depressed hope die 31 cant bothered study anymoreif dont time look partner doubt lets real 30 chances forever singles dropping chance relationship moment im feeling depressed insane kill anymore dream dead feel better sadly makes feel lot better',\n",
       " 'hope joy optimism future gone disgusting diseased failure absolutely hard work kindness ive showed lifedeleted',\n",
       " 'wrote combined kill mei overdosed times beforebut work careful calculated stealing random pills relativescopied notessvelta mig tvr til rjr vikur fyrst gera etta allt tman maga43 paracetamolacetaminophel 500mg6 hjartamagnlacetylsalic acid 75mg4 quetiapin actavis 25mg2 dimenhydrinate 50mg6 prednisolone actavis 5mg4 wellbutrin veit ekki mg3 concerta veit ekki mg36 alprazolam 025 mg39 tylenolibuprofen23gr kkan2 kassar af srusterkt fengipoki yfir hausinn herbergi ea elliarrdal',\n",
       " 'forget guys skirts butterfly knives classy swordsmanship ive got documentary hometown httpsyoutubebpsy7ndneqdo split nominee oscars documentary features',\n",
       " 'honestly fuck life build pc build long shit nearly entire year planning discussion research saving went moment unbox parts getting hyped friends hyped ill able game better pc shitty old dell find open case boxa massive fist sized dent casenow seller going ages replacement buy new casekill',\n",
       " 'know template shows says expert photo person low opacity dont know im explaining looking template help',\n",
       " 'legitimacy shamei brought avoided opportunity step chose shame pushing people away left infinite shame chosen life including smallest mannerisms room mind intention leaving dont like direction things going dunno tell dont want dont want things dont want wake day like invasive alien experience like descriptions read phantom limb gender dysphoria want quietly peacefully gone thing tell',\n",
       " 'laughing meme teachers 30 homework fucked online class checked homework 25 week today weekhelp',\n",
       " 'seeing point crawling forward anymore thinking suicide tonight calm way hopefully wont coward time actually mindim sure writing post feel talk feel emotionally numb cant cry barely feel emotions death suicide doesnt bother im fine want im complete 0 real life dont tell experienced real life walking home school way ive spent life online tried finding friends love online friends exactly im looking able somewhat feel love person means 500 friendsi tried times find love people end dumped meput away cases horrible barely picked somewhat friendly hurt hopeless giving upsome hours ago person told want friends dont feel thing anymore like feelings fade away messaging stops lovey stops falls trying hold feel like time met working itim wreck probably mental issues dont know thats true wasnt checked dont want checked atleast place live struggle lot things feel useless worthless barely energy daily basis things normal people im negative overthink lot im trying positive friendly good person im openi panic overthink person goes doesnt reply isnt lovey im paying attention smallest details feel like going slowly end falling apart like felt beginningim people tried best finding perfect thought found lost im people horrible use ladder climb leave punch backi wont able find like mindset thoughts relationship things associated etci completely didnt mind actually tonight',\n",
       " 'got close killing night second time need talk right feel aloneive suffering depression middle school im 21 yesterday feeling like shit like usual got tiff boyfriend open im feeling cry bed like hour leave instead going home drive mountain overlooks city cried car hours contemplate suicide yesterday decided finally started driving golden gate bridge live hour away way san francisco realized method ridiculous im horribly afraid heights cant kill right care dogs family owns going country months weeks died wouldnt walk pugsyeah im 21 years old job dog walker im scared real job im loser love dogs unconditionally love kind lame reason know dont friends new friends college dont talk old friends high school cant talk boyfriend depression difficult blames gets frustrated cant deal time talk depression honestly makes feel worse told time tried commit suicide rope car planning going park feel use talk right',\n",
       " 'stupid fcking loseri messed twitch account lost twitch prime claim free gameslootetc subscribe friends channels thing theres way dads amazon prime acc order twitch prime cant ask fcking password hell pissed actually hes probably pissed explicitly told fine twitch prime amazon account long didnt receive garbage emails sure didnt happen probably received tons emails today messed damn twitch acc fucking dumb actually fucking poor cant pay damn stupid amazon prime account mean cmon im 21 live mom mom dad pay stuff cant find stupid job shitty depression sleep day wake feeling like fucking loser idk dont kill seriously think itd better bc wouldnt live stupid fking burden fucking hate wish cut arm right angry right nowi biggest loser universe job andor leaving home 21years old friends normal ppl im stupid fucking piece dog shit sitting stupid gaming computer dad gave 2010 playing games day taking damn antidepressants everydayi fucking life im trashif comes troll piece shit fuck',\n",
       " 'talk pleasenothing helping gets worse time mid 30s feeling desire live',\n",
       " 'hate ppl gets betteridk feel like shit says dont think itll better',\n",
       " 'girls remember thing straight guys friends theyre hoping youll let hit day',\n",
       " 'tale lives feels like im reaching end line faulthey reddit im going lie im scared edge wanting end new ive way 2006 middle school picked failing classes partner assignments wanting partner silly iust wanted treated normally people eww gross scream oh god outcast wanted end family found mother flipped spent couple months therapyin high school similar situation came time girls found liked hysterical like end lives girl spent entire class making fun halloween party suggested girl cute couple started screaming like raped incidents haunted spent high school counseling took hobby lead career hobby government end high school relationship ended 3 months went server depression tried ending couldnt bring thankfully exactly month later opportunity came run planning commission wonunfortunately family disapproved told wanted government wanted university study business election city council years later started open school work going way school new program started helped people grandmother talk step cousin university said embarrassing friends grandchildren graduated hurt fully supportive mother politician 90smy pain relationship subsided loved new job looking fix romantic pain unfortunately turned adult entertainment ease pain temporary girl met ended keeping contact spend weekends shed gifts sweet things time fought insisted folding clothes giving message return wanted send money family closest thing thought ideal romance lasted 6 months cost high turned college fund ended depleting broke contact tried reconnect heard sweet guy true gentleman care family wont let college expecting university week accepted year fell technicality english class community college conflict job live home family threats forcing job wasnt university admitted issue money problem worked hard job feel complete shame happened wanted end stop merry round emotional pain gone 2006 time want forward dreams looking lead political group 20 people supporting endeavors dont know anymore fault im boxed insorry super long post',\n",
       " 'tomorrow day finally went fate kindi created post ago stating plans life weekend unfortunately able know like good news isnt isnti prepared thought planning stabbing deeply possible sword imagining demise filled happinessthe reason im unable end boyfriend danger course thing want hurt hes understanding supportive thoughts couldnt ask support hes literally best thing thats happened keeps going completely insane feel sanity starting vanish thishowever makes life bearable im suffering indescribable mental physical pain pain person handle boyfriend understands reached breaking point long agoi planning skype wanted hear voice time went plans recently realized legal risks create cops easily look skype conversations consider boyfriend assisted suicide doesnt deserve punished actions extremely kind supportive individual learning theres way hell id biggest asshole world sacrificed escapehowever thought able commit suicide anytime past comforted greatly panic attacks breakdowns comforti feel trapped way escape im forced stay hell die natural causes wanted death caused meeverythings closing feel broken dont know anymore im capable crying kind life want live im forced tosuicide crosses mind minutes know ill able matter tempting',\n",
       " 'need diegrandma dying soon havent wanted live 2 years dont actually want things better want fucking die fuck future want stay fuck living decades longer time realize ill potentially live 70 80 years feel extremely suicidal feel like killing self harming wish medically assisted suicide cant kill ill self harm brain damage hurt bad die life constant self harm cant die choose internal external hell going best option like dying animal',\n",
       " 'conflicting informationpart cant blame friend killing year ago blames thinks relationshil doesnt massive tug war clear winners kill friend think care dont know know sick',\n",
       " 'discovered community youtube kids acting stuff sonic plushies dont know honestlyits great theyre trying making videos films time cant bear watch acting pretty cringy expect tho theyre kids thats kind makes alluring like watching thats bad good',\n",
       " 'fucking fuckok fuck life fucking reason havent fucking ended like fucking music like music werent thing id dead fucking corpse room like music thing keeps alive shitty ass anti depressants people miss like shit ppl think help doesnt dont want talk random ass person badly want slit wrists like shut fuck shit helps suicidal thoughts fucking molly xans long term makes shit fucking worse holy fuck ive literally drug hands dont like fuck shit dumb shit feel fucking annoying time like feel like im annoying instantly gets thinking killing cant infront 10 ppl instantly thinking slitting wrists thing actually helping cant like literally drug helping long term shrooms like took month id fucking happy trip id happy month cant fucking shrooms right cause stupid fucking faggot ass parents dont understand jack fucking shit like holy shit fucking gun wouldve fucking shot lowkey writing kinda helps idk feels good getting shit guess like therapist way fucking hate asking shit like fuck like like u guys asks respond fucking talking therapists fucking weird like dont want lay fucking couch talk like fuck dont know tf im going shit like fucksorry know fucking messy',\n",
       " 'friend applications formsgooglecomdqw4wgfsdhttpswwwyoutubecomwatchvdqw4w9wgxcqdo thing hit dms wanna friend',\n",
       " 'feel bad pe teachers cant easily teach pe lockdown lots hate kids want skive school theyve youtube channellrgs pe thought feel happier people went showed lovestay safe bye',\n",
       " 'met weird person online playing randoms guy called army said hi chat pretty sure named way attract kpop fangirls said hi played rounds chatted chat alot followed game suddenly heshe asked wanted friends said sure asked girl said silence moments left kind weird thanks coming useless tedtalk',\n",
       " 'swear day im going arrhythmia im aware dreams time scare awake common method making fall like cliff building hit ground wake times stupid falling cliff terrifying heart rate increases significantly turns contemplating death falling sucks',\n",
       " 'literally beginning freshmen year got f fucking quiztests im literally scared im going fail studied got fs',\n",
       " 'shut fuck nnn oh fucking god',\n",
       " 'like mcdonalds feel bad eating know terrible im super self conscious body eating mcdonalds isnt help feel like unrelatable',\n",
       " 'big boobs actually aerodynamic small boobs utotallynotagirl',\n",
       " 'darkness passed morning brighthey sw reddit status update long time posted year think matters happened lifeit happened room depressed bro came talked talk forgot said snap unlike compared nice treatment getting completely unexpected moved dont know felt better slowly got slump got life track grades looking better ive gotten job picked new hobbies new friends started waking morning looking black sky seeing far id come feeling exhilarating free felt like escapesw reddit carry hard job amazing deal pain suffering supportive reading posts felt moved write words outcontinue living',\n",
       " 'update thank pushed live thank helped posting 28 days ago wrote best friend whos state suicide note closed phone social media popped pills right knock door cops took psychiatric ward spent days little week felt like month swear meet amazing people family friends visited day im medication things turning lot im moving best friend taking semester recoup school explained friend 1k wasnt sweating said life important long story short worked love strangers thank helping mexoxoxox',\n",
       " 'time watch youtube video pause beginning press right arrow key double tap right screen mobile funny faces screenshots decently funny screenshots peoples faces especially animated gamegrumps 10 minute power hour good',\n",
       " 'morningsevery morning wake refuse bed 25 year old male computer programmer paying job like early possible obligated 10 wake 7 morning disciplined sleep schedule hit unbelievable need escape thoughts suicide abound want work want live planet anymore want die researched means suicide time passed calm idea longer afraid deathi feel pain day miserable work work spend remaining hours free time assaulted irrational fears desire perform job perform necessity death comes need incomethe idea sharing humiliating cant imagine people work think saw feel real emotional connection anyoneat work wants friend met friendly greetings hellos questions games beard abnormally large men taken interest beard dont know mean attract women way view stupid annoying wish talk feel impossible actually friendly surely alterior motive hate wish stop treating respect feels irrational right reasoni wish dead constantly strongest feeling wish deadeveryone told needed success happy life didnt work',\n",
       " 'know stupid want dieim graduating masters weekend dont job major isnt marketable little year work experience school little doesnt ive actively applying jobs months honestly feel like im completely useless cant stand boredom idea want live family live comes problems time im stuck apartment day day phobia driving im scared im meds seeing psychiatrist regularly want die says know ill figure hard believe dont know sheer monotony life anymore job theres endless monotony rest life want end dont know im',\n",
       " 'ur lips looking kissable luv said llama wife',\n",
       " 'got huge family debt dad cancer family got huge debt father decade debt family drama father greatest guy ive seen says things dont money hold cash best father haverecently mom decided sell jewelleries clear debt dad bad money thats debt place pretty money month spend interest little finally pay dad felt sick went hospital kidney stone blood cancer doctor said blood increases dont remember diagnosed blood cancer highly likely willi saw happiness mums eyes long time debt paid shes sad life better decided punch guts pray dad',\n",
       " 'everyday 6 long walk lone tree middle field talk reasons kill im trash ruin touch feel insidei carry sturdy rope time plan day soon',\n",
       " 'decided eat spicy ass noodles bed currently 540 noodles oh mother pearl shits gonna hurt tomorrow',\n",
       " 'im trying sexist damn bro looking cute today',\n",
       " 'ok ok deal guys basically live uk ill love 15 ill love damm 15 live uk date im lonely care looks shit want love',\n",
       " 'itive lost year life throat divorce homelessness abuse cant handle anymore reason im gonna try 3rd time year hear like going sleep peacefuli dont want suffer anymore wants anyways matter ill considered burden better months disaster disaster wish love peace happiness hope life deals better hand struggling',\n",
       " 'im bored wanna talk im 13f want talk dont discord sorry advance filler filler filler filler filler filler',\n",
       " 'reddit avatars look bit like gachalife thingies confortable realized chubby simple avatar designs similar',\n",
       " 'happen lqbtqi 30 years feeling getting longer yearfirst lqbtthen lgbtqthen lgbtqnow lgbtqiwhat come lqbtqidnh',\n",
       " 'little painful possibleis way easier family fake accident closure know families destroyed accident got ripped apart explanation better write note explaining unbearable sure want best probably right mind best look egoistical mistake leaving asking didnt ask help sorry trying easy possible loved ones cant like longer',\n",
       " 'feel separate everythingi feel like dont belong life feels comfortable im tired uncomfortable feeling feels right dont know',\n",
       " 'casually wanting diealready tried killed failed like pretty tried lmao everyday sad shit feel sad like im biggest freak earth seen like dont deserve allowed breath trust dont want feel like laughable basically failed life want end judging post read im wich makes wonder deserve shitty lives fucking hitler past life ive happy life happen lasted like hours days people thats supposed life moments happy disagree constantly trough shithole rewarded moments happyness id die ways die idea happy fantasy know post gonna end cringe subreddit guess thats life thats clown idk stop',\n",
       " 'story time idk cow went mooi ate shoe poetry youhah gottem',\n",
       " 'trans women women ill beat',\n",
       " 'getting worse againi feel hopeless face abuser school wake 730 day good days things dont energy night think killing cutting cant deal boyfriend cant handle need drown thoughts ive getting existential thoughts seconds ill think think killing dont want deal anymore',\n",
       " 'interesting titlethe suicide communities find comfort generally banned reddit pale immitations came tends depressed thanks redditthat said suicidal asks okay',\n",
       " 'dont want die dont want live eitherim coming subreddit abruptdlyhell dunno post stay long seebut ive drinking ik dont post ill post soberabout year ago time period nearly committed suicide prescription pillswhether mental instability unit looking army dunnothey left deployment octoberish left behinda brokedick pfc deployments awards merit completing osut verge suicide unit ncos multiple tours iraq afghanistan peak surge major mental malfunctions like mesince ive best track stopped abusing pills stopped drinking taking gym seriously pandemic shut etcbut squad leaader puts text saying unit roughly 2 weeksand soon read text fucking plow half bottle jack cant mentally cope idea backebh tells got ptsd time theyre probably nolt wtrong iof im drinking stupid text talking coming fuck infantryman sounds like little heart syndrome anyhting talked rveteransfucki dont want die fighting boxingkickboxingmma life thing stopped going suicide family god etc wasnt ive working ass running eating right etc comebackbut time dont want alive come eitheri dunno ill probably regret hitting post button time tommorow morning im sober needed chest ik cant tell unit wo trying report suicide wardthank wasted time sifting shit fuckin hell',\n",
       " 'want commit suicide feel guilty leaving daughteri unhappy everyday hate fact woke upim tired want end tried tried hate life miss problem dont want leave daughter 23 father life husband 20 years know miss guilt making feel worse making unhappy alive somebody help im tormented',\n",
       " 'howre guys im feeling sad wanted sure guys werent place',\n",
       " 'bandsartists guys started listening recently started listening judas priest recently like',\n",
       " 'dilemma came christmas shopping christmas friend wanted nice big gifts things got book kinda wanna read book sister said read feel bad book read book read',\n",
       " 'tell im permit test tomorrow drivers ed im reddit instead studying tell',\n",
       " 'hello postim gonna kill tonight today realized thing thought im best average im worthless completely good theres thing world ive im useless',\n",
       " 'sky high disney reminder sky high officially disney implore watch havent watched watched watch dont disney watch sky high',\n",
       " 'tell crush like need advice advice tell girl like dont know conversation starter advice nice',\n",
       " 'boyfriend wants commit suicidehi rsuicidewatchi need help complicated situation dont know im 20yo magic relashionship 3 years relashionship year ago problems began matching anymore like stopped carring relationship got unsatisfied tried end relationship multiple times couldnt accept got histerical times things complicated care tried hurt strong ultimately clear relationship started obsessed followed lot stuggeling lot tried onso got relationship know felt bad time simply strong hoped relationship strengh finally break got obsessed eventually found relationship started threaten killing tried times looked like getting point able stop categorrately refuses psycologist doesnt want help says wants die shall ask help specialistfinally leave studies couldnt follow financial reasons stay france currently spending time bedroom doesnt want bit family doesnt understand situation hacked accounts talk questionning talking forbids talk people everytime tells sad waiting death find old dead himi heavy regrets situation know horrible mitakes feel im going mad distroyed beautiful relationshipi looking forward ideas help professionnal help getting situation',\n",
       " 'feel stuck slowly killing mewarning angstyim decently young person person ive told worries waved away phaseive feeling like maybe 2nd grade realized wasnt nearly amazing girlsits gotten worse ive moved school little comments thighs weight face attitude sick stomach dad family insurance wouldnt able access medicines therapy etc im stuck endless cycle feeling good selfesteem dipping lower friends wonderful confident smart gorgeous women theres feel disgusting havent treated told old cutting habits feel tired sick way want end poof existence mom angry died cant want hear opinions dont feel like confide mother isnt better explicitly threatened kill touched razor dad doesnt know father send away told feel like depression means gaining attention dont want school tomorrow day im monitored parents way im able speak hotline dont doorknob door cant lock arent home end panicking breaking tears start venting hang',\n",
       " 'cant born better countrymy lovely shitty poland vetoing european covid budget probably kicked eu want finish school france university want girlfriend study doctor help people country kicked eu likely wont able immigrate itll cost universityi bough helium canister guess booted finish school ill asphyxiate apparently peaceful way die',\n",
       " 'im fucking sick painful cycleevery day try jump hoop day day change want end decided college state away family giving lines encouragement crawl day turns ones surprise cost tuition state large emotional burden ive wasted 27k midterms odds getting gpa reduced null adds emotional burden im trying schools psychological services proving weeks meds arent trick cant ahold doctor ive trying 3 weeks im tired disconnected courses want end cant sit read book wanting fucking slit throat books victim want withdrawal school mental toll shame going fucking family thousands debt dont know want curl ball',\n",
       " 'dont know anymoreim frustrated life right im 19 feel like feel like dying day hate family financial trouble havent graduated high school doubt college question end going wouldnt know makes happy anymore havent friends im horrible talents skills im fat worthless sack crap wish end want disappear forever shouldnt born place',\n",
       " 'claimed 5 pound amazon gift card swag bucks took 3 days surveys 2 half hours time daysthis best source money 13 year old',\n",
       " 'welp turned 18 im gonna grow care im finally gonna start preparing school lunch',\n",
       " 'notehi suicide note cant live called life anymore friends willing live gonna bang goodbye world',\n",
       " 'think best coarse action cant im drunk tripping driving cliff idk time past times ive tripped ive thought deeply ending life wasnt afraid think im going tabs drive mountain wish things got better family sad ive watching videos mothers lost sons suicide videos good tool want prevent idk',\n",
       " 'options thinking finding quiet place diesorry isnt post im sorry im drain resourcesmy boss bullying relentlessly past weeks idea crawled ass died id usually write bitch ive problems school work getting entire life im awkward try nice professional come fake mocking people want bad idea ive bad day sports im clumsy school bad math science teachers didnt like got bullied kids jobs sucked dishwasher cashier waitress barista customer service rep dog walker baby sitter receptionist lowlevel code monkey eventually employer job convinced id fail actually turned great shocked oh hey shes total throwaway personthey moved fulltime position great got bullying boss switched companies year ago away bully current boss turning bully suspect shes squirreling away info try fired tell shes itching fight probably hoping provoke ill stupid fire mei dont know know hr management workers cant performance development plan sitting hrs office getting fake concerned looks hr lady watching friends reactions tell ive fired cant imagine starting career im midthirties old start alternatives daunting guess stop working baby stay home mom kid child probably bullied like ive theyre outright taken away social services police state country college suck school im freelancer type thinking finding nice quiet place end life dont want disappointing constantly embarrassing playing futile game work marriage family enjoy dont think medication answer meds 3 years caused sleep time miss lots stuff going dont think moving away changing job answer im tired feel like im officially options dont know anymore',\n",
       " 'father little bitch theyre gonna send psych wardshut grew asylum theyre gonna treat like shitthey gonna lock stupid magic med shityou gonna labeled mentally ill wantbecause changed 70s80s amirite',\n",
       " 'dae think subr needs irc channelor',\n",
       " 'tonights nightgoodbye',\n",
       " 'sleep forever wake basically going coma probably need accident shits gonna hurtis ways tho',\n",
       " 'shy introverts reddit know like conversation title self explaining lack social skills self thats come reddit great advicei ask irl online conversationsedit introverted person lonely times like pandemic going nice social interaction opinion',\n",
       " 'help redditor seattlehttpswwwredditcomrpoliticscomments5cnfdepresidenttrumpendoftheamericanempired9xuiwd',\n",
       " 'heyy free award ill help',\n",
       " 'hows day',\n",
       " 'dude veitnam war sucks like 50 years grandpa fought cant forests walks shit',\n",
       " 'journal4122020i delusions shoot tell 2 contacts phone sorry reciprocate emotions lost head scared person wants apologize come person feels loathing hate revenge return felt control actions possible worlds people try screw hard identify ideas motives come prided sense awareness learned schizophrenia lame ass anxiety said forces realities wont human reasoned humans innate drive live doesnt feel goosebumps skin feel pleasurable normally dont feel emotions appreciate despite finally catching 3 years knowing hooked goosebumpsits funny dont feel thing process facial gesture tone voice implied meanings manages extract resentment illwilli found thought texas allowed buy handgun 21 means life got extended year promised wouldnt 20 time fix turned endpoint',\n",
       " 'mom trying school im quarantine live school resumes christmas break tuesday quarantine wednesday mom insisting got tomorrow told play rules wait day shes',\n",
       " 'ah yes helping like putting gasoline fire hotel grandmas',\n",
       " 'accidentally catfishing apparently born 2007 meaning sadly unironicly 13',\n",
       " 'need escapei cant stand life anymore dont hate life hate given home makes want tear hair falling 17 dont want leave feel like people judging outside ugly disgusting im forced recover nearly lifelong eating disorder painful forced eat times day parents want meal day humiliating autonomy life isnt id starve death dont liberty everythings taken away cant bathroom parents watching come school everyday watch eat meals hear talk dieting exercise weight want run away dont know want kill im scared ill fail ruin miserable life want kid hopes dreams love laugh feel fucking love compassion live inside head feel dissociating reality everyday',\n",
       " 'pretending fine hardno slightest idea plan kill honestly makes harder day day approaches continuing plans promises friends family despite knowing wont able makes feel like awful person bring happiness knowing longer bother burden continue live enjoy lives burning hell believe heaven hell thats certainly deserve cant thoughts away want free',\n",
       " 'yelled retail worker hungrythis mind hours feel shitty 19 year old female suffering mental physical illnesses im supposed going home tomorrow christmas wanted treat food ordered mcdonalds uber eats waited outside delivery guy come dropped food puddle accident bag sodden food spilled bag wet pavement point didnt mind thought simple mistake food wasnt simple thought mcdonalds uber eats couldnt know stupid childish thing mad hungryi wasnt mad guy mad paid 15 worth mcdonalds didnt refund food called mcdonalds tried explain happened didnt care said responsibility food leaves store starving days eating binge days feel like pure shit afterbecause couldnt waiting hour food guy phone crying wasted money food hung shouting fuck phonei worked retail worked chip shop kfc subway years quit job university spoken like killed tried twice thinking guy yelling suicidal thoughts small mistake tipping point cant help feeling guilty said workeri deserve feel like im sorry reads know long didnt money food didnt eat havent eaten im sorry',\n",
       " 'deserve die stop taking space energyi toxic waste dont deserve anymore',\n",
       " 'song stuck head httpswwwyoutubecomwatchv1q82twrdr0uhttpswwwyoutubecomwatchv1q82twrdr0u',\n",
       " 'help list unwritten mens code conduct rules written men boys rule 1 foremost use urinal adjacent currently occupied said urinals stall wall lower eye heightrule 2 happens locker room bathroom stays locker room bathroomthis ive gotten far expand list spread finished displayed',\n",
       " 'im selfish prick drama queen hate elseinformation got depressed today httpwwwredditcomrrelationshipscomments1efl0qi23mwokeuphungoverandkindaactedlikeaim asshole hate feel wants self centered lot kind blame parents spoiling burden responsibilities people ie mad people lose things leave house dont invite annoys bothers decide life maybe family members come actions',\n",
       " 'gave years try fix things sad excuse life worth living half year ago attempt ended abysmally badi think good idea start writing note near future figure little stuff left chance getting better attempt getting better results failure im gonna person whos worth giving shit im gonna gonna care aboutim gonna someones partnerim gonna choice',\n",
       " 'dont want live dayyou know everyday hurts feels like goes wrong outweighs goes right everyday im reminded worthless stupid told kill ive tried talking friends parents feel arent parents like lmao makes feel like im overreacting feels like matter ill looked edgy rebellious ungrateful teenager going phase makes feel like shit like saying feelings valid maybe existence isnt valid im tired living like im tired afraid saying wrong thing feels like matter trivial anger way ive friend told talk shes parent fuck doubt shed listen anytime tried talk shes narcissistic asshole good doesnt listen father shes going change going change shes getting worse worse day im trying stay positive im trying smile hard everyday telling life better wished didnt exist dont let cry tried time cry remember day beat crying yelled yelled couldnt control humiliating dont know anymore dont know anymore want curl ball die dont want live day wish didnt exist place know sounds like generic edgy shit tiring tiring im okay want cry cut bleed death know ill probably better tomorrow lowest ive time wrote suicide note dont know living anymore',\n",
       " 'want pain stopnothing makes happyhumanity shitty hate people pretend like ill trust anyonei hate mistakes mental illness thats ruined life apparently untreatablei people care cant help want stop',\n",
       " 'alright alright gonna emotionally vulnerable moment like ex broke w got ex day broke infinitely insecure jealous people think im rebound settled feel way ruin things way bc stress gets people care dont mean lost self value im trying shit sucks things beautiful met man whos partly responsible way',\n",
       " 'decided write future suicide note people care brother islast night spent little hour writing suicide note brother intend making care 10 people sure im going certainly sure want expect community posting maybe realize lot worse reconsider suicide jason crazy didnt grow later life got close 8 years apart went life differently kids earliest memories living garage ltredactedgt vividly remember time mom dinner kept calling come snapped didnt feel like eating 19971999 going mental health issues child thought jerk totally understand feels crippled mental health memory doesnt necessarily involve involves jeff ltredactedgt 2006 started hanging driving relatively new ford mustang girlfriend moving said girlfriend sweet job working ltredactedgt outside looking appeared living dream remember thinking wish jason shit like jeff totally life time didnt going think working bloomingdales today proud big brother im proud passion career cant fathom life truly found niche life confident time greats doas big brother want know appreciate argue fight disagree thats brothers supposed hope dont resentment spent better 9 years life complete agony everyday struggle days imagine single day life thinking going die multiple times day cant enjoy things people like enjoy crippled cant drinks disoriented feel causes think incoming stroke heart attack aneurysm cant think going vacation fear far away hospital die catastrophic medical emergency place simply driving outside normal 5 mile radius causes distress nearest hospital eating smoking drinking water basic lifes necessities caused anguish lightheaded dizzy fatigued physical symptoms anytime menial tasks time escape felt sleep latest therapist asked know treatment little taken question didnt long answer told knew decade spent living way living didnt know enjoyed didnt know didnt enjoy knew panic anxiety knew things trigger feelings avoid unbeknownst ended happening world smaller smaller smaller didnt know liked camping knew decade camping far away society hospitals help act camping didnt necessarily bother panic brought like camping day camped fear logic applied parts life dont know like hawaii snowboarding fishing remotely took small comfort zone didnt like things fuel anxiety panic simply didnt know ocmike92662 didnt know ocmike92662 liked didnt like dont know mikes passions life im saying 26 lifes questions answered saying 26 able identify enjoyed happy continue life didnt know dont know tell enjoyed liked good reason didnt feel commonalities people anxiety decided recently find new friends figured start meetupcom basic premise type things enjoy things like common users match like minded group people drew blank 10000 groups activities going day surely group searching hours couldnt figure liked didnt appear liked lived battle demon inside single day imagine living like 9 years 13 life jail cell inside spent arguably greatest time ones life shell felt like august 2007 permanent solution temporary problem temporary problem likely problem face way rest life dont think losing battle lost 1 thousands stress contribute decision dont prevent making decision decision spent months debating long allow live like prisoner long lived like upset think took easy way seriously ask long live like ive tried best paint picture life 9 years think things enjoy life imagine tomorrow day believe going rest life cant enjoy cant travel cant eat drink smoke kind panic friends thing think need home pass die heart attack cant sporting events cant mall long allow live like 15 different medications 5 therapists 7 psychiatrists work things felt like getting worse better long decided long ago today final day dont think sad time happy time finally dont live like anymore longer trapped suffocating panic anxiety love bro nicer mom got 1 damn good job given circumstances actually great job raising 3 kids lot impressive considering circumstances ps mom going upset need care little bit dont frustrated love hold let know truly loved understand',\n",
       " 'friend somethingi broke crying school threatening kill time crossed road times saw cry understanding friend said felt snickering nevermind dying later shouldve died right past problems felt like asshole telling shut hell dont know im brink actually going attempt stupid comment im joke',\n",
       " 'feel like im dying 17theres moment life abused physical sexual emotional abuse neglect year ive traumatic abusive instances ive emergency housing stressful youd think im transgender ftm look female wont change bone structure feel humiliated leaving house excruciating living way longer live worse gets find thinking better killed earlier wouldnt shit good reason im going college know ill abused theres way suicide',\n",
       " 'finally got unbanned reddit yay',\n",
       " 'lets play game called period coming depression getting worse',\n",
       " 'thing stopping killing way itive decided probably end bullshit im way choose dont want leave find gruesome scene want quick painless private thing remotely think gunshot head forest somethingbut suppose fortunately access guns lethal medications bridges city dont want die house dont want found guess time ill fed ill want matter im point im trying form plan know help dont want id living life id person entire problem hope anymore im going interesting beautiful im going loved parents going proud people arent born happy fact born mistake cant',\n",
       " 'hurt neck asleep night feels like jackie chan karate chopped neck turn waist turn sense cant head lot',\n",
       " 'stupid dont love',\n",
       " 'need help know dont insurancei looked sliding scale mental health cant afford im hanging thread husband devastated killed cant cant year old daughter help know',\n",
       " 'help mei think imma dose lithium pills tonight dont wanna deal anymore life fucking joke im toyed dont wanna hurt anymore living stage half death',\n",
       " 'im shit literally fuck meim 18 im dude im ugly af im fat im asshole im wimp im pussy bitch im loser enjoy singing im shit want friends im shit want job im shit want fit im shit want girlfriend im shit im fucking weirdo hate hate people want friends want hang talk girls stuff listens cares want girlfriend like gonna happen want girlfriend hug im sad let cry shoulder care loves spend everyday withtalking want feel warmth love im ugly shit im asshole dick douche im things noticing dont know act people dont know act infront girls im loser fuck fuck im shit fuck want break fuck hate people know friends right treat like shit im nice im worst family fuck makes mad smash fucking face fuck fucking asshole friend use im stuck roughly 2 years school left hes classmate thought good ok relationship wasnt best friendship talked laughed alot day small fucking mistake fucking decides asshole entire day im sorry wants motherfucker happened life start day talking fine soon screwed asshole entire day person talk freely turned asshole day nice lent stuff didnt retort said swear feel like smashing fucking face motherfucker know class turn likes fuck theyre assholes wish proper people u friends dont know swear fuck man got shit talk thats',\n",
       " 'ive inadvertently watching lot videos british people start saying random ass words accent kill',\n",
       " 'fuck going talking sexism sub unwelcoming girls like wtf happened',\n",
       " 'fun fact sir cumference fattest knight king arthurs table gained weight pi',\n",
       " 'come sub rteenbeauties',\n",
       " 'im tired thoughts come upim sick ideas ways reasons stay dwindling im sitting car lunch hour work tears life caving shit 10 minutes order mind numbing minimum wage job making dent debt dont know afford drive work week think great sleep wake',\n",
       " 'yknow shitty send email adress password phone number u iphone 18 pro max mom fell said wasnt scam guy facebook said real fake comments saying worked funny ppl trust obvious scammer wont believe son insert coding experience mentioned throw riamverysmart',\n",
       " 'im bored awwwwwooosijsjsjdndnejehdbd dhelpso r yall',\n",
       " 'drunk basically thought write rteenagers party housei currently writing toilet drinking little yes allowed drink live europeholy shit hope making grammatical mistakes save autocorrecti hope great time aok sleep nowplease downvote probably voting memes',\n",
       " 'theres easy way riding bicycle 23 years tryna turn old lady standing bikes handle slightlyit slightly handle touched old lady fell fell neighborhood gathered thats embarrassing things happened dont wanted yell day thanksps choose getting kicked balls id kicked balls',\n",
       " 'hopei difficult time boyfriend 3 years seeing married woman apparently loved long time youth pastor church woman understand seldom invite got closer quit weekend invited youth parents lake day familyher familyincluding husbandstayed weekend boyfriend barely looked talked womantreated husband terribly spend time boyfriend husband tried introduce myselfshe acted ugliest garbage seen boyfriend trying talk flirt meto affectionshe walked overopened towel reveal beautifulgorgeous bodyand said novemberi weightthen summer lose itthen start cycle walked away hurtso upsetand boyfriend stood therelooking tried leave morningafter day ignored humilitatedmy boyfriend trembling asked stay dont know whythey clearly love eachother lied husband flirted boyfriend weekendand bf treated like queen grew angry thought leaving boyfriend wanted suspected interested elsehe 3 childrenshe think 7 gorgeous fun flirty ive struggling personally depression anxietyforging new careeri look terrible understand attracted think going long timeand ready leave husband children closethey care eachotherit fits husband puppyshe going throw awayi feel hopeless im 46with offer therapybut need expensive sexually emotionally verbally abused entire life finally got away family attempted suicide 3 times time 1999 cant heal stuff broken person guarded person cant love cant lovewhat world cant lovei dont think im going think ive lived life canand im wholeim useless ugly ignorantand oldmy boyfriend says loves wants needs mebut act way didand actually mean thatif cant find hope good',\n",
       " 'againbut forgot thats okay people forget time came im people caring people forgetting fox im sorry im fuck im sorry im unlovable um sorry suicidal fuckup wasting youre time im im kill',\n",
       " 'youngest child rant feel like im copied pasted person sisters parents im youngest youngest family mosti dont feel like identity dont feel like chance explore find liking things sisters parents like try hide catch mannerisms fucking hate know older siblings inevitable catch things parents maybe good thing wasnt guinea pig good parts im lost idk',\n",
       " 'guys help grammar use european european',\n",
       " 'posting day end 2020 day 69 bois ive 69 consecutive days posting subreddit nice',\n",
       " 'dont delete memoriesi think im going end story tomorrow hero changed world im ghost haunt room im tired friends im going sleep forever im going jump bridge story forever untold im sorry hate im tired',\n",
       " 'suddenly massive amounts lower pain aaaaaaaaaaaaaaaaaaaaaaaaaaaaaaaaaaaaaaaaaaaaaaaaaaaaaaaaaaaaaaaaaaaaaaaaaaaaaaaaaaaaaaaaaaaaaaaaaaaaaaaaaaaaaaaaaaaaaaaa',\n",
       " 'ive decided im going kill want thank guys support ive gotteni cant handle life anymore going fix hate thats going change talking therapist isnt going help exercises wont want im lazy suffer agony weeks months results worth anymore day wake day reminding life failure born going tell love happy loved im loser waste genetics planets food resources life isnt worth living im going end painful way find bei want thank guys support advice im sorry lost cause',\n",
       " 'dont knowi feel lonely wants hear petty problems listen blade',\n",
       " 'friend annoying pls help like title says friend annoying clear ignores covid 19 guidelines thats worst fake real coughs touches removes mask tho onwe breaks cant talk tho tell stop laughs continues happens school sit pls tell',\n",
       " 'want kill im incel unpopular idk improve im loseri know easily biggest world problem miserable making want die im 17 wants sex dad tells 14 lots girls slept super popular makes ashamed im like age tons friends hot girlfriends partied nearly weekend drove cool 80s car turned 16 loves car pictures house dont car license makes feel worse want die im starting think worth pain cause dad life completely fine ps dont know incel short involuntary celibate male craves sex doesnt sorry blabbing wrote sitting dont know word exactly',\n",
       " 'cant cantthis bullshit cant stop urge scream punch nyself twitst body insettling fucking intrusive thoughts cant idk anymore know thats wrong cant fix caaant',\n",
       " 'ok gif pronounced gif jif pronounced yiff fight',\n",
       " 'things hopelessi posted good news im bad news im suicidal thoughts depression comes waves days okay cry little days cry nonstop extended periods time night particular wanted end reached friend helped feelings lingered scheduled psychiatrist wednesday morning appointment therapist afternoon cant helping im going try share suicidal thoughts tried share feelings depression family friends dont think understand bad wondering share feelings boss work believe transparency good relationship extremely compassionate person trust dont know reason tell dont knowi try reach resources start feel bad ive friends suicide hotlines reddit posts compassion chats help dont know stick therapy hope day waves arent big',\n",
       " 'textpost weekend gt normal week feel like weekend meet people better genuine conversations weekdays bunch people shit posting',\n",
       " 'human mein honesty ive probably getting fine 20 years life far feel like day gonna come crashing ill scared figure fix dont wanna happensive let anxiety rule life cant single good thing people like away world ill able little thing impossibletobegin gauntlet confirming college courses start soon going work asking talk feel gather strength know ill fail like doi dont think ill kill soon feeling ive different kinds treatment scared away notion im reminded suicides effects distracted forget lastsi die world better place realize true way overcome hope survive fucked world lost idea life feel like defective human people like shouldnt dont belong',\n",
       " 'stop planet want',\n",
       " 'dont think ill good person againfor year half havent satisfied life past months ive horrible person ive hurt close close friends people talk school friends tell time try edgy dont care talk anymore state mind want people care chase people away im ashamed weight ive fat try understand emotions im making people care feeling im stupid worse end called bitch hung person trust talk stuff usually end acting like pretentious white girl hate dont want die live',\n",
       " 'dont think goingi turned 14 today yaybut thought ending cant waking morning think maybe ill swallow pills drift offi dont know ive thinking drinking painlessly possible practicaly cares family thats cant tell im scared told people school asked going kill concerned way excited odd peace knowing exit time cares end notice reason wake morning',\n",
       " 'ill thankful parents chill fuck talked masturbation younger said normal natural thatthey didnt ban dating got door locks respect privacy dont check phone computer dont snoop room',\n",
       " 'officially totally aloneis point anymore ive lost real relationship mattered pulled different directions charge caring elderly family member failing need real connection think im help',\n",
       " 'draw wanna work w dont good love comics wanted try hand making dm interested',\n",
       " 'earth flat round earthers come want know truth friends shared article facebook showing evidence earth flat opened eyes link article know reputable source truth corporations lying nasa etc care money round earth theory created hologram moon sky convince people theyre legit money moon landings faked moon hologram reply criticizing substantial evidence im wrong wont able im wrong',\n",
       " 'good hangman words yall antidisestablishmentarianisticallyinternationalization plethora oxymoronskirmish',\n",
       " 'dream mom rickrolled dont know wanted tell guys',\n",
       " 'day 72 masturbating started 27 355pm mnt standard time 2020 currently august 7 631pm mnt standard time 2020 running 10 weeks 2 days 2 hours 36 minutesso started online learning bad got new system completing work',\n",
       " 'things getting better point continue livingthe coronavirus protestsi honestly thought things getting better violent acts outside homes dangerous outside right mental health getting worse im fearing life dont reason continue living world continues like feel like itll worse whats reason live wanna die cant anymore understands struggles face mentally tell suck things better im tired im tired living im tired bad news life wish bad dream reality im contemplating going riot hurt die kill',\n",
       " 'question people hate kardashians im genuinely curious',\n",
       " 'im incredibly bored wants hmu fun',\n",
       " 'start putting squid post like squid hes cute',\n",
       " 'buy bunch shit im goddamn emptythats pretty know waste money hate im feels right',\n",
       " 'im 17 yr old self taught recording musician appreciate gave music listen rap released album recorded bedroom played arranged produced guess falls alternative rock genre know mastered horribly maybe youll like songs inspirations elliott smith mac demarco connan mockasin ween pavement silver jews let know think hell roast music dont care want thank youlink streaming serviceshttpsdistrokidcomhyperfollowaldenburtchapteronesoundcloudhttpssoundcloudcomuser995595489',\n",
       " 'thought making parody song legends die words wanna die 2020 anthem',\n",
       " '1 hour overim gonna tonight im gonna sure breathe time im gonna drive place find drift wanted able important sure impact think im great decision',\n",
       " 'hath returned cookies want lookhttpswwwredditcomrbakingcommentslsqba8ihavecreatedcookies',\n",
       " 'hi im 17f hi joined sub wanna friends like talking basically pm wanna talk',\n",
       " 'stress life led scared wake daymy entire life ive head expectations ive attempted suicide twice reasons live life roller coaster ive met girl dreams longer feel ive juggling ideology months come point im lost numb tears cry',\n",
       " 'pls help ok im music freak try find songs heard poland spring ad like thats catchy tune end cant find song find real song help httpsyoutube6ddjkbi5ai',\n",
       " 'hey come im giving free compliments arent good compliments compliments',\n",
       " 'boyfriend posts girlfriend like mix female boyfriend',\n",
       " 'quick im carving pumpkin soon need ideas seriously need ideas im creative',\n",
       " 'kill wayill live stream haters girls treated like animal hs cant work way system id die',\n",
       " 'push suicide day againin terrible mood right nowjust learned news help weeks november frustrated going end life right election wait longer new date little thanksgivingthis sucks hate want die disappear wish born',\n",
       " 'badly hurt boyfriend cant live guiltfull story httpswwwredditcomrsexcomments59qnymconsenti16fthinkimighthaverapedmythe short version raped boyfriend days ago didnt mean happened cases suicide inarguably selfish cant help think im complete mess ive breaking crying panic attacks forever suicidal managing half year attempt ive amounted main thing live trying good person mental illness keeping jackshit expect failed didnt hurt hurt love world badly ive gone thing makes worse feel like deserved im allowed struggle anymore thing ive wanting rip skin felt dirty taking burning hot shower try burn filth felt ive trying kill felt ruined longer place world ive inflicted pain hes told feels dirty ruined scared cant hide guilt hate meaning ends help helping im making im horrible person dont know taking kill right second want away cant cant matter ill good person im rapist life im sorry hard read doesnt sense head place right im verge panic attack',\n",
       " 'going doctorim thinking talking professional depression long story short need parents insurance tell need psychologist actually letting know depressed dont want parents know failure need doctor plus dont want worry',\n",
       " 'feel emptyi20m feel like theres reason live continue living dont feel alive',\n",
       " 'days getting longer getting weakerive thought ending life mind gf broke couple days ago feel like option feel worthless pathetic stupid want relief like way',\n",
       " 'ending life tomorrowthanks offered messages support website couple months heart shattered gotten bad ending suffering tomorrow evening light end tunnel especially year theres way depression goodbye',\n",
       " 'dont care abt anymorei dont care date dont care want die think didnt basic respect let know truth didnt insane youd let think crazy lost mind tell truth pure evil welcome funeral better better act fake like cared better sit deal repercussions lying actions demon set ready theyll find body day place set outfit ready thats left im finally free evil world',\n",
       " 'im pretty sure girl thought girlfriend cheated todayi dont know talk feel numb life shity born people hurt bad im attractive life constant sadness worth living',\n",
       " 'h takes approximately 5h average posts reach hot subnot post',\n",
       " 'birthday 14 yo today job puberty ends minutes touching pp',\n",
       " 'im 20 cant crush rapunzel anymore sad dont worry anna elsa',\n",
       " 'im tired feeling like thisthis place turn currently im failing highschool classes im best people probably looks like laziness ive academic performance problems start middle school theres im depressed suicidal recently started selfharming dont friends im close talk relationship parents strained probably cant bring actually commit suicide thought ending life come lot usual usual couple times month dont expect live past im exhausted want waiting better theres skills useful real world interests help life like ending good solution cant solve simple problems functioning adult',\n",
       " 'talk im 16 year old boy want talk maybe boyfriend haha',\n",
       " 'online school 8 hours fucking cold sore popped fucking hate herpes',\n",
       " 'sooo got rick rolled 2 got rick rolled rick roll meplease dont send direct link memorised memorized form rick rolling appreciated',\n",
       " 'girls asked girl hold loaded gun head railing said use unloaded onlyi hate world',\n",
       " 'need help getting bad british accent got tipps english teacher arogant bitch took grade away cause american grammar british id like awful british accent like tommyinnits',\n",
       " 'premier league excited watch good season yearthis season better new beginings arsenal chelseas transfersevery season exciting better',\n",
       " 'kill fucking hate existencei fucking hate alive hate thoughts hate fucking worthless hopeless fuck disappointment everybody hate fucking fucking kill',\n",
       " 'bruh lmao cant think yea dont spam inbox posting inviting inbox contradicting themselveshmmmmmm',\n",
       " 'im tiredhow title shit like mean honestlyi dunno hey guys past weeks rough tonight nights im apathetic kill access loaded guns easily slit wrists dont want know idk ive depressed months mania im tired failure friendsokay thats lie friends theyre idk want stop existing im sorryi set deadline birthday ill kill things arent okay far away close im tired',\n",
       " 'sexy crime im arrest selling ketamine 5th graders',\n",
       " 'note past willim thinking im thinking sandy point memories feeling sand toes water crashing shins jeans friends went water stayed im thinking walking road hurt honestly wanted stop walking wish forever jokes talk friends forever im thinking walking beach storm wind laughs fireplace im thinking sand dunes shop bunk beds laughter memories experience like leaving road end im thinking choosing stop walking road stop movingand cant handle changing im ready want travel time want stay constantthey gone im im scared sleep head spinning lights room turning unknown darkness reflection doesnt look leaves walk new day im stuck past recreated unable im ready maybe finally dead sandy point',\n",
       " 'struggling eyes open goodnight',\n",
       " 'helpi cant function work mental health yesterday told coworker killed smart amazing guy struggling understand isnt fair feel guilty didnt help distance right track feel selfish undeserving life matters anymore cant point holding cant think need',\n",
       " 'week passed changedi cant believe class life living hell feel fucking miserable pathetic know stupid hell feel suicidal school school doesnt matter getting good grades class literally need panic know cant rid anxious thoughts literally students stressed able pull cant brain big deal reason upset tried talk counselor today asked questions session briefly talked issues class wait week talk someoneshe wanted know suicidal thoughts depression main stressor life right class lied said thoughts suicide recently wanted talk wants listen dont expect lot time care edge sort mental breakdown felt like counselor wasnt taking seriously tried talk hotline care immediate danger feel like cant talk therethe thing keeping killing fact able school away friend offered place stay long need help feet feel like doesnt want hear talk issues fair feel',\n",
       " 'shave legs future sell thigh pics market',\n",
       " 'hows everyones day going wanted check',\n",
       " 'parentsthe thing keeping alive right awhile parents rely wish didnt worry want good life sucked away pervasive darkness mind im worst depressive episode life right intensely suicidal start summer life going exactly like amazing girlfriend good new job great friends supporting family plenty things eager wanted end girlfriend left dad died car accident 3 days later job stresses handle allows thoughts build build build barely screaming running work tears parents hastle dealing dads injuries dont want bog money dont want help inpatient treatment cbt medication want feel like im ripped apart hurricane emotion cant fucking deal anymore whats point going good thing happens eventually torn fucked mind doesnt worth stuff want future doesnt want live push aside urges fuck man latest episode im sick spending half year depressed fuck year',\n",
       " 'dont know im posting thisi tried kill months ago person knew exgirlfriend pushed away im completely constant awful fucking anxiety thought focus getting better sit home thinking worse truly want die dont think longer guess wanted chest real talk toi think im going soon dont know howi hate',\n",
       " 'short people pt2 change lightbulb stool filler filler filler filler filler filler filler filler filler filler filler filler',\n",
       " 'byeit hurts cutting hurts washing hurts getting bed hurts satisfying like punishing living life isnt bad addictingive tried cut vein past im aware happen know shouldnt thinking know im sick ive heard know cant control demon head insults everyday fault im irritated fault im clingy faultim good enoughmy art good life living hell wanna curl die know ive said times ill leave place im 18 cut contact start dont think wait wanna free forever bullshit tried times kill im scared cant time goodbye',\n",
       " 'dont know whats stopping mei cant dont want hurt family friends wish lucky people care dont know whats stopping killing maybe im big coward',\n",
       " 'yall check elliott earth looks good broshttpswwwyoutubecomwatchvgsfjje5jvm',\n",
       " 'plan nightive depressed decade ive spent time wallowing years idea makes happy ive getting crossfaded nearly night past year thats way ive able away couple hours isnt working anymoreas soon money fill cars tank im going drive duluth ill use debit card leave phone rest stop im going drive minn 61 palisade head ill throw lake superior',\n",
       " 'help need encouragementshort post know want kill myselfthis past year jail acquired 8 misdemeanors youd know im girl door going lost fallen depression cant recover ive suicidal ive exhausted resources thought knew use accidentally burned boyfriend spilling hot coffee yesterday day got fight cant live anymore kicked school accepted future career burned current job jeopardy boyfriend holding like assault charge reports jail long time doesnt im living thumb burns heal told mom happened cant tell fear losing little turn lost future actions bullshit present live isnt worth blackmailed dont know turn help cant anymore',\n",
       " 'temperate blocked nose cant medicine cos makes vomitvery epic',\n",
       " 'hate memory foam bed forgets like theres goes deeper making solid youve gotta spot remember allow sleep comfortably',\n",
       " 'im scared driving today drove car different preparing driving licence test im feeling good scary driving times bigger times power torque ive driving previously parking thing nightmare dont feel clutch cant car order practice country roads want depends dads mood today wasnt feeling like getting bed let drive dont want driving want figure unnecessary released clutch fast know dont need hear distracting',\n",
       " 'whos stupidest discord server exist yes human trafficker usual anyones welcome dont join stay completely inactive dont anonymous stay kewl 3',\n",
       " 'going noticeive cutting 3 months scars wrists matter time notices dont know im going',\n",
       " 'whos taking psat tomorrow lmao found taking tomorrow',\n",
       " 'morphine hangingwill morphine help pain low hanging',\n",
       " 'happens crush doesnt like dear fellas react friend said liked didnt feel way avoid like happenedi want tell friend like im worried whatll happen doesnt feel way',\n",
       " 'need need help guys feel like need bigger ig sense meaning feel lonely lost rn think help suggest online communities maybe work find minecraft server forum organization thanks',\n",
       " 'feel like basically want rn relationship hard like wants relationship pressure person constantly contact stresses idk maybe im selfish hard tabs consistently barely look maybe im dumb idk',\n",
       " 'lives arent worth livinglooking logically peoples lives joyful happy reason wanting die wanna live forever people like dont lot happiness come way left devices traumatic situations suicide logical solution end pain ending depression anxiety ill probably soon doesnt matter way ill die statistic regardless',\n",
       " 'hate myselfim sure anymore ive gotten sick living ive actually started zoning forgetting goes know im miserable dont know detailsi hate family immediate mom dad amp brother tell parents brother hates guess sucks people youd think kind forced like dont dont understand whythen theres husbands family feel constantly judge theyre better hate hate guess theyve learned husbands sakethen theres person hate im bitch aware unable control hurt husband daily notice days suffers silence weve intimate handful times daughter born 3 months ago like older couple 20 amp 22i cant touched held theres cuddling hate kissing days thought sex draining hate dont want anymore hate life routine days new surroundings cant remember detailsi miss husband hes gone want gone hes hereim horrible human know killed offi cry daily think dying daily hope win lottery hope murdered walking streetim depressed hate',\n",
       " 'screwed screw im constantly failing lifeits like im eternally cursed screw yeareverything going coming end january happy amazing time pax south great happy tiredi ton work weekend work tests essays shit week im college freshman im 20 yo handle completely collapsed took tests work things worse legs started hurting walking class clubswhy clubs dont friends im fucking lonely talk legs started hurting stopped going classes supposed 23 day break started skipping missing 3 weeks ive cant im afraid professors calling going class worse im afraid tas calling going class hanging attendance sheet today got email professors saying drop class im poorly missing classes assignmentsbut cant drop im canadian im international student 4 classes visa gets invalid kicked countryim frightened email professors ask screwed like screw things up2 things happened 3 weeks collapse ive desperate group friends considered joining fraternity whlie 34 weeks ago liked guys rush events fun thought id shoo interview legs hurt ran dorm dress shoes sweating like crazy sweat nervousness worst interview terrible didnt help 2 guys trying hold laughter went home cried long time showerthen went talk long distance friend trust ton things recently told stop venting stressing agreed stop vent got angry said creepy hasnt said word 3 weeks shes reason happy 34 weeks happened said bad shocking unexpected unleashed months frustration anger feel worse completely screwed friendship doesnt want talk alli cry dont friends dont talk screw grades shitter got 20gpa semester skipping class im academic probation dont 20 gpa ill kicked outmy parents theyll destroy zero options left doesnt help theyre paying college itll worse mei screw cant stop screwing im careful screw cant clean toilet right wrongi knife im scared use dont options cares dont parents theyd actually try fix im broken mentally unstable smallest things break fucking head months ago stubbed toe cried hours dont friends trust talk thisi knife comes ill end allno knows exist anyways way find im dead rotting corpse end paying months renti dont goals worthless life doesnt help im stupid tooso live',\n",
       " 'extreme self disgust shameive awful things live understand managed justify actions time feel deserve live spend minute terrified potential consequences actions feel constant shame know deserve want able tell im sure instantly regret unspeakable burdening ive thought constantly month believe best thing carry normal hope goes away cant hide im feeling ive cried sister times unable tell im emotional person shes knows deeply wrong im scared family think im depressed sympathy dont deservesometimes feel killing help id stop born',\n",
       " 'didnt homework 2 months 1 c b school system',\n",
       " 'fine ill sleep gt way fucking comfy right fucking hate good night beautiful entities',\n",
       " 'trying besti trying best healthy mentally going psychologist psychiatrist friends support family smiling day long faking try happy good things deny bad things etcbut single week fell thinking worthy die kill havent tried kill 9 months feel worthless useless absolutely mind win game',\n",
       " 'ah yes sexy got mistaken milf',\n",
       " 'guys ive applied 10 jobs im joking want build pc',\n",
       " 'good dont confidence anythingevery time screw hurting affecting people dont motivation anymore im good people ive ran away home im coward commit ive constantly hurt friends family members sake asshole good taken seriously im joke ive failure matter hard try late able turn',\n",
       " 'advertising rjustkindadoing day 3 trying build large community post want ampx200bany experienced moderators want help fill formhttpsdocsgooglecomformsde1faipqlsc6vtyqhhgvilwmxxfrku7u7w7vpl11ybcnymzblpsjk5xnbqviewformuspsflink trying 100 members join team',\n",
       " 'happy birthday happy birthday im finally getting change flair 15 happy birthday',\n",
       " 'hugs cool yes intimate sexual intercourse intriguing agree common opinion considered feeling creating skin contact human exhale carbon dioxide result cellular respiration vital nutrients converted energy presence oxygen said gas travels approximately 29 inches speed 267ms room temperature 25c resulting exhaled carbon dioxide reaching approximate distance face time 000027588014 seconds produce mellow soft vibration propagates acoustic wave transmission medium gas liquid solid lungs pitch frequency 440hz sound travels speed 346ms temperature 25c distance 39 inches ear enters auricle travel ear canal leads eardrum vibrates incoming sound wave sends malleus incus stapes ears estimated speed 001127167630 seconds body elements oxygen carbon hydrogen nitrogen calcium phosphorus 085 composed elements potassium sulfur sodium chlorine magnesium presses thightly',\n",
       " 'im sorry goodbyeim sorry im sorry longer cope feelings tried long okay physically mentally emotionally drained difficult day im lucky wake days im sorry cant anymore im tired hurting hurting hurting general im tired living im tired caring ive numb apparently numb ive fallen endless cycle dont way im sorry dont fall path stay safe stay alive im close end ive taken pills im feeling tired regret cant living like im sorry try help knows im sorry thank stay safe okay',\n",
       " 'futureso learned dismissal local college feel like ruined future fucking grades giving focus school isnt time ive gotten kick ass scholastic probation havent learned previous mistakes imagine parents find feel like disappointed honestly cant living week 23 year old failure cant grow',\n",
       " 'people reddit answer form class pls httpsdocsgooglecomformsde1faipqlsfgomvwr2vskuwkdziumjyyu2wpa00psfiu5rzl3bkouhjyjaviewformuspsflinkhttpsdocsgooglecomformsde1faipqlsfgomvwr2vskuwkdziumjyyu2wpa00psfiu5rzl3bkouhjyjaviewformuspsflink',\n",
       " 'medical professionals exaggerate possibilities couldve happened failed suicide attemptafter suicide attempt medical professionals wouldve diedgone coma etc gotten medical attention sooner dont second overdose told couldve gone cardiac arrest coma didnt help saying dont know second vtach didnt feel like dying felt unwell like dying absolutely terrible wording things organized way makes sense im sorry worded wrongdoes feel way',\n",
       " 'uphow actually depression getting point honestly feel dying imminent necessarily suicide body starting find fight mind internal dialog starting past',\n",
       " 'bipolar disorder hallucinations tell iti lived hallucinations telling kill daily year im tired tired high school embarrassing panic attacks cause unable continue school extent able watched like baby im danger teachers watch family watches friends watch stress people mean hallucinations anxiety im hallucinations im depressed im depressed im anxious dont mean sound like complain killing killing',\n",
       " 'think wearing mask outside ok story 2 girls went reopened restaurant masks manager told persisted eventually sat table forced use 1 cup information look 2 girls 1 cup',\n",
       " 'height question 61 feet abnormally tall 13 year old',\n",
       " 'reached got backthey tell ask help ive sent 3 closest friends messages past couple days asking advice support ive simply left read sick peoples words promises reality right ask continue pain try live alleviate discomforti didnt want easier hide',\n",
       " 'dont know class topper brags smartest try come close pisses',\n",
       " 'woman like woman strong oh yeahif strong 100 woman beat wincheckmate liberal',\n",
       " 'counseling scary allive thoughts ive started couple months ago started losing interest things enjoy started feel unloved lonely week worst thing couldve imagined happened best friend killed february 24th 2018 started feel sad hopeless point getting knife looking mirror tempting killing people counseling im scared bad mean supposed help dont wanna suicide watch family thinking different school im known clown hide feelings think im scared',\n",
       " 'im scared death starting scare lessi laying bed listening music silently letting thoughts flow nap stress loneliness stuff thats happened hope future makes feel dumb im young supposed phase thinking suicide came mind normally thought immediately goes im usually scared death year got pretty close ending wasnt thinking quickly realized scared right thought felt calming anxiety washed away easily scared death dont think like time im thinking completely',\n",
       " 'wanna kill fucking badeveryday fucking day fantasize going rampage killing bed sick tired living things stopping parents fucking unfair reason sad ran problems past ive convinced believing thats problem bipolar moods range extreme happiness rage anger god fucking help comes bullshitting way room run cant believe ive actually given murdering parents thought killing wouldnt pain seeing dead body fucks sake dont want live anymore 14 fucking years depressive bullshit im 22 got hit depression age 8 ive experimented kinds meds 1600mg lithium right prescribed doctors time pass shit going ok happiness lasts week swirling sorry ass sadness 6 months',\n",
       " 'posting random images forgetday 46 compromise wanna playerbut wheels aint flyyou gotta hit upto pimp rideyouve got pimp ridedamn riiiiightyouve got pimp ride',\n",
       " 'current relationship current relationship statusits blank',\n",
       " 'want scream facebook dont want live anymorebut friends suicidal dont want flashbacks attempts time asked going safe lied said yes know anxiety later night tried looking hatch leading building office isnt theres way open door leading locked patio seventh floor buildingi feel terribleeven things want wont know upset person tell therapistwho cops ambulancefuck theres long trail social media posts foreshadow ive',\n",
       " 'helphiits girl ive steadily fucking life year half left snapped ive started dating shes perfect cant stop thinking fiancee day hurts started fixing things life knowing likely killing want pain stopshes flawed shes grumpy totally opposite interests miss 4 months split month day hurts want end dont know thisreddit youre hope right dont want continue life im hurting girl im datingim terrible human cant live anymore',\n",
       " 'dont class today ampx200bhttpspreviewredditd9982a6u95t51pngwidth500ampformatpngampautowebpampsd3d2eafe81e87f3869bfd5b878db8a95180df0b0',\n",
       " 'wanna prank friends im bored friends discord sext ill tell happends',\n",
       " 'sick killing summeri cant live anymore im giving time write letters cant anymorei die loveless dumbass shitty age 18 thats fine doubt wants letter maybe simple goodbye suffice',\n",
       " '0 exs gtgtgtgtgtgtgt im literally proud hahahahhaha',\n",
       " 'measks horny question subah yes accusing pedo instead 2 mins sad life research',\n",
       " 'nostalgia vibe time listening songs like 2016 watch silento came know whipnae nae guy think listening red ass bussy',\n",
       " 'dont like friends recently ive finding friends falling 3 categories1 unmotivated reach respond word answers time force carry conversations category adopted depression personality boring 2 common friends went school arent ideal friends friends want reason talked day im happy strangers 3 politically different said care echo chambering political ideologies point conversations repetitive annoying want discuss different mildly disagree im excluded conversation nearly kicked social circle hate dynamics dont want friends people anymore want leave past highlighted quarantine reflecting way needed im stable rely time total social isolation right like bad idea dont know',\n",
       " 'hate humanity hope climate change wipes including mewe think civilized enlightened trash treat sweetest members society like waste dont look talk right supposedly nembutol mexico 450 usd customs nabs lose money dont know good risk clean painless hate beautiful people life handed platter satisfy lower order brain functions humans hope bad things happen wish true meek inherit earth true meek inherit bullshit',\n",
       " 'ignore spami hate physical appearance family want die',\n",
       " 'good idea wouldnt epic like icelandic medieval femboy like owned cottage raised sheep wore dresses day husband came home rowboat glorious battle europe jumped arms carried femboy wife cottage savage love bed wouldnt funny',\n",
       " 'need fuckin ketamine bro',\n",
       " 'feel lonely dont feel like talking talks leaves hurts alot maybe good maintain friendship',\n",
       " 'hate muchwhy mess bad ruin think absolute stupid fucking idiot',\n",
       " 'guys think im sexy yes yes',\n",
       " 'woman love chronically ill suicidali recently fell love woman fell love right lupus killing fact chronically ill doesnt point continuing reason live reason didnt entire bottle pills drink early grave christmas eve kills wont able stop feels like appropriate forum leave share opinions wish dont think theres feel differently shes best friend lover dont want living shes',\n",
       " 'dont yall hate wake feeling pretty day day think look like average hate days look average',\n",
       " 'cant deal abuse anymorei live abusive mother emotionally abusing nearly 30 years golden child sister wrong angering point retaliationi escaped abusive marriage forced home knew meant going abusive mother hoped shed changed hasnt week abuse started shes actually trained bodyguard use threat real violence abuse mei dont theres escaping people reasons havent tried kill incentive havent changed cant tell feel dont want burden knowledge problems emotionally fragile right know tell tell mother mother didnt believe teenage years diagnosed depression shell im melodramatic trying manipulate world damn disagrees heri cant psychiatrist talk suicide time going impact transition female assigned birth male lateri dont know',\n",
       " 'gen z called zoomers zoom slowly application yeet',\n",
       " 'irritate meit didnt use irritates people arent nice angry feel like killing dont people try hard irritate',\n",
       " 'feel disconnected people mei dont know worry friends family dont like assure feel like im feel usually feel dont wanna admit need help ive wanted ive angry mean rude etc time dont feel like im constantly questioning reality want better day better worse im losing weight ill starting new high school soon perfect feel lost dont know anymore dont wanna broken feel like burden friends family look amazing people think useless dont wanna ruin admitting feel dont know trying',\n",
       " 'welp found glitch vigor kinda wish unsee httpsyoutube8gsslwfkhpmhttpsyoutube8gsslwfkhpm',\n",
       " 'buy new phone currently sisters old phone iphone 6 kind hate theres wrong volume barely hear loudspeaker rings wants silent mode miss lot calls kinda outdated apps dont exactly work dont like apple general year ago asked mom new phone graduated btw best school said shed buy instead got phone months asked mom sister kinda broken volume stuff yeah dont mom fulfilling promise anytime soon dont want remind ill bratty ig ill buy decide toso yeah uhm id buy new phone itd isnt expensive currently looking huawei y6 yall recommendation lemme know ig',\n",
       " 'alright im gonna promise stop asking advice guys idea fucking asked asked post yeah',\n",
       " 'meeting robert plant weird pub meet dad good friends',\n",
       " 'actually feel betterafter reading forum reddit thingy week started feel way better life situation like people real problems like losing debt unsuccessful attempt killing problems stand near started realise life isnt bad im pain depression feel lot better like general bad doesnt change bad things hopefully finish weekend yeah untill im totally fine gotta listen muse read',\n",
       " 'im gen z didnt lot gen z stuff relate gen alphawhat pop culture need truly gen alphaitll start life',\n",
       " 'confession time1111323 use shampoo oily scalps scalp isnt oilyi use smells nice',\n",
       " 'outside friends 8pm hits differentimagine vibing night sky good company',\n",
       " 'brain needs help withe spelling youre mind fuck spell word withe e end fuck withe bullshit brain fuuuuuck',\n",
       " 'im persontiredneed finish job',\n",
       " 'lost friend friend online blocked claimed 70years old pedophile man paying kid pretend little bit drink party night playing claiming old continued blocked platform doesnt believe im real ive tried doesnt believe funniest shit happened night mean 5 minutes conversatioi swear wasnt tik tok',\n",
       " 'need talk toto bad day thinking taking life feel free send message aim snyper2s usually online playing video games browsing reddit feel free send message know isnt feel like need help fellow redditors',\n",
       " 'hopelessi worried thoughts eventually actions people tell things better actually isnt trick complaining making sure wont harm yourselfi feel helpless feel dont grip life anymore usually blame telling screwed want accept helplong story short suffer mental problems result ruin love hate harm people leave cant separate dreams reality anymore sensitive life able cope ive tried kill know try dont know therapy years mental hospital twice meds dont work feel way backwards dont way',\n",
       " 'hate girls randomly like joke yeah happened im broken',\n",
       " 'im sleep guys 140am ai got like 430 hours sleep waking school sooo wish luck guys im fucking stupid',\n",
       " 'dm want friend im lookin ppl chat im bored asf hmu',\n",
       " 'pedo ask number number instead 248 4345508',\n",
       " 'feel like donei becausei lazy shitshow called life feel exhausted time attitude sure wont able reach dream people tell stop complaining believe want god wish euthanasia legal country die thing life peacefully easily tired sad miserable',\n",
       " 'im thinking killing soon ill bet good reason shouldnti anymorei depression 2015 gotten worse nearly day past months ive suicidal thoughts tell parents grandparents lose shit start arguing argue mothergrandmother reasons im tantrum 7 different therapists able help parents wont let therapists dont blame im homeschooled cant school counselor taken countless different medicines im taking right helped 5also im allowed suicide hotlines talk anybody chatlines parents convinced cps away cant suicide hotline number backs parents overprotective people suggest watching favorite listening music combat depression andor suicidal thoughts reason feel like dont deserve thingsmy mother thinking putting mental hospital dont blame family support time helps ive big burden family day born deserve better ive met deserves better',\n",
       " 'talk 2 nicely dont tell u hate u love',\n",
       " 'dad took away headphones says cant listen music homework sadge',\n",
       " 'second post month dont know guts desire strongi dark moods hurt push away lucid moments like feels like ive regained control emotions actions im scared tired want forget awful feel time earlier tonight bought sleeping pills throw ill probably buy moment dark takes im going home tomorrow im worried time dont want worry probably coward damage dothink makes sense anymore',\n",
       " 'like theres way outim scared im angry im confused ive contemplating long time attempts past proud cause pa said fing low life coward life things seemingly good bad time pretty bad wasnt physical abuse time like past words hurt worse rod tried felt good eyes went dark felt peace rush pain wasnt officer got away maybe real time idk dont wanna die dont want live evil corrupt misleading world anymore government best interest hand family friends dont exist im grateful like health intelligence shelter clothing joys life fing people right evil evil evil comes day steal joy fing shred optimism wont details incident trust yall evil deep seeded hate filled evil roots bad childhood evil haunting evil dad makes want kill dont like hurting people want kill way tell evil man possesses evil hate ignorance child abuse dont know dont know feel hopeless turn im afraid im trying best evil keeps tearing ive actually started self sabotage body excessive alcohal consumption chain smoking way cancer wont judge like killed pretty thing',\n",
       " 'user worldit started post user got worried dm okay shes going lot contact frequently points regularly im canada shes sweden thats know shes know kids asking questions hard questions attempt topic suicide mental illness hard subject talk freely ask things kids laugh smile week talked seeking professional help hope shes talking walk talks grey kids thing keeping dont want hurt sake kids tips possibly risk people said text time need talk moment reply didnt reply checking comment check care dont know thing things help comfortable dive deep whats affecting safely bringing undoable im afraid cut sees post risk im willing help whos going pain',\n",
       " 'woke late class ankle surgery yesterday morning anxious didnt sleep im 45 minutes late class im going miss onebut rest classes use surgery excuse couple days work need doctors appointments parents fine missing classes feel bad ankle hurts pretty badalso note online school lack preparation school classes day classes pretty pointless teacher lecturing random stuff hour learning outside class assignments',\n",
       " 'listen anime music wondering listens anime music time like openings endings character themes remixes music anime recommend sth',\n",
       " 'think itmy ex 3 years ghosted 8 months havent heard new hooked guy gave herpes raped old friend weeks ago cant anymore keeps getting worse guess deserve iti dont understand didnt love anymore feel disgusting time feel sad lonely emptydont insurance anymore cant afford talk dont friends burden family left want disappear forever hope dojust wanted know guess bye reddit',\n",
       " 'posting relatable day 1 tv showstreameryoutuber watch plot fun imagining world live sword art online degree dream smp drama playlist watch youtube ill link comments energy couple hours',\n",
       " 'sing song comments section thing anymore like',\n",
       " 'imagine needing talk ledge oneyeah thats past couple nights ive needed dont kill heres cares feel worthless pretty life contributes wants friend boyfriend doesnt care works favor look forward im 21 amp woman college involved think easy friends ive able possibly im handle stuff like shows cares im fucked anyones friend including whats point goodbye world feels good',\n",
       " 'im lifemy life truly horrific lifetime abuse 33 years dealing chronic homelessness finally safe permanent housing isolated cant home day day cant drive hit car cant handle taking bus lyftuber expensive limited availability covid life betrayed years ago friends lead busy lives dont applying parttime jobs disability isolation causing issues cancel interviews cant handle suitable volunteer positions available able park avoiding social distancing makes feel horrible contacted churches organizations getting social supportinteraction ignoring ive contacted theyve replied deliberately ignoring emails sent second case virtual communities feel solutions left situation cant handle time especially ive ive spent trying survive physically mentally exhausted im tired fighting suffer asking help life mental health system joke caused harm hate society end life soon',\n",
       " 'im tiredim exhausted ive able think past days killing ask help anymore literally gives shit dont know im bothering things getting worse worse im going end fucking dead noones going realize im gone dont feel like exist anymore havent thinking suicide years god im fuckibg tired meaning dont friends time try friends end putting forward effort person cant pushing barely bed feed wish break apartment kill',\n",
       " 'cbfathats',\n",
       " 'depressedhi im sure im called hotline couple weeks ago weird im immediate danger comes dont want live dont present okay somewhat know people know im struggling weird kind depersonalization im worried im going crazyive planned alienating dropping system point die notice care failed class im concerned dont care im concerned cant properly concerned im worried cant counselor report knew depressed ive fucked life think deserve miserable know thats fucked know stories things work real life meat grinder life anywaydont worry wont kill myselfi happy died',\n",
       " 'f need talk id feel comfortable youd dm female guess im looking advice idk exactly im looking maybe therapist ill explain dm',\n",
       " 'wrote suicide letter casehello 15 year old 9th grade diagnosed adhd dyslexia social anxiety lead depression im suicidalnow wrote letter cant leave thinking someones breathing necki left friends anxiety think hate speak wrote cant leave pathetic life want try ressurection theory thats thank reading post',\n",
       " 'desperately need helpi 16 f boyfriend 17 boyfriend happy highschool relationship years unfortunately ive mistakes bisexual straight chose hide worried wouldnt accept years happy near beginning year find depressed like idiot way ended fixing talking sexual love boyfriend dearly discover polyamorous enjoy relationships selfishly end wanting stop boyfriend wanted experiment person realized wanted loyal try stop dont manage person boyfriend gets upset idea stopping threatening commit suicide stuck stay boyfriend suspicions orders messages hell leave hes angry sad dissapointed said things shouldnt things enjoying thrill issues stemming father come says thing making happy thought loyalty going university ive ruined loves wants stay cant bare upset fail happy kill ive tried better cant want stay want loyal want like need feel better wont accept therapy agreed information account male friends agreement let experiment pleases im supposed find female partner approve doesnt want shady like need way feel better heal relationship strong hes willing promises desperately need way happy',\n",
       " 'find peacei 23 old law student croatia finally prepared planned working live money family till september 1st hang',\n",
       " 'anybody know song rooftop snipers fat rat know',\n",
       " 'im 16m read dont message watch netflix play games scroll tiktok instagram play gta warzonei watch lot things im typing thats decided message dont',\n",
       " 'yooo pee look orangegreenish help dont think normal drink water',\n",
       " 'drive left mei far gone use life werent case longer tolerate everyday monotonous boring wake sick stomach morning cant tolerate point depression sapped enjoyment loved video games films reading exercise chore instead accomplish feel obligated instead genuinely want want find work stop financial burden family wont admit know anxiety feel bear zone dissociate expected work cant function like normal human friend proposed try writing publishing story thats thing cant muster energy left thinking maybe stay game thrones ends experience upcoming video game called death stranding im near end sanity want planet sleep respite im losing dont know im posting honest guess im willing thoughts cant open family friends im seeking therapy anymore receive trite platitudes hope wants swallow pills tell life gets better supernatural access future fucking sick wish courage hang access firearm',\n",
       " 'gotta love live close railroad trains squeaking making demonic sounds night finally stop like 400 pops trains rolling tracks 010 recommend',\n",
       " 'stay away booze kidsin vino veritas thats ive heard ive got couple pops thinking dissatisfied things failure thats gets moving notion like life unlike im bit advanced years impulses dont away years kids think ive seen ive half century impulses 20 think ive held long depression nonstop close years time let win ive got reasonably painless exit strategy word arent committed lifestyle stay sauce pushes care',\n",
       " 'monkestrong',\n",
       " 'jumped todayi spent night planning death got actually couldnt know want finish art book gift person love stupid reason im coward maybe ill try tomorrow',\n",
       " 'caresi dont know way simply cares sure felt way dont know deal person earth deserves love cant day wake live hate hate reason cares loves single bit want kill cant anymore im fucking lonely fantasize jumping highest building city',\n",
       " 'bruh armie hammer stuff whack guy dumbass finsta dming people verified accountand people like dont care hes cannibal hes hotare gross fuck cause fucking cannibal b good looking like',\n",
       " 'cut tonightvery unhappy fault looking ways harm confidence light end tunnel honestly felt liberating small knick helps hear cut arm horizontally dont want',\n",
       " 'seeking support im chronicallyill broken mess person inching death reaching againfirst apologize number times ive posted ive brief interactions great people seeking connect relate wishes talk loneliness component suppose means im looking thatll stick inject hope daily liferegardless im feeling selfconscious efforts reach wont continue long follows copied recent post forum short ive feeling stuck lately feel im backed corner way death im unsure handle thoughts suicide pretty inevitable longterm illness im sure lately loud making sense moredetailed rundown largely borrowed posts long read bear ive chronicallyill 30 years live family lived independently feel like teenager got sick older makes social pariah experienced real life teens vicariously disappeared life higher learning marketable skills physically reasonablyemployable im financial burden family likely remain im dead illness taken bounding leaps worse decade especially couple years induced circumstance left far capable distracting successfully longestablished light hobbies fill time soulrendingly lonely small handful friends dont want piling problems dismal outlook sense place lives continues shrink realistic romantic prospects hopes bores particularly deep want use purely validatory purposes feels like im built programmed need share life especially cruel given circumstances life taking things increasing pace returning fill voids true especially powerless actively fight counteract years illness dependence primarily financial bigger things life fostered nearly zero appreciable ego mountains anxiety uncertainty selfimage exist terrible wave magic wand cure completely right second impossible mess fix far years salvage close want life longer hurts daily life passing life going fixture home kind family pet absolutely look forward interests cant pursue needs cant meet desires cant begin fulfill spend day feeling im life person nearly parent gone care pass siblings unlucky ones draw short stick guess cycle continue family shrinks gone dreams career spouse kids home building continuing legacy living quiet modest life love instead ill footnote family tree tired feeling like burden tired feeling like cant begin measure standard society place nearly littletono social worth definitely financial worth anchor disappointment drearyreminder couldve rejected mocked ignored aside forgotten illness life irony im irony correctly know im great fucking person im smart interests empathy patience lot things list things matter oh live home income worse sick eww im sure idea care purely companionship bring table strictly practical standpoint dont value continuing live dont mean sound glib way theres plenty value life people world nearly walled theres windowshopping time landlocked watching fly feel true hope removed equation ive gasping air finally dawning maybe path forward death life hope love ive earned created life thats greater literal sits chair worth living pushing pain misery feel designed need partner life cant feel need create indulge creative pursuits nope cant rare occasion life decided allow glimpse yanked away destructive effect let clear dont want die paradoxically idea scares concept ending life finding method etc unnerves im sure cant living like anymore fucking cant senseless suffering loneliness fractured stitchedtogether nature soul dont know longer continue like know timer fast shrinking reluctance ending things diminishing thank reading mess forgive length semireposted nature im sure im looking posting dont know heard companionship dont want pity dont want waste anyones time comments questions thoughts pms welcome point',\n",
       " 'sad boi hours tell joke yee idk dont wanna sad cause justed aced government final cause girl left week ago flirting new guys',\n",
       " 'white people like black people like black people like white people likewe live society',\n",
       " 'kills self painim sorry jsut wanted understandmaybe druggin help haha',\n",
       " 'iti thoughts wanna scratch itch bh',\n",
       " 'random post everday forget cuz im dumb day 1 keanu chungus pog',\n",
       " 'periods fucking suck trying gross currently 3am unbearable pain cramps genuinely worst pain felt experienced fair pain im asking pity want sympathy womenpeople periods life bc forgot awful',\n",
       " 'yk think todays beautiful day proclaim undying love slash jay kay uwhatifwejkunless kinda love lt3',\n",
       " 'kill im willing accept responsibility lifeim talking real responsibilities kill able live outside live way able care aging parents siblings set goal finding way help people able live way cant cant exist care people im going die cant cant live people cant live people mind handle life handle things sake feel like need focused needs wants feels completely necessary things people makes feel burdened oddly uncomfortable die actual plan life homeless shit hits fan hopefully try build life ties',\n",
       " 'omegle dude banana costume heiled hitler 2 girlfriends',\n",
       " 'maybe time trqvel happened disturbing lack time travellers arriving stop 2020 happening suggests actually invent',\n",
       " 'spongebob realisation fellow teens okay episode shoes untied flying dutchman states hasnt tied shoes 5000 years account lacking feet instead tail episode mentioned squidward unfriendly ghost picture body legs clothes modern looking store tie shoes alive multiple characters turn ghosts eg spongebob plankton etc tail immediately means tied shoes 5000 years ago claimed alive unrotted body modern store photo colour add mean takes place 5000 years future thank coming ted talk',\n",
       " 'walked mirror face makes look like im 8 like literal child people pass think holy shit thats big ass 3rd graderlike puberty checked boxes face left looking like elementary school taking drivers ed seen succumb bog mossim genuinely upset',\n",
       " 'life isnt mei im perfect ive got flaws spend majority time thinking help people mean kid thought help chose career strives people happy happyim huge disappointment dad life ive wanted impressi want proud way things going education health think time gave left good',\n",
       " 'welcome mind suicide favorite topicsi discuss thoughts people know perceive know people perceive bad thing dont think good bad think necessary noticed suicude rates going country thinking struggling pay bills abd parttime jobs wanna drugs sleep theres generationwe degeneration honestly dont fuck hell going survive shit parents grand parents built continue like born age catastrophe',\n",
       " 'think reasons notmy life heaven compared food table roof head committed loving bf august sexually assaulted classmate week college arrested didnt hear little month ago hired lawyer going sue school lack security hoping stop issues advised case send file happened went jail paid bail sent lawyer court jury believed wasnt testify wasnt tell ruined life got bail sent away scoff record happened haunts day cant look naked wanting puke cant showers wanting cry hours cant relations bf flashbacks cares cares happened cares cant rest life pretending im fine im honestly verge crashing car semi ive diagnosed depression 9 im 20 try hobbies loves joys seeped life little little stopped taking medicine worse cant councilor cant explain pity party childhood drug addict mother found overdosed 9 father kicked 14 cant cant going rabbit hole try feel better dont want hurt bf lives dont want carry image dead body dont want feel guilty finding love grandparents old xont cant understand grandfathers gone cancer cant loss sister niece going dont want bother thinking itll hurt cant stop thinking itll stop hurting',\n",
       " 'questionso big ass vain running foot happen id cut deep reach slice open',\n",
       " 'painful way diecant anymore dont want painful',\n",
       " 'question uhiimsebastian pleeease tell',\n",
       " 'mind brink collapsing selfim fighting sanity lately evasive water sahara parents useless mother entirely loving intentioned alcoholic moron father ingenious narcissistic sociopath whos wanted minds high caliber ive failed college twice going time understands words speak causes fight passion heart ive taking care alcoholic mother fourteen step ive taken forward life long fought battle ive safety net motivation stability long remember ive excuse world product environment ive risen reality bent mind unfeasible shape empirical observations world contradict logical derivatives mind imploding little hope left bleak future dont want wake tomorrow need inspiration need bend id appreciate',\n",
       " 'french people im learning french grammar bad swear wanna practice native speaker wants',\n",
       " 'decided kill 1 year time let miserable life selfish bastards heretoday cryin washroom hav failed miserably relationship dumped abusive ex bastard fiance extremely depressed thing wanted love ask born bastard hope burns hell sayin dont feel good anythn life dont enjoy anythn life burden feel jealous eveyone bf couple triggered start fights brother talks fiance emotional support tbh hav friends loner think better end miserable life live eveythn temporary anyways financially stable life responsibility mental agony cant start telling u hardships hav faced life 32 years thinking hav endured breaks honestly cant strong anymore living india sucks anyways fuck world 1 year free',\n",
       " 'dont safe place amp im stucki dont expect responsesinteraction need scream somewherei dont friends anymore im horrible socializing cant friends cant job despite trying best live mom lives 2 blocks college moving makes financial sense horrible covid denieranti mask lung problems life coworker tested positive covid wont tested sister lives 2 hours away moving 10 hours away stressing mom supposed drive person sister moving immunocompromised sense mom refuses tested cant risk wont able goodbye shes family member left im worried mental problems wish wasnt moving ocd causes think things effects world crazy ways example got mac miller tattoo days later died decided st louis covid hit took friend concert odd told killed fault got close thats thing keeping alive blamed hate today couldnt stand house mom ended parking car woods 45 hours hide kind mildly overdosed painkillers like 4500 mg ibuprofen distraction im home im throwing mouth swallowing doesnt hear throwing mad accused high got home dont smoke drink guess technically high excess painkillers im tired stuck dont want dont freedom kms peace',\n",
       " 'im tired fighting want peace finally find meeveryday fight im tired fighting want help hear small sliver happiness time nearly manage universe beats miserable dark place beats harder attempt cant fighting fighting treated like leper black sheep try teach im tired constantly repeating reaching trying find happiness listens cares im tired insurmountable guilt feel day breathing dont strength mother children need wife husband deserves killed daily guilt knowing pain theyd id left dont energy fight anymore cant live guilt knowing id themim tired dont want fight anymore',\n",
       " 'advice boys boy 1dont thing ask boy tell dare genuinely crushes us2dont scared approach chances getting rejected low suck taking hints3do talk youre feeling relationship talk like friends4set standards low trust guy likes dont popular boys cos popular guys',\n",
       " 'utterly exhaustedhey im actually pretty ok place writing probably allow better insight knowing expect spiral suicidal depression end nighta little background info im 19 graduated high school barely went college year leave semester anxiety depression got bad couldnt handle class didnt money going barely graduated high school got absolutely scholarships moved friend shortly coming home lasted half months got irritating dysfunctional ended moving dad needless dont think count friends anymore dad emotionally abusive manipulative entire life living time beingand problem im completely worn dont know goingive struggling mental illness years health anxiety ocd depression hospitalized times suicide risk 16 hospitalization worst experiences ive second november month second voluntary hospitalized month told friend suicidal basically thing cops didnt know incredibly stressful experience nonetheless especially received bill mail blood tests came hospital ended pay hope called hospital got referred like different departments equally confused sure drive home idea youre liability pay hundreds dollars emergency care didnt ask needit difficult manage mental physical health difficultys compounded year lost health insurance states medicaid program booted january 1st turned 19 pregnant dont kids im longer eligible didnt job lost insurance ended missing open enrollment deadline dad health insurance available job gets health services va expressed multiple times unwilling pay health insurance couldnt pay 500 monthi end referred gp essentially free healthcare program city doctors program agree donate care people need dont like gp tends brush health concerns yes know health anxiety ive struggling symptom weeks end feel like doesnt diagnostic tests ask taking blood isnt transparent health ask physical copy test results want need address turns values concerned im currently talking people run program change doctors stay program looks unlikely worst case scenario sliding scale clinics city ive told overall quality care provided pretty poor compared regular clinics important health check like rest year im going stuck subpar healthcare matter horrible anxiety cant stop entertaining thoughts missing potential early diagnosis horrible doctor incompetent couldnt doctor allon mental illness physical health concerns ive recently developed eating disorder know extension health anxiety originally started trying eat healthy wouldnt worried horrible condition brought diet ocd constant need google seek reassurance know lead eat extremely restricted diet like point im severely calorie deficient probably significant damage organs heres kicker believe eating disorder im fat ive actually lost 60 pounds im 165 past months unhealthily time people including damn doctor look sudden weight loss positively dont issue current eating habits itll stop fat know stand lose 20 30 pounds im sustainable hard trying recognition treatment need extreme fatigue lightheadedness point constantly feel like im going pass worsening depression anxiety needing quit job dont energy physically demanding work anymore oh definitely result lack calories nutrient deficiency im fat worry according doctori starting things underway regards seeing therapist managed find place town charges 10 hour lowincome patients hearing scheduling appointment tomorrow earliest feel good gotten set im afraid im going hear thing ive heard healthcare providers years need meds function youre trying help choose like problems intense deal actually therapist patient reasonit feels like im going friends college right im cant hold job right im considering quitting predominantly health reasons living best years lives wasting away locked bedroom day anxiety depression want ive planning moving away months saving money 500 ill probably job pay pocket healthcare significant money gone soon dad tells time time im childish need grow im believing right like discipline im crumbling responsibilities adult wondering whats point whats point trying better trying survive ive tried years gotten rock debt im burden family lot friends including called cops withdrawn im depressing dont know help dont hold im goddamn lonely think lonesomeness pretty huge factor suicidal tendencies want away help ive got energy time especially money feels like im eternally stuck waking moment im wasting time nights thing calmed fall asleep thought kill stress pain instantly away recognize messed dont know options left feel like cant bear night house body guesstldr im depressed anxious ocd eating disorder health insurance soon job health like ive exhausted resources ill want thoughts suicide thing help cope anymorewow wrote way looking like diary entry cry help thanks bothered read thanks advance advice given makes huge difference',\n",
       " 'heres form enter number theres spreadsheet data count count count httpsdocsgooglecomformsde1faipqlse8h1d8yl0tgpku1oynxrobhkmwvjsn87kfldsifctkfnq7aviewformhttpsdocsgooglecomformsde1faipqlse8h1d8yl0tgpku1oynxrobhkmwvjsn87kfldsifctkfnq7aviewformplease negative numbers positive',\n",
       " 'proper timeline woulda obama 20082012 romney 20132021 wouldve avoided trump altogether getting new faces 2020 election prolly biden hillary wouldve dealt 2016',\n",
       " 'mom turned screentime yesterday mom asked watch porn straightup blue going lie thought stories parents walking pretending like didnt happen dont like lie took chances said oftenshe kind went um walked away thought cool wed pretend like happened today im online class notif saying screen time basically phone computer brick 10 pm 7 mom single page visit long spend apps access 247 messages maps literally know texts use insta discord havent left house 3 months went argue mom went rant christian choice dont need late typically ill stay 11 12 hw thought knew okay guess weekends ill watch netflix 2 anymore gues talked friends theyre karens yell fast food worker post facebook im mad right porn thing reddit wink stupid u guys tips evade screentime thatd neat',\n",
       " 'choose end itim going second year college expensive af parents paying dont honestly dont think makes sense wait graduate end dont particularly good school im shit finance major probably wont job anyways despite good grades think save parents money life insurance policy help idk dont think ill end true ive closer fuck life anyways feel like lifes big joke fun strangers gym im terribly unattractive person ive girls attracted tell im attractive dont think clearly im asshole ive horrible person past racist antihomo atheist feel horrible regret want clean slate',\n",
       " 'existence painfuljust act alive brings pain everyday',\n",
       " 'war attempt 3 assassinated archduke franz ferdinand',\n",
       " 'reveal face im afraid cause mental issues',\n",
       " 'fucking hate cold showers feels like showers pools know ones feel rushed real privacy fucking hate hate cold showers',\n",
       " 'dear furries dont understand interest things doesnt mean stop feel ashamed accept matter',\n",
       " 'suicide like way glean avoid going school worki cant think better option',\n",
       " 'brother allergic pears ate pie thing predominately pears days ago said felt like toothbrushes rubbing throat stomach started hurting bread pie felt reaction im wondering fuck allergic pears things thats ive got im brother cant eat pears guy know maybe im ok gives label labels comforting im confused cant brother eat pears',\n",
       " 'apparently fucking lie probably gonna string incoherent thoughts idci thought getting betteri honestly thought day came id able handle emotions deal running awaybut apparently 16 years old cant handle little sadnesswhat fucking bitch huh',\n",
       " 'people 14 asking want bitch daycare fillerfillerfillerfillerfillerfiller',\n",
       " 'phone phonecomputer right',\n",
       " 'im pussyi cant pussy write story im bad like im failure',\n",
       " 'dont live fori actual friends like managed push away person loved mother broke father enforced dont live feels like im spinning circles im right started stuck circle self hated world falling apart cant stop',\n",
       " 'thought nowfor like month iam thinking suicide belt neck didnt push chair depressed unable eat 2 weeks finally sorted feelings month came stronger events actually real time self esteem confidence consider boring useless feel like iam people cares matter says doesnt help sided loves like heart torn apart single day aching hurts lot asking confess easy confessed got rejected cant try cut contact find way wants solve problem iam special special relationship try help huge success wearing strong fine rely mask iam limits iam certain cant find happiness find achieve surrounding friends finding found happiness couldnt 10 years reason iam hanging right bcos mum sleeping rooms away shes away work seriously second thought happens seriously help crying unable eat drink',\n",
       " 'im like boys pls dm sad rnm14 love soccereminem weird',\n",
       " 'want talk want talk im suicidal thoughts need talk im 13 nonbinary like undertale pokemon hero academia nights freddys bendy ink machine animatingdrawing',\n",
       " 'rock hard placei cant reconcile ive spent 40 years life outsider wanting connect feeling like crappy relationship preparing monastery led single father know cant simply sake son love cant stop thinking utterly miserable talk seemingly wouldnt judge category guys fucked ironically yoga meditation teacher vast intellectual knowledge practices students think sort enlightened master order students feel like facade fake pretty feel thought suicide makes feel relieved dont want son suffer good mother step father dont want face world dont better im addicted pot tobacco sexual fantasies think son better influence feel like im stuck past grew unpopular kid school kindergarten high school abused sexually young age physically emotionally feel like point return ive wasted life hopes dreams held dead wake morning think ways look like accident eventually break think suffering cause son dont want fucking anymore want fucking drop fucking dead dont want son suffer chance hes encouraged loved isnt subject abuse knew age people know going offer sorts bullshit cliche advice insinuate suicide cowardly wish know called cowardice cowardly im fucking miserable want life fucking badly dont know let past dont know forward meds dont work religion complete utter bullshit feel best quiet moments solitude nature rare happens life time time trust days like friends betrayed better acquaintances think world happier place werent dont know solution needed write seen doesnt know',\n",
       " 'idea black mirror episode goverment bad controls ppl',\n",
       " 'fighting depressioni recently ended friendship cheesy kind hurts bad emotions including depression hit spent alot time end like thisi dont know feel right affecting point end itbasically friendship went bad went bad point toxic tried saving didnt help best mental shape thoughts headi dont know',\n",
       " 'lost mums bus pass oyster card know shes going beat absolute living shit yeah 4 hours till wakes work',\n",
       " 'like fruit punch monster redbull pm im addicted monster',\n",
       " 'hi talk meplz im sad want hi whats im sad im worried',\n",
       " 'whats peoples fixation wanting slurs slur like slur good thing want whats point',\n",
       " 'idk living dying arent easyso ive suffering toxic household effects sudden fall grades social anxiety feeling bad extremely low selfesteem considering suicide option year depressed start hurting think death solve problems honestly parents wouldnt care dead survive suffer entire life 17 nowi lot research attempt hanging retreated later read lot articles paralysis suicidal hanging right confusedwhether live die cry vent hug pillow tightly corner bed cry shit feel ashamed want die ready accept tolerate pain dont want survive attempt',\n",
       " 'comedownin bulwarks sawcutting away good feelings weekwith good morning frownits possible married person worldwho hate',\n",
       " 'fucking hate brain rant tell people know special treatment suckok brain sucks apparently im gifted actually bunch bullcrap means parents homeschool learn differently turn means incredibly lonely social skillssocial anxiety literally grand total 1 real life friend talk lolalso im homeschooled easy lead incredibly sedimentary lifestyle im fat extremely low self esteem lmaoi adhd means cant gifted things lol read 3 books summer havent finished far attention span shit waste day random shit playing video games literally dont need gifted mean nice wanted rocket scientist want dj produce music dont need attention span long effort good producing musicalso probably anger issues apparent lately getting mad insignificant fucking things reason family online friends sucks ass im probably going end burning bridges people bullying harassing know need control moment dont carealso tourettes isnt nearly bad extreme examples annoyingoh yeah mild sensory disorder makes incredibly hard fucking time eating certain things family loves oten lot time eat like half dinner lmaotldr brain fuck ton bullshit lcya',\n",
       " 'dont think fari dont know whats happening anymore panic attacks silent longerim starting feel dysphoria spineim starting realize life isnt planned outim growing tired long nights headi miss hugs kisses lipsim tired constantly fighting people wont win againstbeing trans gay crime someones eyesi want bear backi want someones chipmunk againi want cuddlesi want future lover nowbefore late breath taken need lovei need hug latebefore right im okay know futureim sorry',\n",
       " 'im going kill day dog diesi cant imagine living baby',\n",
       " 'friends adult 21mive lonely friends dont think life enjoy life meet close friends 23 months social events people work think im quietweird tried outgoing recently talk sucks youre group 3 people talking acknowledging ive struggled social awkwardness entire life honestly dont know live like hermit im working earning load money age getting strong good looking gym dont know start making friends ive known happened school friend work lunch 12 weeks ill sit read phone downstairs people age fun friends drinking sex im missing feel like im wasting life thinking achieved think needs companionship enjoy life popular people better time benefits honest ive seriously considering suicide im posting attention help guess reassurance dont think guys sympathytwo friends told depressed want talkto bluntly want die im lonely',\n",
       " 'lets play game profile click start chat chatted send message',\n",
       " 'think life extremely disappointing dont control goes youi lost job dont feel confident bag live thought havent slept like week',\n",
       " 'talk im tired cant sleep feel lonely sad gtand hornylt',\n",
       " 'im wrong trump right oh didnt',\n",
       " 'crush fat friends tease point doesnt believe try comfort actual fuck world going fucking wonder people hanging shed roofs moral story dont bully people youre cool youre cunt',\n",
       " 'steps oreocookie cake learned tiktok dont usestep 1 cookies bowl mug preferably 3step 2 add milk bowl mugstep 3 rid milk turn cookies sort batter squishing forkstep 4 microwave 30 seconds 20 secondsstep 5 eat',\n",
       " 'post normalserious post comment nice meme post comment thiccgorillapenis word sure meme post think fun sure post comment nice meme post comment thiccgorillapenis',\n",
       " 'friends working project help teenagers socially anxious dont friends activities hi need little help recently new friends amazing wants help project teenagers socially anxious didnt chance new friends school pandemic planning arranging event june gonna meet huge popular park middle stockholm plan people feel welcome like theyre gonna judged wondering dont wanna look like idiot socially anxious people feel like im pushing activities activities ive left details post long questions interested ill happily respond dont know socially anxious people dream people smile feel happy wanna help hell sth wanna gonna posters posts social media apps think people sweden know event thank reading post',\n",
       " 'dont need relationship survive posts dumb girls dumb boys message stupid smart stay single youre better place coming literally crush thought need desperately portrays friends probably like better single',\n",
       " 'im fucking weirdo people tolerate pityive people message subreddit instantly ghost im fucked want ease burden people reluctantly speak itll easier deal gross manchild',\n",
       " 'accidentally taking adhd medication im like oh 3 hours time booster morning morning sm stronger booster realized ive talken morning ones past 12 hours past 2 hours mean havent taken like 2 weeks im abuse risk forgetting ive taken kicks realize wayyy strong',\n",
       " 'im school happy come talk ex want leavei know death bad ill attempt gonna tell ex love saved life hope chance cant speak miss help im hell',\n",
       " 'im university hopes meeting dont care degreei motivation care degree know selfish university essentially waste parents money know hold time job intellectual demanding university wouldnt friends barely socialise chance meeting spend life bare minimum degree going fucking hard bad situation university worth life long friends find loyal long lasting girlfriend accepts understand situation complex involves lot different treatment avenues dont know find deal deeply love personality care ride realistically cant happening parents expectations cant drop uni fights lived home time siblings academic successful people dont know like situation degree ends havent found things im looking sealed end suffering die intelligent aware able future',\n",
       " 'huge mistake relationship worst thing ive feel like dont deserve love goals lifei huge mistake wasnt cheating ex partner thought worse dont want live going cause kind harm dont know live knowing plans better mess happens pattern live',\n",
       " 'quit meds yesterdaywhy taking feel awful taking purpose day wish dead thats meds matters',\n",
       " 'running ideasi feel like entire life distractions procrastinating day ill run ways suicide im sick saying ill wait day dont want try anymore im exhausted cant remember time depressed wrong wish rely moments im burden carry ruin touch future cant',\n",
       " 'life feel like nightmare youok day felt like nervous break love family im responsible taking care dad hes away 15 im 23 right let point dont know feel dead inside motivation hate feels like nightmare live got probation jackass scammed family car took heat lucky didnt jail scheme selling stolen car took blame probation couldnt pay feesso waste time community service unpaid work working hours job paid enoughi lot chest pain everyday feel like im going seizure nervous break everyday cant fully support family care want end life goodbye life hope things change situation like',\n",
       " 'girls lesbian girls ive dated lesbians',\n",
       " 'im doneim going end ive practiced tighten practice run vision went black felt pressure run head like going explode couldnt hear ready dont know im posting im attention wanted way goodbye',\n",
       " 'im lifeim going drink disinfectant minutes hope successful',\n",
       " 'honestly want live buti depressed life past year ive lying parents going college etc room thinking dying found cant wait anymore parents love week turned cellphone wont able contact r worried mei rope packed suicide note thought actually write tell parents wasnt fault love hope painless belt neck wont hurt need place ive reading hopealllost etci didnt wont write wanted tell u guys somethingi dumb stupid hiding depression think pass time didnt try help life messed repair help dont let destroy ur life minejust help ok late thanks know saying stupid dont try talk',\n",
       " 'friend broke friendship today friends 36 years today met said girlfriend 3 month relationship doesnt like thats cant hang anymorei said okcontrolling emotionsi dont hurts muchim literally crying asking wrong',\n",
       " 'dont know remember means happyi diagnosed depression suspect bipolar alternate severe depressive feelings rage bad brings physically shake im 19 year old gay guy ive relationship life year ago ended guy thought friend apparently talking like hope remembered took years open consider dating especially man stigma thats entire life dont know parents gave attention needed dont remember real loving connection boyfriend child parents told bad wouldnt scold theyd pull aside talk send room cry punish listen reason wrong year ive felt completely took antidepressants entire time mother whos medical insurance focused getting meds getting point want live ive diagnosed depression 2012 thinking cant remember single time entire life happy satisfied existencei 4 people consider friends life 4 people enormous bullshit honestly feel horrible putting issues know best friend slightly depressed ive pushing away past months tell dont want places telling lost id lose little reason stay life theyre havespeaking best friend ive felt like love long time wouldnt problem considering hes bisexual monogamous relationship girlfriend 3 friends desire interfere hed pick hes best friend love know wont love itd easier explain woman mind fact certainly turned fluctuating level sanity himmy friends told making uncomfortable constant suicide jokes comments making vietnam flashback faces goddamn im trying miserable bastardi dont know want kill ive held 19 years hope day ill find cares care happy worry quality life im life ill like ive like life dont think change fair relationship reason found reason like thats ive wanted dont live possibility got bad know tools quickly painlessly lord knows think time havent gotten actually pulling trigger probably basic human survival instinct oh thats human conversation day',\n",
       " 'maybe cut lossesmy thoughts suicide came long time ago middle high school kind come gone past year ive pretty consistently suicidal want whats keeping family love dearly love dont think right hurt reason feel shouldnt ive dealt depression anxiety insomnia issues years werent im suffering hemorrhoids dont know basically feels like asshole fire like sitting walking coughing etc makes worse provided long term relief probably sounds stupid basically ive emotionalpsychological pain long time pretty excruciating physical pain gone days months saw person talk dealing 2 years surgery expensive relieve pain quickly itll leave scar tissue shit afford couldnt afford 2 week recovery time classes work research ive couple different things far theres telling long im going deal year supposed better good intentions plans shit went awry doesnt look better years soon starts look better shit gets worse feels like cruel joke dont want hurt anybody im tired living way ive given hope want end shouldnt',\n",
       " 'sabaton kinda lit metalizer aside worse albums pretty good listening absolutely vibing carolus rex rnalso metal ripper thing preventing coat arms tier',\n",
       " 'fuck awards sub miss',\n",
       " 'cut deephello wanna die im scared pain ive cut deep feel share thoughts anymore hate waking everyday hating feel like im close actually ending im afraid physical pain think gotten point doesnt matter anymore im gonna die anyways',\n",
       " 'goodnight hope feeling good happy sweet dreams going bedand hope good rest day remember care',\n",
       " 'getting tried lifemy life consists going school getting fun going work 6hrs dealing shitty customers coming home deal mom mental breakdownim completing senior year highschool dad told moving 7hrs away job week set idea moving im moving dads lease july need moved ive living brother mom moved housemy mom cant afford rent need moved dads lease cant stand living mom need find place owni dont know life mess sorted worth',\n",
       " 'set im living weeki real desire cant wait till thursday',\n",
       " 'tough spaceive life long issues self worth father left young continued live nearby interest talking seeing anymore hed periodically come picture weekend disappearing months years moms great person distant depressed school absolute loser friends horrible studies semester community college spent literally savings point pay classes loan didnt want people think loser failed single class didnt apply ive working shit job junior high school safe paycheck giving eat high everyday im good ive got good incheck ego chip shoulder ive felt ive got prove want good recognized appreciated thats know want ive got im coming 20th birthday im reflecting past looking future 75 chance offing 30th birthday know dramatic sounds ive spent lot time thinking believe true value im good felt way middle school literally years therapy changed dont know bad fit didnt work ive dealing lot stuff past lot hard realitys fact im cut future wish raise hard zero support structure dumb thing bitch feel like thats changed person ive got lot unconfronted anger sadness hands scarred punching holes walls im incredibly lonely lonely feels like understatement ive shared bond feel like cant sociable person brain fucked cant act like real person dont want fact wanted couldnt felt need share good place thanks reading',\n",
       " 'guys opinions cops wanna fellow teens httpsyoutubef0chi9zd4zo',\n",
       " 'bad cant stop feeling suicidalim forcing body stupid hearts racing million times hour cant cope anymoreim breakdowni lied adult presents sister christmas felt guilty right thing told truth mums angry telling truth pay possibly hundreds presents cant afford food feel like kill stop im right im close want money anymore kid ended life right im holding tomorrow im going doctor im going try convince mental hospital wish tonight doubt im gonna night need watch time id love advice talk help safe welcome dont angry cant cope anymore',\n",
       " 'got beer right good old krombacher tastes good',\n",
       " 'feel right nowi feel sad confused im angry world feel numb timea years ago grandpa heart attack surgery fix heart pulled hes strong wanted live short years later foot dying diabetes foot cut years heart attack infected awful worried heart attack went surgery test showed heart okay surgery tested foot saw safe vein artery alright blood flow think looking surgery doctors saying looking good better complications meaning live rightthe thing doesnt fighting talks knows hes going die hes accepted visited pain meds turned said im little loopy mija dont remember like like talking going die looks good survive sounds doubtfulhe doesnt like wants fight pneumonia looking think theyve finally testeed thats good hpefully theyll knowi grandpa best friend child walk house school day wed eat pringles watching tom jerry wed watch mash wouldnt watch becuase wasnt interested wanted hang talk hed tell got scarsnow im older understandable close parentsgrandparents come chocolate like connection right dont like chocolate makes happy wants contact suchi doesnt dont knowim sad angry upset feeling numb visiting yesterday doesnt remember went straight bed usually hard time sleeping stay night exhausted numb right dont want goi dont know im suppose feel dies dont know im suppose cope itthe comfort best friend grandfather died earlier year jsut feel like selfish try help bringing painful memoriesanother thing dog saved brothers life parents decided stray life growing bad dreams came save dreams dreams evil attack trying evil away finally passed away years ago shes dreams time theres death family appears dreams time fly dreams shes feel like theres thing spirit animal angel protect grandpa admitted hospital dream house house making sad went door leave fly away passed hallway saw dog wasnt dog evil darkness ran ran house floated sky darkness separated went knew safe darkness near wasnt evil watched started float away dog following darkness close sure stay away dont udnerstand dream darkness means evil scared like evil attack dog accepting dog grandpa sick worried came hes going die shes warn warn danger guessim dont know feel ive trying totalk friends day busy ignore feel numb sad feel like cant cant stop feel sad need help dont want feel',\n",
       " '911httpswwwredditcomrrantcommentsaqxzeqigiveupthat post realistic person gonna end life 911',\n",
       " 'crimas time lt gt',\n",
       " 'cult idea ive crazy idea sees change pfp start cult ya think',\n",
       " 'im doneno job relationship friends fucked head right dont know hospital soon cause think im gonna end life soon',\n",
       " 'think decidedi cant life anymore cant got feeling wanting kill dont want life left utter complete dark emptinesseveryday fucking wake eat breakfast work drink come home smoke eat dinner sleep monotony thing keeping alive feeling intense point psychical pain suffer ibd leaves puking bile 3 hours day miserable 3 years constantly physical emotional pain bear physical ibd emotional time shell person attract tried taking advice past trying makes happy favorite thing snowboarding brings 0 joy family fake smile anymore cant feel like cockhead like dont care themi spendt drive home tonight semidrunk seriously considering smashing highway barries turns mean seriosuly considering bear think family wish family world fucked people like dark fucking return point fucking acknowledges slowly paranoid fucking scares',\n",
       " 'parmesand recipie step 1 parmesanstep 2 step 2lasnaga reciekphrvho1 parmesanananana4 cottage house4001 lasnaga',\n",
       " 'wanne end itim emotional thinking yearsand think im ready im coward dont want hurtany tips ways hurting family financiallya train dick thats hard pasedit dont live country guns eay optain',\n",
       " 'ive attempted times impulsive driven alcohol time ive got planned detail dont currently urge idea plan comforting thought id share goodbye letter trigger warningtiredim tired disease way slowly killing melike im stuck burning buildingwith hope escapeim tired mind telling im worthlessand uselessand hopelessand helplessand burdenim tired disease stealing joyand energymotivationability enjoy loved onesand live im tired hating bodymy entire beingim tired thinking youre better offthat youll sad youll onim tired depressionmood swingsanxietypainapathynumbnessinability focus concentrateinability enjoy alland near constant suicidal thoughtsim tired medicationsside effectstherapieshospitalsim tired sleepcould begin relieve iti tried hardbut im tiredand cant stay awake longerso hope youll understandif sleep nowplease forgive mei love forever',\n",
       " 'thoughts jumpingeven feeling suicidal couple years ago cant help feel compelled plans zone like know bridge thinking city easy jump like barrier kinda short climb thing stopping actually going travel time brain committing like instantly transported location id want wouldnt hesitate jump brain wouldnt time reason wish feel lucky dont easy access things like guns country long gone things life feel like going fine despite everlasting depression like alright familyfriends new boyfriend cant help feel intrusive thoughts cant shake',\n",
       " 'trans teens guess cis teens respond think term trap sluroffensive personally think recently ive seen fair people think id like hear opinions',\n",
       " 'reminder eat meal today youve seen lots posts reminding drink water eating food equally important',\n",
       " 'need website hub need website bookmark websites need account systemi dont know spot tell sub know',\n",
       " 'crush keeps asking advice boyfriend unfortunately best friend cant fear losing friendship',\n",
       " 'ready upthe thing want life die im tired dont want anymoremy job awful cant new valuable experience money didnt figure wanted college got useless degree gave dreams 4 months feel isolated alienated friends family good time cant stop appreciate shes moved im constantly talking head voice starting win cant good thought anymore cant afford counseling therapyi dont want spend rest life going job feel know im special good succeed worthwhile dreams goals past motivation gonewhen think future possibility family love growing old experiencing new things dont want want die end',\n",
       " 'ima creeep ima weirdo heree dont belong heree like vibing songheres link httpsmusicyoutubecomwatchvzfyeyrcjk2gampfeatureshareanyone chat',\n",
       " 'wanna real quick john harvey kellogg buried wanna beat dick stand grave rating frosted flakes worlds biggest fuck',\n",
       " 'dream thought killing myselfit felt like heavy days weight couldnt ignored couldnt distract way chest felt heavy limbs couldnt help looked downi looking way hide end day people finally end fairly crowded placei edge felt like jumping saw swear ignored couldnt carefully observed place best itsomebody offered sleep medicine spit cup drank suddenly went near held meits fake doesnt want caught place dont want settle liesim awake limbs hurt carried grom dream feel heaviness enveloping holds people id holding mei accidentally gave wound recently knife cooking ive wanting purpose doesnt helpi hope dream better tomorrow',\n",
       " 'dog reason im aliveive recently taken hotlines chat rooms dont know fianc family people im open depression ive able function cant lie doctor dont try therapy anymore couldnt fathom honest people closest tell break hearts like im happy friend bad joke ready watching realize im pain makes feel worse kept theres gnawing feeling like need hear thisso im need hear week going plan head pounding loud drain sense reason dont know convinced national hotline dont remember conversation remember pretty maybe betteresque dont know maybe help definitely stalled dog walked hopped bed kissed tears face hung phone drowned thought happy ive gone week day hour jumps hes happy fatherinlaw says sleeps bed im away weekend loves cant lie itfast forward today driving home doctor ready slowed sure i82 going crash car accident plan loved ones convince wasnt deliberate decision didnt mean happenbut thought damage car cost fianc dog toy seat thought lost excitement probably course thought process continues im thinking guilty ill feel coming home wont understand hell waiting tell whats happening pulled carefully cry headed home thats time thinking mom sobbing brothers trying upright fianc end deployment early mourn leaving fatherinlaw able live dreams brighter day dogand maybe excuse keeps pulling trigger list mental goodbyes stops goodbye cant',\n",
       " 'im proud boy im opposite im proud im disappointment boy',\n",
       " 'cant anymorethis time typing long im sorry soive depressed past years im 19 years old right feel like utter shit like im hopeless thing right parentmother happy started middle school got bad grade class explained dadwho drugs time gets mad grabs mediumsized jamaican heads home hits day school therapist discuss happened idea cps according father callso calls later home mom calls room instead understanding choice blatantly bashed telling wrong father ignored treated like shit months received feel choice okay themnow high school young age mom track field sport lot talent making jojunior olympics issues w money mom bro city long story short pretty shitty track idea good track received calls colleges wanting school wasntme mother know happy night track meet yelled screamed embarrassing running ass trying impress daughter told quit didnt grades dropped sorely ran hs therapist tell wanted kill calls mom glares wrong swiftly leaves spend time mental institute days later mom immediately tell disappointed span senior year thought suicide times actually action twice odd mental hospital week received visits father auntwho havent spoken seen prior years guess wasnt right motherjust week told mother wanted drop college literally motivate example lie saying class got canceled actually wasnt tired trying proud instead wanted happy oddly said wanted actually decide giant shitstorm blackmails taking away connection online friendsmy irl friends abandoned moment moved despite sending texts 15 minutes ago called room asking tell im depressed stayed bed cried company app prepared send tomorrowbut yells tells wont job long story short wants control life wont let ive roof born dont wrong love currently job support explain frustrated fear takes away laptop lose contact friends wont able write anymoresomething ive years ive definitely thought suicide friends father makes push away admit thought mother listen makes feel goodat point feel literally heart attack wont care shes shes causes sort happiness fact shes big reason ive wanted kill according im wrong im tired im mentally exhausted want away forever place dont worry things longer dont know mothers love feels like want want life want asap help dont know',\n",
       " 'honey told cant baja blast sooner sell cartel stick bags crack ass sip good sit umbrella play gameboy mama sun',\n",
       " 'want die hate methods availableive actively ideating past 3ish months cant commit afraid pain discomfort failure left disabilities surgery yesterday prayed die anesthesia upset woke grieved evening grieving today im religious prayed prayed hard heart stop id blood clot huge embolism id bleed unconscious peaceful dont want alive anymore severe medical problems burden husband person cares recently lost best friend friends social skills im incredibly unattractive getting older uglier medical problems life complete anhedonia cant feel pleasure love grinding pain existence cant enjoy food music gone im worthless piece shit dreams dead im disabled im burden yes great doctors therapists helps help try death sports riskier surgeries',\n",
       " 'dont feel like going anymorethis time reddit somebody linked place guess tryim 18 basicly ive depressed 45 years nowi guess depression started dad hit got bullied school got mild form autism barely noticable anymorei handle things dont mind dropped school like 3 years ago got school way exhausting tried simple packaging work constantly panic attacks reasonsometimes feel like dont want feel good dont want school exhausting work force panic attacksso main problem feel like dont future cant education incomethats makes feel like start cutting destract feeling hopeless mean ive depressed long people telling gets better hope feels like broken promise yearsi toy thought suicide im gonna realistic ill probably dont access makes end quickly pain thats gonna happenon final note decided write hour getting panic attacks im home pressure knowing dont futureso ya dont know expect hope find soon',\n",
       " 'sick iti sick chronic pain sick soul crushing loneliness childhoodi sick punching bag told im unlovedi sick lying smilei sick crying sleep enjoying iti sick pretending im waking upi sick imagining future geti dont want thisim scared want run away stabbed dont fucking knowive come realise ill loved deathi killed personality mutilated corpseand pain makes want rip heart person said loved wont forgiving im selfish vile bitch youi love wont love',\n",
       " 'embraced im going eventually kill daywether tomorrow 20 years know eventually 10000000 gonna happen honestly kill 55 babysmall grandkids 90 hospital barely grasping life im old fuck going inevitably happen regardless ive mentality like 10 know im capable ive tested waters times balls fully day like know cause death going suicide matter course die car crash killed lines sure know cause death suicide ive honestly known fact 10 know sure dead time im 60 doubt mind matter matter',\n",
       " 'today 332 pm im sitting bed playing noose mademy grandmother love visiting downstairs cant bring downstairs dads wife turned fucking hate exaggeration theyre im eighteen going homeless cold family hear talking sleep 4 pm concerning went downstairs said im sleeping im avoiding dad smacks tells garbage day day doesnt dad yelling completely shits day makes want fucking kill wouldnt want die money afford college place stay money financial aid screwed im gonna fucking homeless im goodbye',\n",
       " 'hi ima useless guy religious study degree tell big sin gay cases quit informal languagei people ask mainly teenagers like guy sin gay begin want clear fact people sin god basis christianity sin approximately 470 bibles written mentioned muslim history quran books jews jewish history including hindu vedas says homosexual homophobic sin said homosexual persons choice god person reveals criticises decision sinners shall punished grace godin hinduism complete sin repercussions burned alive found guilty homosexual cause rebirth cycle stop buddismin quran muslims said sin person homosexual said god married homosexual marriage shall consent parents disapprove shall support shall proceed marriage sin matter shall punished afterlife youre grave homosexual sign strayed god grace ignored teachings jews',\n",
       " '5 days leftplease forgive things length text grammatical errors tend miss seeing textual blunders period writing dont post today change mind delete text come country people live dollar day corruption rules industries worth billions telecoms oil industry dont exist subpar youd expect infrastructure people politics realm cash realised early dont fit passion innovation creation help entertain humanityim 27 year old international student coming uncomfortable homei personally dont feel like home currently based san francisco avoid talking mother personal issues generally shell pray itshe super religious tends helicopter parent necessarily understanding kind told speak mother sound like beaten man probably stems frustrations trying connect youth younger sister share personal emotional day day struggles year ago surprised family episode schizophrenia lived dubai saw went home holidays barely recognise sure sister shes super religious like mother problem peoples beliefs mind tend avoid people behave like zealots blind logical reasoning case shut sadly status quo family father lives different state visits home month like 2004 thanks man family capable living relatively comfortable life basically sacrificed proximity family comfort international student efforts hes ageing lives state associated constant riots bomb blaststhreats youve probably heard lately news dont connect hes physically emotionally distant constantly stress understand cant ask father says goes dynamic family mother person charge dynamic parents generally try run life younger sister im closer physically tend yes man refrain complaining talking disrespectful argue eldersparents weird care way wemy sister ifeel handle things rarely matters think 27 im supposed gotten lot sorted life professionally financially emotionally socially frustration depression guilt angst etc overwhelm dont capable industry im trying doesnt exist home extremely competitive hard break student started years ago skill specific industry im struggling day decent school doesnt accomplishing tasks leaves figure technique yourselflast checked dont school figure im getting benefit 8k plus tuition semester solve extra classes outside school im currently taking classes barely time networking skills outside school stellar reduces chances success immensely ive hunt work year im living father networking school isnt better friends barely contact contact purposely school themi wonder try ive cheated times row 3 relationships guys friends suffer trauma oneshe understood result im scared connecting females romantic relationships constantly think going worth wasis right decision feels like failure imminent despite efforts im constant state personal struggle feel future bleak worse day break tears apartment frequently people create time hang dont know charismatic person confident man content man happy man extrovertactual introvert ive considering ending thoughts stronger giveor',\n",
       " 'possibly pregnanti wait test like idkidk father feel like life better died pregnant',\n",
       " 'damn bro genetics pretty whitest white whites white grey eyes found bit blue ethnic background norway blonde hair doctor told pretty probably solid tan little melanin skin turns near dark red cold',\n",
       " 'little goodbye notesome people dare life theres taken choosing 13 years old birthday 12 days wont long shouldnt try convince know world continue peoples lives outi want mark world wanted center attention big star know sure hell doesnt bother anymore maybe life things turn better ill happier hopefully better family hope wont sad thats names sophia way thanks reading im random stranger',\n",
       " 'petition fuck upotadoeboy sign dotted line pleasethanks',\n",
       " 'want die affecting prepare loved ones eventualityi plan dont want parents shockedsurprisedsad find want accept best find peace lives genuinely better convince',\n",
       " 'trying makes worse point trying im white trash trailer trashseems lately attempts improve situation backfire end digging hole deeperive disengaged completely human contact time hung group felt panic attack come drank dui im peopleive withdrawn disengaged lowered standards cant cut trailer trash world today sunny camper moldy figured washing help depression situation spend 50 bucket bleach good brushes w aluminum extending handle soap nozzle etc landlord chew saying moved agreement outside washing dont remember drinking im turns cant wash truck thats great drive beach gonna rust away cant rinse hes worried extra water usage im surrounded molding campersthe clincher ive functioning hot water heater got camper moved roughly 4 months ago paid 500 new water heater blew hooking propane didnt come instructions crossed ac wires fried 85 circuit board money pay somebody install worth cant find single person knows theyre gave cleaning camper pointless time cleaned stood hit head real hard corner cabinetouch thankfully access hot showers hot water facilities main bathroom washer dryer paper platesmy cat saving gracei decided im gonna attempt improve situation cat got electric drinking fountain im holed cave mold away care ive little water got washing trailer broke bank im puss kill guess ill rot apathy hopelessness wait earth swallow san andreas fault finally goes gonna try escape incoming tsunami',\n",
       " 'testicles hurt docfiller filler filler filler filler filler filler filler filler filler',\n",
       " 'audacity guy im watching nasa launch guy named rover entered saying hello space nerds',\n",
       " 'kidding myselfi think ive hit lowest points reasons come garbled incomprehensible mess reasoning issues isnt helping eitheri guess little background help im 28 married little girl long ago graduate school school psychology pressure program intense frankly didnt know im hard hearing deeply depressed struggled half life intense ocd tendencies high anxiety translated clumsy humiliating years grad school felt like kind embarrassment suffer person program committed suicide took exit collected useless masters degree left ive taken lowerpaying job locally flounder think im inherently good times feel like ive failed im standards im feeling depressed clear im immature moody useful talents nearly smart genuinely dont believe people tell happy think worth times mess recognize im worth anyones time long stumble realize im useful daughter deserve loser father doesnt wife deserve better methese questions ask day inbetween thinking worst stupidest moments planning intrusive way end life wish obvious cared valued wouldnt think id kill quickly stop bitching instead think people leave know delusional think theyll cant future gets better feels like truly better years',\n",
       " 'alright officially declare chances finding meme sub original funny officially lower chances ill intercourse',\n",
       " 'hey catholics question catholic friend picked school child catching car chitty chitty bang bang',\n",
       " 'skirts thought escaped skirts stopped watching anime',\n",
       " 'males females scroll nut november begins tomorrow complete tonite',\n",
       " 'suicide prevention lady told stop feeling sorry dignity hahahso sums',\n",
       " 'shit forgot reddit email ive lost accountsob sob cry cry',\n",
       " 'feel like ugly pushover fuck cunt im gonna short im sick living life predetermined im school materialistic rich kids getting high grades study course im failing watching infront soon doctorslawyersbusinessmen etc knew deep inside past years soon end unemployed dibshit living street form unrealistic ambition life wanted dream world aint mother fucker called real life im socially awkward fuck bullied hate seen public overall situation fucking annoying accept need dont friends fucked igcse exams certificates secondary education banks chasing family day pay 500000 loan plus minor loans term school transferred public school stop theremy family money afford entering university deserving im coward face problems head escape easy way brave pull fucking triggeri memorable impact life cares im mad itin case need know im 16 dont boy got chance look bill gates bill gates worked ass microsoft success goes motivational examples didnt accomplish shit fuck shit',\n",
       " 'late late teacher late late attitude hates grading late work unfortunately lazy procrastinating piece shit big project 8 minutes ago decided rush turn tomorrow pretend didnt know im getting bad grade way tell parents got bad grade good report wish luck',\n",
       " 'stole life long taken myselffour years ago son born turned 16 family abandoned let convince horrible mother gave upwhat brave selfless expects regret day life subtly coerced recently realized wasnt choice people expect normal impossible expect trauma answers strong capable im shell person scared little girl needy helpless vulnerable allowed things second swept pain rug longi find place life college work 14 hour days roommates hate dog boyfriend pulling away complexities arent exciting thought doesnt want listen ramble past mother concerned ingratiating boyfriends kids im need home cant daughter lives dog age son got pregnant people thought bad idea getting replacement wasnt healthy point dog thing keeping alive couldnt leave people dont care dog needs dont know long upi shell zero personality point exhausted trying fronts okay allowed feel pain know want taken care little wont happen reason wait longer relief therapists muster blank stare lecture ambiguous loss ya know thing families pows dont know someday soon shit gonna catch implode silently ceremony little bit humanity way',\n",
       " 'im upset idk anymore clean 17 days relapsed im upset wanna clean',\n",
       " 'm17 chat maybe friends uhhh hi im jake im 17 england im bisexual couldnt tell username lolhobbies dont im football soccer working tbhanyways yeah hmu im lonely bored',\n",
       " 'im ranting relation ship stuff saw post thats got idea btwi want relationship want talk problems night hug im feeling feel wanted cared laugh matter stick threw hard find ppl want like hope find day idk im mainly lot ppl saying stuff like got girlfriend makes bit depressed yes ik thag sounds patheticanyways thats good day',\n",
       " 'dont know anymoresuicide feels like solution point years feel like started feeling way teenager things dont better truly reached husband couples counselor told feeling way told plan thought maybe help maybe try time helped care moment hasnt brought think dont care forgot dont think cares dont think care right pain im feeling alive trying figure best way achieve easy task hard hands materials needed surefire painless ways exit dont want botch time suicide answer reach youre feeling way reached didnt difference stupid thinking suicide answer ive kind known quicker method accessible doesnt work dont die right away painful leave permanent damage wouldnt able try method husband mentioned hes pretty smart maybe',\n",
       " 'im tired lifehifirst sorry english suckso yea im 20 years old man cares real friend girlfriend family think im loser loves im think suicide time dont point alive everyday look mirror hate tried speak lot psy work deep inside know want believe life feel broken selfish want end miserable life cares u completely justi dont want bad person want pain away cant deal anymore',\n",
       " 'texts 6pm shes nice likehmmmmm',\n",
       " 'dont know startwhats felt whats said whats heard expressed age group suffered gone revolved comes goes heavy whisperthe method outcome hurt theirsimagined written dreamt attemptedi fear long times different personal experiences want hold drive keeps going matter feeble strong fatigue im exhausted want cycle end succumb eventuallywhen moments clarity cant connect pained version think thingoften times reverse happyyou forget real joy find finding syntheticthis nice little distraction eventually lie long actually feel pain gets need right home health funds security ask caused think positive worseso isolation talk dont look sad smile jokes complement wave good wont today tomorrow hell damn hotlines fear future children im tired',\n",
       " 'got new years resolution create document wikipedia article find starts letter c attempt refrain copying actual article progress started articles chicken carrot parts missing lot parts slightly edited versions article try dumb compare progress chicken document wikipedia page chicken looks similar advice know write killer articlepaperdocument',\n",
       " 'writing draft suicide noterough week feel like going week severe depressions ive time idea triggered bipolar suicidal literally going fine know seeing doc wednesday hopefully hold wanna write maybe brain system indulge thats eager pull trigger im sad want die im sure attempt werent fact dog afraid leave love right wish hadnt gotten wouldnt obligations dont family speak friendships shallow best human beings feel worried leaving dog im sure good care ive puppy hes 6 think hed sad suddenly disappearedmy entire life filled darkness ive felt deep inside keeps awake goes away longer comes force stop nobodys words away walks dog bubble baths soothing candles binge watching tv hobbies working sleeping away temporary distraction cant sleep avoid feelings anymore wake late night feeling dread chest severe deep pain cant figure escape dyingeven im absolute lowest cant enjoy happiness mind happy moments life feel like fly like movie im actually present best feel like feel normal feeling apathetic unsatisfied isnt escape death medicine doesnt work away therapy doesnt work permanently broken people born physical birth defects born mental cant bear deal anymore ive struggling long life feeling like running marathon underwater want feel peace pain',\n",
       " 'hear loud screech 5 morning sounds like old car moved',\n",
       " 'kinda think better person ive trying like 5 years think working maybe meditating helped im actually started feel like shitty personor maybe im nice reddit idk redditors telling im nice nice reddit step right directionmy mom told able start volunteering covidsafe waysi think struggle currently stopping talking politics',\n",
       " 'need fill teachers classroom memes crockpots weeks ago sort meme popped favorite teachers classroomim entirely sure happened makes crockpot jokes time theyre nowbut instead simply joining imma fill classroom memes crockpotsim gonna 20 probably print lunch fill classroom memes wait reactionexcept gotta pick good ones good ideas',\n",
       " 'bad samehi im new subreddit im child wants wants forget feeling wanting die real real day hurts tried coping techniques drawing singing painting dancing walking working reading studying writing feel weak fail goes trying talk im starting annoying friends want listen carved like loser therapists dont work tried therapist gave hate girls act depressed aesthetic depression taken seriously try big fail time grades getting lower cant concentrate read mind flies away middle sentence hygiene getting worse worse tho wash teeth twice day scared smell 4 grandma died parents started blaming 7 parents pissed scared school children 12 stabbed got worse feels bad ion know point im scars look ugly dont need talk tell dont want die like gets bad feeling need die hate worse real dont want die like help know',\n",
       " 'im tired sure bother anymoremy life feels like falling apart lately decade long relationship ended recently didnt mental health seriously drank im living abusive mom whos nice everyday things getting worse im complete mess dont going im disability born waste space im going start dont material possessions pretty fit backpack im exhausted care anymoreampx200bit sucks miss dont friends im close family dont like pretty person talks mom didnt long start chipping away dont like treated badly like options ampx200b miss im gone moms dog hes dog hell ok',\n",
       " 'happy christmas everybody president teens powers come executive decision skip august september october november year pretty bad declared today 25th december christmas day',\n",
       " 'commit die quick painlesslyhomemade im tired dont want list problems dont talk want useful relevant answers',\n",
       " '13 lost foreverim 13 years old mind going wrong dont feel like living anymore',\n",
       " 'need clean im overstimulated mentally lot mental illnesses ne overstimulated easy plus nerves feel lot ex hair feels like spider legs neck constantlyim overstimulated right partially sweaty getting shower sounds like hell rn things constantly hitting meif teen issues like help family understand cant dont tell im dirty showered thursday hot day today',\n",
       " '5 types posts 5 types posts subreddit1 random memes2 relationshiprelated questions3 depressed people4 people found hope5 im bored wanna talk',\n",
       " 'inevitable day week month bring thoughts oni real phenomenon reason itll hit im miserable ill want away problem days im happy feel mind ought depressed feeling im feeling like garbage truly feel home feel right feel normal natural ill sort sink feeling im numbness sort comes feel like radio station turned static feel completely lethargic like im meditating emptiness feel worse feel better want sink misery like receding mind think falling slight instantaneous moment hit ground like brief instant feel probably like like fall dream intense rush bang youre awake swear feel dreams bet thats like kind fear die immediately form existence like fall die dream wake fuck dont want press luck dont want double want kinda rambling normally sub thanks reading',\n",
       " 'failurethats feel like cant right dont feel like parents proud wish born',\n",
       " 'weird 17 yo fuck 22 yo sex 22 yo neighbor cant tell weird hes 22',\n",
       " 'gets betterstudent loans hid credit card debt irs wants money medical bills need dr wont prescribe medication needed car needs fixed cares cant dig hole soon right thing work hard fix things knocked try constant struggle technically holding head water help homeless jobless cares dont want live constant struggle tried right thing life doesnt fucking matter',\n",
       " 'happen tell doctor professional im considering committing suicidei dont money ambulance fees expenses allim making mom pay shitcan tell happen tell im seriously considering taking life cost',\n",
       " 'im tired tiredim ready',\n",
       " 'im tired hospital times months telling stop time feel urges looking ways stop hoping willedit want help things hard im tired want sleep',\n",
       " 'painevery day wake breath crying constantly lonely depressed dont job 25 year old guy cant feed pathetic hopeless dont deserve likes dont friends want pain',\n",
       " 'hey boys hear 58 girls ugly makeup boys aintbye bye',\n",
       " 'need convincing end allhey folks live australia 20 years young want lay fundamentals life difficulties im exhibiting hopefully nice people reason continue goinglets start basics genuinely believe belong society heres debilitating anxietythis isnt run mill type anxiety comes constant neverending battle makes simplest tasks feel like im climbing mountain public speak anybody freeze start shaking control emotions ive entire life doesnt getting better ive actively tried remedies try contain anxiety worked 20 antidepressants later countless sessions psychologistpsychiatrist prove effective moderate functioning aspergersive come single benefit critical thinking diagnosed disorder dont mind aspergers giving explanation clear world isnt tailored people suffer cant work cant hold job cant study horrendous information processing funny thing havent resigned giving things genuinely want life feel cant barrier surrounds want study land kickass gig eventually find partner pursue things enjoy travel painting etc cant find homeless world looks folks like loser neet leech funnily people universal basic income reason lazy undeserving financial compensation inability workseeing wants whisper past vision gives feeling intense sorrow alleviated inability fit indisclaimer pity party wallow sadness exclaim woe merely explanation foundations want reason going',\n",
       " 'want reverse time kill myselfi cant stand seeing successes ive graduated high school possibly ha going college fall good friends got 35 act cant help hate didnt attempt act hadnt studied harder decent score sat didnt try honor band middle school honor band final year high school fucking fourth chair saxophones friend gets chair flute playersgod want die fuck ap history ap english 11 going fucking 1 ap tests c im wasting oxygen parents money feel like im disappointing dad going art school tell hes said cant fucking seriously whats point suck whats point alive matter',\n",
       " 'utmost importance 01101000 01110100 01110100 01110000 01110011 00111010 00101111 00101111 01110111 01110111 01110111 00101110 01111001 01101111 01110101 01110100 01110101 01100010 01100101 00101110 01100011 01101111 01101101 00101111 01110111 01100001 01110100 01100011 01101000 00111111 01110110 00111101 01100100 01010001 01110111 00110100 01110111 00111001 01010111 01100111 01011000 01100011 01010001',\n",
       " 'morse code httpsmorsecodeworldmejxjyhyrsqgbjcwgcgvjeuytjgagsajkbdpaccie5souwtlqg0b8ibkwpsikgwbq7ycw',\n",
       " 'guys help ok friend got strange fetish cut deppressed lately school parents social reasons parents took therapist didnt help friend help',\n",
       " 'need help dont know iti dont know people getting help social anxiety cant phone definitely cant walk managed find therapist dont think handle talking length time went couple sessions high school didnt help couldnt figure needed plus cant afford im starting think suicide option cant help im going able function contributing member society dont know',\n",
       " 'ok need talk adults wont posted powerful forces reddit teenagers 230 report channel youtube called ssoyoung animal abuser needs tortured animals eats living scum earth',\n",
       " '19 working 40 hours community college graduated high school july im tired life online learning cup tea im struggling good grades average 39 high school grades 80 took aps parents ass grades cant learn online distracted boss doesnt follow availability form says work max 30 hours week instead puts schedule 40 cant deadlines wifi doesnt work half time cant join zoom network issues parents force chores class time im close dropping swearing college forever point getting notification school email school administrators inviting zoom meetings random things gives anxiety point deleted school email app phone parents belittling stressed saying dont understand stress cant stressed im kid im kid im 19 years old juggling time job shouldnt community college pandemic point cry sleep night wonder drop',\n",
       " 'got asked questions suicidal tendancies new clinic uncomfortablegoing huge changes minute including moving parents house signed new mental health counsellor got urgant response severity desire kill ive pretfy good recently think life start picking saying loud thoughts killing reminded uncommon amp intense thoughts find days unbearable im best love self hatred',\n",
       " 'im losti lost frustrated angry dont know try dont help tired pain know wont longer things order theyre burden',\n",
       " 'ifwhat killed stop negative impact planet haha jk',\n",
       " 'dm 18 f bored fuck chat abought filer filer filer filer',\n",
       " 'dont know dosometimes im surprised turn events life feels like ending cycle emotions quick fleeting settle guess wasnt cut way weak sensitive handle ive reduced joke human hates hate pathetic excuse life dont care admit hate im tired way im tired people playing truly cares care care try best person reciprocated angry im worthy lost cause know find peace know sounds like trying know hard try tried long people people wake everyday thing life truly gives break physical break mentally comes time satisfied internally externally dont blame wanting disgusting dont know im trying dramatic know ive million times easy write idiot says things brain dumb completely touch know morals stand dont know life going point lonely afraid know',\n",
       " 'suicide greatest revenge accomplishits shame putting know plan die carbon monoxide poisoningi know buy money left credit card shipped im readyill find remote set tent body wont found days maybe weeks knowsbut wont leave note wont goodbyeill leave world termsif gave shit wouldnt placeive therapy ive drugs ive cbt ive mediationnothing fucking worksso yes reddit im going selfish end fucking lifeand itll greatest revenge world brought fucking paini wont anyones doormat punching bag longerno hurt againim lucky dependents itll ages realize im gonei refuse proper goodbyethis happens theres way outthis best solution problemsyoull change mind',\n",
       " 'cant handle itim sick living boring life contemplate suicide day long cant shake sit home im school chose college saw way depressed stay parents cant find real job im socially inept anxious outside store cant fucked learn talk people anymore attempts feel worse im completely trapped tiring sit home play video games day use digital art escape getting point cant look art like worthy dont sell day knew thought dream day opposite everlasting nightmare cant theres literally option book suicide mental hospital way im fucked fail attempt resort hospital dont know like theres hope ive buried deep hole cant anymore friends family therapist helped crisis lines dont work moment im open help dead end helps accept feels like people arent meant happy',\n",
       " 'kiss uh title gets straight point crush mightve noticed liked kissed kissed cheek like bday liked couple months im shock bro haha',\n",
       " 'dont know belongs herei dont plan kill wouldnt mind quickly murdered im upset life im suicidal anymore think everyday die kill right guess dont want responsible death im ready leave think thing truly ties earth dog dies wont afraid anymore',\n",
       " 'okay hobby pick im looking warhammer drone racing long boarding probably best',\n",
       " 'im pressed rn omg saw post saying boobs porn arent big fat girls unnatractive shut stop stupid picky standards stop watching porn bad literally find real fucking girl stop shitting girls porn',\n",
       " 'uhackedmonkeyman appreciation post u pog',\n",
       " 'feel unstabletrying hard fight thoughts urges planned rapidly changing thoughts impulsive nature feeling worry unstable predict react called psychiatrists office try speak town spoke nurse discussed case people office looked chart decided lower dose lamictal 100mg case increase making worse tuesday looking chart nurse little flustered phone started crisis resourcestell er got worse imagine notes wanting hurt sure able safe dont look good feel hopeless getting better think deserve dont feel completely control anymore situation dont know right mind help came',\n",
       " 'god 55 like want date',\n",
       " 'talking thread help night amai posted bit ago sub worried strength tonight people recommended talk heres simple ama question bad wont answer anonymous amusing',\n",
       " 'half year self harm half year ago dark place cut wanted pay messed mistake cut girlfriend noticed cuts saw sad worried saw look face stopped thanks reading story',\n",
       " 'ending soonschool harder mom mean yell trying gotten grades passing left lot things need life wont matter anyways matters education tears apart care family summer school kill bullied fat ugly school dumb grades school fuck want',\n",
       " 'today completes year reddit meet jesus',\n",
       " 'notei probably follow writing note leave ampx200bim sorry mistakes im sorry bothered know lot effort making successful im sorry wasnt happened maybe time sorry love',\n",
       " 'suicidehello reddit thinking finally pushed self post thisi 16 year old male turn 17 2 days life best worst want talk want talk suicidemy views suicide like playing game cheat skip end completed soon forget entire thing entire time spent playing pointless constant suicidal thoughts plan emotional physical strength bring self life driven wrong direction good parts left future looks bleak best miserable depressed social anxiety constant anxiety attacks ripping emotional strength left depression social anxiety bad parts life think suicide fact point life point living lost live happy life end pointless day forgotten pointless live fear day soon tipping point ahead plans thought post peoples viewsmy mind constantly taunting thoughts feel pointless life help reddit scared suicidal thoughts longer fear consider themtldr hard time getting life view life pointless thing suicidal thoughts longer scare honestly consider going themedit views life want read agree personal thing feel way comment maybe help',\n",
       " 'pissed parents didnt feel told didnt care told making sure point ill school online budged little things proceeded end dad said dont come talk like young adult bit angry try talk problems believe care started yelling argument im online school day',\n",
       " 'rated 16 read title filler filler filler yo momma jk jk jk jk jkj j k k jk',\n",
       " 'people lgbt community soft cant joke look guy got banned tiktok literally making facial expressions yall try cancel im bi stop',\n",
       " 'yea thinking attempting againi screwed best years pretty bad lot going somewhat way stopped caring drove life deeper amp deeper ground past couple years started picking little pieces amp trying form guess think normal life needless failing day goes dont think amp come close attempting times think time slit left arm open didnt way guess shock seeing 8 inch gash amp visible bones scared im guessing dont remember finding girlfriend 7 years cheating 2 6 different guys know stupid reason offing girl loved amp total lack empathy exhibited truly crushed wasnt great boyfriend admit treated fairly didnt wouldnt leave didnt want amp seeing blank expression monotoned sigh amp shrug asked yea howd find lost thats 1st thought life unmeaningful raged head looked complete disbelief found asked bring phone kitchen amp open recent text thought bad mentioned 6 sociopathic expression scared amp scarred mei recover homeless 1st ok kitchen job staying friends hate life hate lack trust amp people hate humongous hole dug found hate family reaches help treat like im trying hate talking people thats right socialize know people dont want know extreme rant abridged version life dont know recover im 31 freaking years old amp cant care pathetic right 20s amp college scared tell whos aware bounce worry matter dont know lack motivation actually clock job star employee soon leave darkness surrounds amp suffocates guys befriend look like scared puppy whos beaten everyday 3 weeks life amp sees abusers ive told extent shitty feel sound like winey brat whos complaining didnt way freaking terrified amp everyday itch research better way kill intensifies thoughts entering mind guess thats end rant probably heard advice encouragement offer worth shot right depressing laugh amp 5th time ive thought suicide woke couple hours ago intense pain jaw broke 10 years ago ask storyfuck life afterlife good hell belong shitty things amp isnt personally hope god exist good amp evil evolved way deserve apologize offended statements needed feel better trying',\n",
       " 'talk meevery day past 5 months worse hate cant girl love wouldnt marry shes marrying im trans thought forever love things like bring happiness anymore feel negativity regret ive depression life body physically hurts face hurts frowning knew hurt',\n",
       " 'realized people know talk school right girls im freshman school rotating day schedule like people know share classes talk girls friend whos 3 class plus sit lunch friends soccer team girls clarinetist band girl people talk flute section girls boys normal practice weird',\n",
       " 'disturb words friend said today words scariest weapons want field test weapon cut deep possible kindly',\n",
       " 'shouldnt end lifewell currently state perplexed confusion right life hope begin explain predicament hope reasonable solution steps better guess lack better word life terrible looks like condition called trimethylaminuria essentially chronic body odour chugging genetic condition allows ridicule humiliation everyday bases condition forces smell like hot steaming pile garbage regardless showers baths condition 2 years lost friends 10 years forced troll like figure hiding away room world oh extremely rare uncurable suicide people unfortunately misfortunes sadly dont end condition called pectus carinatum chest deformity causes sternum pushed visible way great deal self esteem assure age 1314 conditions howether pale suffering caused curse obtained huge terrible looking scars seen searching internet cover 55 penis base tip absolutely recollection emergence life nice mystery investigate spare time lifetime bullying school racebodyshoeswealth children certain teachers alike persecuted life mother blamed abandonment father age 7 directly face memory like forget possible course gambling addiction manifested order accumulate wealth order try plaster abyss known self worth bu unfortunately concluded loss thousands pounds helpful thought 19 years age btw apologise wording structure writing im kinda okayy',\n",
       " 'necklaces boost confidence hello beautiful people celebrate 1000th order cute necklaces 80 free worldwide shipping 10 customerswe sell zodiac necklaces silver gold feel free comment dm questionshere check zodilacescomhttpszodilacescom',\n",
       " 'want stop hurtingfemale22 im scared wonderful boyfriend love muster amazing amazing person love life bit pedestal strong admiration character respect lot good days lot fun love spending time himbut im sad im sad stop dont want try new things want feel physically sick tries pull comfort zone comfort zone usually bed laptop food im craving time fine moderation way live life dont want spend youth wasting away computer second comes idea im gungho headaches stomach cramps start anxiety kicks want home makes miserable know weight lovehes social love im anxious people im uncomfortable crowds jealous feel rejected tries fun feel ashamed im better want social butterfly want relax good time want fall love works im putting happy face knows real general feel insecure like im good deep know person isnt feel like im trapped body depressed feel powerlessthe past weeks hes started express worry fundamental differences need comfort love unfamiliar thrives adventure loves knowing day bring order freaking need things planned prepared cautious love eachother major major dealbreakeri love relax let adventures wanted travel eat strange foods meet interesting people feel like dont strength knowing feels best quits wants live life holding tried break twice month dont know cry ran sharp edge pocketknife arm tonight felt like small release dont know im life feel like cant pull depression im tearing close friends job couldnt effort degree dropped im stuck small town supposed city start thinks best hes going leave love life wrecked iti dont point living anymore cant try edit woke morning read replies cried im grateful feels good know doctors appointment hours let know says im nervous hell cant stop thinking boyfriend need plug day thank responding overwhelming subreddit feel like came right place edit 2 went doctor diagnosed clinically depressed gave prescription cipralex start tomorrow im going try kick im going try person thank encouragement support means world right',\n",
       " 'dreams life trashi second year college started hanging individuals frequency users drugs took shroom time amp death got stuck thinking life different meaning abusing body work school marijuana sleeping quit job started long drives led speeding thought believe hard fine day calculus test hit highway began speeding knew blue lights reason thought going wake day fine didnt stop miles road arrested speeding attempt elude brother bailed continue going school smoking pot destroyed arrested lost sight reality started taking long drives thursday night drove knows long ended running red light crashing completely crashed car thought going new life didnt want speak cops little knew going charge dui bailed mad professor kicking class laughing loud right senses reported email cursed arrested disorderly conduct lost nobodys fault pleaded guilty dui 24 months probation plus programs court dates pending blessed supporting family knew controlling body months feel destroyed hopeless thought maybe killing best option family im rest reflection hardworking deans list student dreams gone criminal record stupid decisions advise help im good honest 21 year old took wrong path',\n",
       " 'asking doin forget 2 math test dont know shit day horribleso doin',\n",
       " 'going forthim 17 year old boy days ago girlfriend 2 years broke guy weve rough times love thought forgetting guy heartbreaking thought going better slowly cut social life life altogether course wasnt perfect going fine type realise petty small ive battling depression years started pretty bad depressive episode weeks ago pushed away handle want ok need love sound crazy young cant ive emergency room twice tried hang 3am woke feeling terrible went shed called girlfriend goodbye time guess mom heard outside came stopped felt betrayed love love miss tearing apart blocked number facebook instagram try better killing life single day im scared feel ok right somethings going hit im going brain fighting death times said handsome ask couple weeks ago lies dog 14 years died chef apprenticed fired terrible mental snap girlfriend left attractive guy handle im sorry scattered brain isnt right feel sick want talk',\n",
       " 'interested tech wanna start discord group dont know tech long general interest interests computers networking created server dont real life shares love computers im hoping meet new people maybe oneday greatjust add discord human hand0150 ill invite server',\n",
       " 'want boyfriend im scared wont want deal insecurities emotions scary concept let man know feel probably dad isnt emotion person',\n",
       " 'unhappyi want kill girlfriend tells need break feelings ex god damn cousin week ago arent talk today bit kinda argue straight tells wants fucking leave contemplating getting point',\n",
       " 'feel fail iti know trying learning key watch grasp makes feel worthless embarrassment stress starts set quickly painfully pushes head toe feeling time pretty fail im human special jeez dont like watching sports tv know worth valued die know worries stresses',\n",
       " 'cant anymoremy life terrible past years multitude reasons ive said wouldnt things got worse dont things getting better hate aspect life dread waking morning lose end pain prolonging reason things dread right face desire galaxies away im tired alive outside ive truly dead inside people tell itll alright hold nope apparently dont deserve slightest happiness ive tried praying pleading universe help sign sort nope guess universe gives zero fucks im playing stupid game cant past level 1 thats im gonna plans end misery hope yall find way going',\n",
       " 'typing time upwriting let hurting long time got rid dont drag anymore time die suicide letter',\n",
       " 'uhcan mods reply things im replys talked people',\n",
       " 'worth receivedi received liver transplant year die life continue feel worth life prepared death included wife stood deserved clean cut worth support pull like champ worth life taken provide start family feel like anchor day realize life ended extended time worth things worse decided shoot im scared cut hang stopped thinking taking long road home knife tonight addition accepted death wheeled positive leading told worth life lost felt like',\n",
       " 'usually post feelings damn feel terrible like emptiness sadness way worse usual',\n",
       " 'whos pumped snl tonight woah woah yeah yeah',\n",
       " 'feel dumb im failing school year im calling right',\n",
       " 'im gonna weird vibes tomorrow im gonna play wii music loop sleep wish luck',\n",
       " 'existwell think fucked life spent year im huge debts uni cant bed start fixing problems cant actually day switches happens dont feel interested wake lay bed day im fucking burden family sister tells im complete disgrace achieved 22 years agree feels like im created life hard live given life suicide weak cowards yes coward',\n",
       " 'willingly wore dress time im kinda proud problem body image instances id wear dress school uniform dinner parties parents wear dress act like girltoday decided dress thought day im happy small thing feels like big milestone thank listening',\n",
       " 'ive worked hard im tiredi struggled mental illness child remember point time happy laughter light energy years gone ive felt hollow dont recognize person mirror eyes light world dim dark smiling act second nature difficult effort takes makes facial expression ugly grotesque chest feels heavy tight constricted deepest breath gasp feel starved relief vast majority wrong choices bad decisions actions unintentionally hurt people desperate misguided attempts feel pain emptiness despair ive wanted hurt people told trying fighting need devastated werent dont want hurt know people love miss want fighting sake fellow redditors im terribly tired ive got left feel numb hollow im pain constantly makes tremble feel like im tortured people ask want want tell goodbye tell love understand hope find rest badly need somebody tell goodbye somebody wish hope find peace find rest im tired',\n",
       " 'im 21 im creep deserve dieim fucking weirdo im creep hate mean think deserve bullet head creep think tonight night im sorry ive disappointed hurt',\n",
       " 'yeah got big old convoy trucking night got big old convoy aint beautiful sight come join convoy aint gonna way cuz trucking convoy usa',\n",
       " 'hey fellow teens advice living streets specifically younger child midst pandemic dad threatening sell house kick sibling younger sibling forgot away ziplock baggie asking',\n",
       " 'love feels guys talked girl wasnt mean laughed stupid jokes talked nice time love feels lonely form affection inmidiatley makes interested person oh',\n",
       " 'ok wtf weight im 16 flair says 13 ive weighed 115 lbs gain weight eat lot im healthy excessive food eat 2 younger brothers ages 13 14 weigh currently frick clarify like body n stuff wtf ive stayed 115 past 3 3 12 years',\n",
       " 'ill 20 les 2 months didnt girlfriendman f life',\n",
       " 'ive gotten rid ability lovelong story short years starting age 12 benzo extremely cardiotoxic amphetaminemdma like drug research chemical took 2000 times 3 years unbeknownst proven neurotoxic cardiotoxic right stopped taking 3 times week 3 doses session 2 years quitting drug speed coke oxycontin sober cant feel love anger anxiolytics weed dont antipsychotic major tranquilizers dont anhedonia brain totaledtheres point living isnt life overdosed phenibut 40g june taken dxm eye opener day epiphany life life human beings cynical caring glow lasted month dont know phenibut help probably considering nootropic im fuckton pharms dont jobs lamictal bipolar buspar anxiety clonidine anxiety lexapro depression focalin adhd focalin got rut causes mental effects anymore adrenaline heart anxiety effectsand ive tried overthinking going drugs na cbt bullshit therapyi intelligence feeling life isnt bad burden time wasted dont want kill honestly im indifferent life effort bother end iti dont care afraid heart attacks inherant heart problems honestly heart murmurs seizure auras dont care dont want kill im like ok brain damage thats coo death thats fine fine death death life time wastewhat suggest possibly help far gone fuck like',\n",
       " 'rabbit holehello sure im writing maybe want attention tell thinking suicid year everytime look mirror loud kill everyhting begun session therpist discovered childhood drama stopped seeking help started redering chaos life today found lowest situation parents talking confrunting childhood alienated friends girlfriend asked im huge debt havoc 0 account im broken hearted managed floating night started cutting stopped tought chance girl knows im going trhu lot moment insists needs space focus ask prevent harming moments dark escape moment dont plausable scenario manage live past week',\n",
       " 'watched krampus wasnt scary krampus lowkey kinda cute doe idk id want doe mouth open hes prolly swallowed flies',\n",
       " 'feel ignored dont feel noticed feel like spotlight appreciated feel like ive pushed humor gets drowned whats newer better real sad boy hours music good youre sad wanna feel important people instead irrelevant',\n",
       " 'bi trenches crush girl havent girl boy',\n",
       " 'come depression familyit things little easier mind im sure mom pressuring job months reason havent cause things list slowly getting things depression helping keeps pressuring hope understand im like',\n",
       " 'unohahaha97 anasshole doesnt respond requests play gwent',\n",
       " 'kimberlyi cheated wife drunk thats excuse drunk drivers dont warning worst thing ive beautiful person best friend brave stay didnt deserve things got hard complete lack trust follows infidelity opted cant blame wish better wish upheld vows cant woman thinking cant family thinking hate hate ive best thing thats happened refuse leaving broken beautiful people wake kimberly im sorry love dont want hurt know live day itll effort come beg know thatll lead pain thats im capable dont know ill live pretty high building ive fond skydiving matter ill holding letter wrote day married best thing life world wish best whomever loves hope die arms ripe old age smiles faces',\n",
       " 'long need money im going kill myselfi moved uk year ago country europe im married toddler care main reasons moving neck deep debt house decided consolidate pay wifes home country appeared better place live bring kid better environments better school system affordable kindergartens onampx200bhowever clinically depressed diagnosed unipolar depressed like 2014 soon hit age 20 10 years ago developed chrons disease lived undiagnosed untreated 3 years constant agonising pain lack care doctors nhs general finishing college going adult life turned downhill lost great career job managed stick field financial crisis decade im shit 10 15 years life continuing day major drag pain regret resentment depression anxiety remorse guilt onampx200bso unfortunately getting rid debt moving brought depression anxiety thought small money starting new land remove mental illness certainly notampx200bim seeing shrinks taking meds feeling miserable everyday shitty maybe worseampx200bthe thing feel consumes lack money wife works currently dont want work ive recently diagnosed fibromyalgia thats thing fucking needed disease ailment current shit body mind cant work barely bed legs constant pain causes walk snails pace going faster simple chores tasks house raises anxiety stress hell possibly work like public coworkers cant im fucking messampx200bso decided try think home particularly pc gonna money guess fucking clue physically able doampx200bevery idea think shit work properly thought youtube selling stuff ebay investing bitcoin good ideas person wants listen degenerate miserable fuck youtube probably legs commiting suicide gonna monetize thatampx200bi dont know know die work company traditional job paid essentially owners shareholders insanely rich 8 hours day 5 days week miserable soul sucking shit fuck id die ive 15 years enoughampx200bany ideas realistically home use pc small income month decent idea thought send jail buying weed wholesale half price online selling locally higher price cant realistically married kid single living maybe dunnoampx200bif cant figure way start shithole idea life work ass forever end savings bullshit pension state provided old peoples home id abandon family die right im prepared contuinue bullshit life anymore told truth adult life kid wellampx200bhumanity society sucks system oppresses 97 3 humans alive live absolute bliss luxury financial worries',\n",
       " 'girl behavior weird little week ago asked crush said yes asked like want grab coffee finals extremely excited said yes little bit later asked day free said shed check cheer practice schedule winter break shed like ight sounds good week literally hardly acknowledged existed tried talk half time shed barely look day finals friday tried talking twice got response friends telling hope saying shes playing said f saluted talked away dont understand like yes date talk class like shes trying ghost dont think friends like easily tell shes interested thats case understand dont understand behavior',\n",
       " 'im struggling find good suicide methodi dont wanna survive dont gun suggestions',\n",
       " 'kind walked success kind took like 20 minutes order strength stand balances nonexistent fell immediately held book shelf kind didnt help got like steps collapsing heck big achievement',\n",
       " 'theres girl class like looks react talked little class projects like talk cause 9th grade year doesnt use social media know instagram im sure uses cause posted isnt popular gives chances anybody got advice start talking',\n",
       " 'didnt eat apple ate banana',\n",
       " 'posttraumatic cripple bpd living povertyi live life pain dealing suicidal thoughts 2nd 3rd grade feeling like theyre mind voices suddenly coming light moment im thoughts whispering im worthless deserve die loves waiting finally finally happy maybe trauma abused child shame blamed rape endured ages 8 11 maybe inherited moms crazy know im 1000 things voices come life poverty ive lived doesnt help ive spent entire life fear getting shut coming parents door shut collect debt serve kind court papers adult finally living im barely scraping years abuse id endured knee absolutely fucked im 22 cane think lot things cant like lot standing walking worst ive able injuries checked active efforts mother deny medical care im fucking broke cant exactly apply disability college student trying finish classes pell grant gets utterly fucked dump administration barely time work find fiancee struggling factory worker currently unemployed barely able pay bills child support payments month emptied bank accounts pay rent half needed naught 20 grocery store gift cards names work study job year dont coming usand honest voices hard point anymore know people think help therapy meds fucking voices stop grew deeply constantly debt id end live fear life cant fucking shit cant fucking living like constantly worrying pay bills constantly going theres fiancee gets home job searcheshed better longer wasting money longer stressing triggering ptsd longer dragged deep pits depression cant help abyss bpd brings hes deserved better lazy fat whore like smoke weed cry days',\n",
       " 'lol league legends right people laugh loud crap',\n",
       " 'im scared confused future help know going vague post im struggling little right better words confused physically emotionally mentally way im 17 moment think future like going etc im materialistic lifestyle etc upmost importance ive noticed different mindset way thinking course action peers ampx200bmy question fuck destined think im decently successful right thats right right im 17 things dont matter right prepare future likely wont stick future spend time thinking habits successful daily lives rich mindsets gurus money im going later list things going sincerely appreciate maybe kind words giving insight change way trying flex despite lot follow money shiny objects need affirmation chance successful life ampx200bthings going meive lifting daily 13this summer worked 50 hours week 16yearold led purchasing 1990 corvette 16yearold cars passion realize lots kids dont know passion feel fortunatei entrepreneurial like buy sell things profit recently sold 175 dollar purchase 1000i actively pursue better way moment things best abilities dont best grades ap classes cum gpa 30 plan college businessdoes mean isnt gain insight future look like ive said',\n",
       " 'heard methodi dont know rules theyre bar im thinking killing myselfive tried hanging hard gave time think considering methods simultaneously drugs hanging point oding noose neck wont high tight point helping totally lose consciousness dont want suicide hotline tried 15 called helpfuli believed right die dont live attempts like person attempting dig barehands watched mom live suicidal hopeless life years die overdose years miserable dont believe theres sugarcoat positions going end procrastinating inevitable like',\n",
       " '20 year oldhs dropout want suicide real life friends broken familyhello reddit long time lurker thats postfinally account unfortunately type postill ahead jump right reads atleast shared somewhereheres life story im 20 years old high school drop havent left house probably 5 years counting meeting mother monthwhy high school drop ask said partly foult mainly family seriously fucked upwhen 14 years old kicked public school fighting bully ive warning mother decided business private school kind went downhill thattake mind parents divorced live father sister 3 years older lived motherso fast forward 3 months new school dont like itmost class mates people class school online essentially times teacher teacher coming teach got depressing real fast span 34 months decided stop showing happened stopped showing mom kept paying yearly called schoolso freedom right teenager dream going school 0 words mother school busy dealing drug addicted sister major trouble growing drugs runaway thats different story 15 year old timewell simply started gaming played 1 game particular time 15 half started making money consideration im living 3rd world country essentially game spending new aquired time started making good money age atleast country doingso kept going happy staying home day playing game liked started making moneyand parents course happy making money game told anythingwell fast forward months father restourant basicly little pizza shop stopped bringing profit eventually goes incomeeventually started getting cheap cars selling different countrys profit eventually dried happens askwell completely dependent 16 year old time depressed 247 home kid course mom saw started helping father leech mode im expecting job soon right like normal father sees son trying money couldwell cant find job months owner businessjust collect money essentially fast forward 3 months gets heart attack needs triple bypass insurance mom pays youd think cant worse right worse completely dependent income income cant job hes recovering goes shoulders moms money goes rent electricity food friends age going school fun im stuck home thinking ways money little tract mom dad divorced werent good relationship basicly relationship mom like buy stuff month private school dont pay attention im good mother aye month pay rest pays mother goes father eventually recovers bypass guess doesnt find job hes trying start businesses pretty starts gets ground dares borrow money anymore stays son gets white hair stress trying ends meet 16 years old eventually decide send relatives germany hope fix life pretty shoulders waiting 3 years far mother scrapp money leave day mother pay rentfoodelectricity apartment father money said game help waiting mother sell house commision money leave shes real estate agent essentially havent left house 5 years visiting mom sister left clean houses abroad pretty forced mom spend money drugsrun away home dramarepeatmore drugs shes gone 1 year far returning soon far know goes expenses im stuck living father literally point despise kind envy sister leaving grew mother didnt essentially fucked life decisions packed suitcase got money mother went clean houses different country im stuck taking care father manage scrape offso yeah point im considering weeks find gun black market simply overdose pain killers shoot head preferrably near bridge survive gunshot fall death doubt read ive wrote im sorry wall text stranger feels kind good sharing',\n",
       " 'soo yay sleep todaytonight fun basically took day medicine supposed awake instead night medicine supposed sleephelp sleep fun soo im writing',\n",
       " 'thanks crashing browser heartfelt indepth final letter deleted summaryim depressed violent narcissist sucky childhood real friends aside fiance feel like growing resent time far relationship fight trivial shit threatens breakingup think thats like scared consequences want relationship work twoway street cant force love knowwhen started dating exotic dancer pressured quit moved continued college enrolled prior living took fuck ton student loans hey im rich stripper months wanted tens thousands dollars repay graduate happened completely fucked 3 semesters junior hate think iti job young adult strip irresponsible late 20s resume ive totally bombed handful interviews ive actually called im freeloading loser responsible housework schoolwork cant growing hate feel like relationship thing keeping grounded ends idea badly going spiral control dont want female threatens kill break truly think record im meds therapy helps extent',\n",
       " 'wanting hang myselfi easily fall self pity high expectations compare lot self esteem depends men use sexuality attract stay cool guy stayed interested longer sex',\n",
       " 'know parents set ways essay wrong decide right instance 13 parents believe young access internetyoutube went school computer find parenting site common sense media source bunch trusted parenting sites plus googles knowledge yt works huge email addressed concerns yt plus additional things wanted feel safer etc etc etc argument addressed concerns provided solutions decided young ready handle kind thing happens time disagree perfect solution im right dont care help know stubborn parents blindfold realize correct',\n",
       " 'stop political assholes im trump supporter trump supporter asshole talk politics starts screaming single difference opinion im sick annoying immature shitting trump doesnt special makes sound stupid knock hear person trumps brother deserved die run 18 wheeler',\n",
       " 'tired iti try cant fix care people shit told mom plans kill shrugged didnt im tired lonely pretending happy im dont remember time actually happy didnt experience good childhood past fucked present want live better life cant fucking job mcdonalds fuck mom yelled stupid shit right im gonna jump bridge hope guys able find happiness day',\n",
       " 'boy school said isnt private snap story pussy said dont waste time tryna act nice yall dont good intentions dont hmu bc im keeping circle exclusive actually said look like asshole starts acting like bc thinks fake pussies kid said schools instagram tea page loves going school crack kids face reason posted thinks people public snap story pussies',\n",
       " 'cali bay area mfs curious idk howre yall holding',\n",
       " 'love dog got sad couldnt play online school got free excited pyre unconditional love great',\n",
       " 'havent got plans dont live welli havent got plans kill dont care happens blackout drunk miles home walk telling smoke drugs barely sleep want die',\n",
       " 'im going march 5 2026its thing look forward fucking far away knows maybe change mind meantime fucking far away ugh',\n",
       " 'think attached easily try deny week think attached way easily mean think think like 12 friend loose fault overly sad angry opposite getting attached kinda feel like arent arent meno thats star wars reference fuckers try realize times try deny mindset think lot times maybe 13 incidents mindset 2 months',\n",
       " 'timeburning old embarrassing journals saving ones kids read day theyll know messed cant blame',\n",
       " 'aaaaaaaaaaaaaaaaaaaaaaaaaaaaaaaaaaaaaaaaaaaaaaaaaaaaaaaaaaaaaaaa aaaaaaaaaaaaaaaaaaaaaaaaaaaaaaaaaaaaaaaaaaaaaaaaaaaaaaaaaaaaaaaaaaaaaaaaaaaaaaaaaaaaaaaaaaaaaaaaaaaaaaaaaaaaaaaaaaaaaaaaaaaaaaaaaaaaaaaaaaaaaaaaaaaaaaaaaaaaaaaaaaaaaaaaaaaaaaaaaaaaaaaaaaaaaaaaaaaaaaaaaaaaaaaaaaaaaaaaaaaaaaaaaaaaaaaaaaaaaaaaaaaaaaaaaaaaaaaaaaaaaaaaaaaaaaaaaaaaaaaaaaaaaaaaaaaaaaaaaaaaaaaaaaaaaaaaaaaaaaaaaaaaaaaaaaaaaaaaaaaaaaaaaaaaaaaaampx200bampx200bampx200bidk going flowlike cmon 75 rteenagers content',\n",
       " 'believe point karen named karen offended called karen',\n",
       " 'welp lost 27 day duolingo streak im sad didnt duo send notif smt',\n",
       " 'ice cube appreciation post good',\n",
       " 'got karma',\n",
       " 'im getting hotel room tomorrow need time think aloneso tired hurting burdening family depression failure tired living like non human need away little whileleaving note tells im ok worry wont answer phone ill text confirm im oki hope im hotel feel little different hate anxious sad time',\n",
       " 'big age difference high schoolers creep got asked girl shes cute stuff shes freshmen idk thats big difference lol',\n",
       " 'reason live fori think found right httpmarshallbraincomdiscard1htmmost live long replace lumps meat shiny robotic bodies like ones seen robot brains matter imperfect bodies dragging downtry going limping crawl shiny robotic bodies worth itupdate think got bit manic wrote sorry think good thing live',\n",
       " 'tell mom want wear crop tops school gay male hi im 14 like style crop tops im gay male said dont know tell mom want wear shes kind judgy shes scared ill hatecrimed small town lots homophobes thank',\n",
       " 'suicideam 2017 tried commit suicide 7 times like time fail fml',\n",
       " 'itll worse meback elementary school smartest kid class highest grades try high school grades plummeted depression barely bed days didnt graduate years havent applied college took community college courses drop incompetent finish themi eat im depressed im gaining weight im terrified getting fat diabetes dont know doits hard friends im quiet morose totally unapproachable time im group strangers judge notice flaws dont respect peers im sure comes demeanor ones interested talking friends making effort hello politeive diagnosed autism adhd rare occasion meet actually like likes fuck myriad mental illnesses disabilities anxious worried ruminate wrong end relationship person chance end themselveswhen seventeen watched girlfriend try kill called 911 paramedics came saved life hated spoke relationship ive shitty short miserable friend cuts contact eventually cant deal depressed anymoremy autism adhd impossible work 20 hours week thats stretch cant college upward mobility way money care cant stay parents healthcare im fucked far getting medication goes im bad imagine worse itll geti future hope things better im waste space bring pain makes happy wish dead im coward kill myselfi dont know',\n",
       " 'need stopso im going happen',\n",
       " 'die good ok',\n",
       " 'fuck neumatic scale music test didnt study studying right need sure post yeah',\n",
       " 'yes know cares havent subreddit lot feel like betrayed',\n",
       " 'horny gurl redtid send bob send u meme fair trade',\n",
       " 'song slaps jam httpsyoutube7mssoj5dm0you check underrated artist',\n",
       " 'rip tiktok going miss bunch views girlfriend uses friends phone ill hopefully able use',\n",
       " 'life sucks blame school fuck going school im canada schools gonna start month seriously school system expect teens stay contact free teens weed bathrooms stupid shit aroundwe family members risk family members work infectedand kids struggling advanced programs like ap ib gifted fuck going school stressful rigorous tough programs require good teachers talk need toand theres mental health school doesnt shit long itit estimated 1020 canadian youth affected mental illness disorder single disabling group disorders worldwide today approximately 5 male youth 12 female youth age 12 19 experienced major depressive episode20 doesnt like lot thats 600000 30 members subteachers dont shit good ones parents high expectations think mental health bullshit need deal cause comes guys cares bout mental healthi hate way school doesnt try fix issues young highlight grow expect deal adult problems lets face teens adults',\n",
       " 'know im literally going literally',\n",
       " 'sleep issues usually bed like 1000 stay phone 1100 damn reason waking ungodly hours today 300 yesterday day 400 day 500 reason days lot sleep feel tired poor sleep days feel wakeful energetic help',\n",
       " 'day posting random quotes came girlfriend dont 100 effort actually 4 multitask 25 things dundermifflinthissme',\n",
       " 'woke today feeling grateful personally 2020 hasnt bad im way better school mental health isnt great grades im going highschool soon im scared need lot help picking courses im healthy living breathing 14 year old girlfriend awesome supporting human love death post im asking doots im hoping reading awesome daynight wear masks stay school kids fellow teenager aidan',\n",
       " 'notwhy dont kill ignored wont issue cares care im dead exactly',\n",
       " 'im tiredpart 1 2posting resort dont know anymore life series struggle hate pitying way ive wanted die long remember remember writing poem 6 7 years age ive felt like understood desire die isnt purely emotional ive tried hard view situation objective stance death logical decision point psychotic sound ive clearly unsuccessful suicide attempts occurred 12 13 attempted drown rescued friend second incidence happened april 2002 took 10 ibuprofen admit time cry help taken hospital given charcoal ingest dont think medically necessary procedureit punitive therapy recommended time complied found largely ineffective time years agoi forget took 500 advil fell unconscious woke vomiting sleep waited hour realizing wasnt going die called ambulance paramedics arrival told probably die told ibuprofen ingested admitted hospital 5150d therapy recommended time found therapist saw sessions deeming futileim 25 years oldi born caucasian father multiracial mother time early forties older brother seven years senior half sister 18 years old born parents undiagnosed mental health issues father contracted ulcerative colitis young adult warranted proceeding ileostomya medical procedure removes ilium small intestine rest gastrointestinal tract follows creates stoma essentially hole elimination waste father extremely self conscious consequently lived entire life making single friend translated family living isolation grew family friends limited contact neighbors feel like socialization skills inhibited wasnt grade school opportunity interact people outside immediate family painfully shy softspoken little eccentric quickly casted peers teased things growing upmy multiracial identity voice appearance mother mother overweight time intelligence taciturnity family member molested times minor time surprisingly weve talked felt terrible doesnt bother anymore life ive struggled health elementary school asthma severe hospitalized multiple times year remember 8 9 years old coming pneumonia fell unconscious fever escalated nearly 106 degrees prematurely pronounced dead hospitalized time afterward returning school asthma triggers grass day lunch mother picked home lunch afraid playing grass contributed feelings isolation whats elementary school playtime fortunately asthma control bronchitis year immune system weak pick colds like magnet love run cant anymore chronic knee problems luxating patella sides inherited mother sciatica know health problems minor im thankful life home quiet growing parents 40s little worn spend time siblings far ahead developmentally want play pretend parents bought toys wanted compensate recall feeling extremely lonely child cant remember time felt lonely brother hit adolescence life home quickly volatile violent brother 16 sister got physical fight parents resulted father needing number stitches brother went juvenile hall months released remember fearful time remember hurt feelings bit middle school tumultuous time befriended close classmates past years decided ditch explanation eventually realized wasnt cool experience repeated repeatedly childhood young adulthood time hurt significantly freshman high school parents got divorce father immediately remarried woman younger sister dad late fifties wife 2 27 time prison fraud prostitute porn star stripper meth head ultimately released dad took long story short relationship didnt work father known stoical suicidal remember night called mothers brother taken mother likely grocery shopping told jump balcony stole mothers car drivers license drove dads house got acted like happened 15 time 2002 got relationship lonely desperate time welcomed person romantic interest relationship stormy jealous type attempted regulate aspect life end time longer allowed talk school wear makeup dress longer devote time hobbies time consisted drawingpainting playing video games ironically years later apologized way treated remains closest friends day speak infrequently believe holding grudges shortly sophomore year high school performance school began decline younger gate gifted talented education pulled regular classes given individual attention reading 2nd grade reading 8th grade level friends wasnt learning class began develop record truancy teachers complained bright wasnt applying enrolled honors ap classes barely passed rarely attended didnt care anymore graduated barely parents believed id end stanford ivy league university ways feel like failure started working junior high school graduation began work fulltime attended local community college time switched majors frequently unable focus single subject long eventually settled business administration subject im passionate like safe choice help pay bills eventually transferred mediocre local university transfer student im 25 class left officially degree failed classes inability focus im sure degree value',\n",
       " 'planthis reference editwhen day 30th birthdaywhere rented flat sitting bedhow cant discuss method painless peaceful drugfree method preferred righttodie advocates itll breeze ive equipment july ive tested worksso want family read journals year dont want police post address day arrive following day point family check mailbox written generic decoy note leave ive written pages passport ive printed credit report help family deal practical financial matters following death ive registered 999 text service meant deaf folk means schedule sms 1 hour future allow body discovered immediately organs good donate start job 3 days planned date got christmas awkward avoid questions day plenty valium im nicely calm big moment probably codeine cos leave family travel home new years standard goodbyes overly sentimental avoid suspicion',\n",
       " 'somebody explain use heliumyou write dm information highly appreciated',\n",
       " 'im bored im bored im bored im bored im bored im bored im bored im bored im bored im bored im bored im bored im bored im bored im bored im bored im bored im bored im bored im bored im bored im bored im bored im bored im bored im bored im bored im bored im bored im bored im bored im bored im bored im bored im bored im bored im bored im bored im bored im bored im bored im bored im bored im bored im bored im bored im bored im bored im bored im bored im bored im bored im bored im bored im bored im bored im bored im bored im bored im bored im bored im bored im bored im bored im bored im bored im bored im bored im bored im bored im bored im bored im bored im bored im bored im bored im bored im bored im bored im bored im bored im bored im bored im bored im bored im bored im bored im bored im bored im bored im bored im bored im bored im bored im bored im bored im bored im bored im bored im bored im bored im bored im bored im bored im bored im bored im bored im bored im bored im bored im bored im bored im bored im bored im bored im bored im bored im bored im bored im bored im bored im bored im bored im bored im bored im bored im bored im bored im bored im bored im bored im bored im bored im bored im bored im bored im bored im bored im bored im bored im bored im bored im bored im bored im bored im bored im bored im bored im bored im bored im bored looked far strangers love know rules commitments im thinking wouldnt guyi wanna tell im feeling gotta understandnever gonna gonna let gonna run desert gonna cry gonna goodbye gonna tell lie hurt youweve known long hearts aching youre shy inside know whats going know game gonna play itand ask im feeling dont tell youre blind seenever gonna gonna let gonna run desert gonna cry gonna goodbye gonna tell lie hurt gonna gonna let gonna run desert gonna cry gonna goodbye gonna tell lie hurt younever gonna gonna ooh gonna gonna upweve known long hearts aching youre shy inside know whats going know game gonna play iti wanna tell im feeling gotta understandnever gonna gonna let gonna run desert gonna cry gonna goodbye gonna tell lie hurt gonna gonna let gonna run desert gonna cry gonna goodbye gonna tell lie hurt gonna gonna let gonna run desert gonna cry',\n",
       " 'im lifeim hk im 25 years old want pentobarbital know reliable supplier wanna die dont like loneliness im coz people treat like shit im gonna leave earth ive experience people real life know commited suicide lose strength im gonna away earth theres god god suffering maybe god want die god suffering',\n",
       " 'fucked fucked oversad state nearly generation younger understandably shoes wife daughters years old honest scheme bring nwo ignorant end game elite want remove 90 worlds population order easily control masses corral nwa new world agend disgusts world word liar lazy fuck honest hard finger bone worker work ethic african slave bust ass push literally point passing afterwords going dont believe quitting received returnnot damn thing contemplated suicide ive sold drugs shame things money support family imagined capable truth government doesnt royal fuck anymore cares self chance advancement damn picture dont yourselvesi wont dont option id kill came terrible fault washington dc dont fuck people supposed represent good luck fellow unemployed brothers sisters humanity remember color matters status privilege truest measure person character unappreciated',\n",
       " 'im close losing mind againhey yall post matter fact post reddit little background im 20yr old male ive depressed home happy place grow dad cheated mom mom lost went actually insane tried kill times away dad mom called said loves dearly exhausted wants end got home mom hospital dad called neighbor called ambulance boxes sorts pills table knife blood ive kinda unstable mention fights hit eldest sibling break things protect little sisters ive punched nose hard broke mom try stab dad got hit straight collarbone sorts fucked things mom trying claw eyes starting scream middle nightbecause partly blame messed school badly lucky high school got motivation faded im struggling finish school work nightshift pay parents dont kick hate job hate people social life weekdays pretty nonexistent body doesnt react working nights sleep daythen met girl better felt like okay fun happy time ages felt like normal functional human got motivated lose little bit weight im obese little bit extra got motivated school found moving abroad college decided longdistance thing tough hard year im going meet week im supposed happy excited fallen sick tumor lung big needs scanned possible cancer etc im trying stay strong im talking im crying despair im close losing mind thoughts suicide reemerged mind know dont want live shes gone break know fucked grew apart afraid losing try talk mother says meds dont sad whats wrong think shes huge hypocrite considering depressed literally destroyed life ive contemplating ending morning thing keeping alive thought girlfriend ironically listening suicideboys im fucking lost dont want fall black hole long',\n",
       " 'thing stopping im cowardi dead end morning wasnt eveni laid plan easy hate life forces going hate happier die cant entire night hell rollercoaster tunnels sunlight contemplate end alli worthless human life intrinsic value cant im forgetful hates said recently changed mind wont said learned feel better youll probably feel worse couple days im ready die planned happen 620 morning want dead theres easy way aside aging',\n",
       " 'people bother keeping people alivewhen clearly people deserve die theyre smart understand theyre gonna contribute society decide actually remove burden instead wasting space ressources people deserve asking suicide advice reddit youll linked doesnt help',\n",
       " 'schoolim school right cant help feel inferior useless dread existence look classmates life hope build gall kill fucking sucks know im irrational im procrastinating necessary things think subconscious knows im gonna kill fuck',\n",
       " 'anybody scared dying corona virushonestly im sick life stress isolation school pressuring online classes kill cant handle stress pain dont want suffer wouldnt mind getting virus dying dont point continuing day filled pain stress havent single minute today lay relax im sick shit',\n",
       " 'upive tried posting subreddit guess knows previous posts guess thats okayive given trying help mes probably pointless kind needed vent like nowi dont want alive anymore guilt overwhelming wanting diea nd feel stupid becaue theres probaly afterlife perfect id turn kind lsoer moron righti',\n",
       " 'add music guess heres playlist jackhenryhttpsopenspotifycomplaylist0npllldtpdjy98uu5cjrnusiqoh89mkqmqbiuyo1eeohg',\n",
       " 'fuck bro difficult phone costumer support shit bruh hella anxious ugh idk stop feeling',\n",
       " 'born waywhy trans feelings family accept live transphobic country difficulty imagining body looking like girl gets worse day dont want exist anymore',\n",
       " 'cant pretend anymorei dont want fake interactions people dont care anymore people care dont care lay life people smile single person willing ask day im going existential crisis im willing people help bullshit relationship problems damn person asked hows going cant pretend stupid wont talk drama important fact honestly know idea life im sick waiting person ask whats wrong entirely people dont rats ass dont know selfish care feel long want want end',\n",
       " 'dammit woke morningevery single morning open eyes feel like shit cuz live dayanyone relate',\n",
       " 'todays 18th birthday worth living pointive wasted teen years pretty bed miserable adult world feel like ive pretty worth havent rest life boring filler dont know feel wish 15',\n",
       " 'im broke need money im ready offer services offer earn pennies',\n",
       " 'meant leave world times alreadyive posted twice past check sense anyways summary grandmother close passed away summer 2018 completely flipped life sad turned depression keeps getting worse friends lot schedules didnt line year affects kept going friends took step realized wasnt close planned times leave cruel place later day day dont know ill tomorrow longer dont know world like',\n",
       " 'buy 3d printer throwing knives originally gonna buy pc 3d printer coolwhich buy',\n",
       " 'hi guys meow meow meow meow meow meow meow meow meow meow ow',\n",
       " 'oil massage lost 20 hairs day normal filler gay filler bad filler lol filler xd filler straight',\n",
       " 'happy memy family friends happy im reasons accepting kill know hurt mental disorder cause lot pain pain dont',\n",
       " 'im lazy id kill sort worki like fun parts things dont like work likes work want die cant work keeping house clean impossible laundry makes insides scream feel dehumanized embarrasses matter work today ill tomorrow cant job financially independent time real job quit realized real jobs dont summer vacations burned fast fake job overwhelms barely work job sit door buzz people theres screening process buzzin system deter people want wander theres door buzz maybe person hour comes door work 10 hours week feel like work like stay bed day drink wine eat watch funny tv shows wish work funny tv dont work ethic years underweight went pound underweight pound overweight past 4 months thats 10 pounds month gained idea eating better prepping meals sounds humiliating laundry work days caught therapists doctors dont know meds help stop helping dont help long term wrong chemistry wrong im stupid vulnerable placebo effect therapy doesnt help cant bring try work grind dont dont want die theres fun want ive looking years magic words help feel crushed perpetuity responsibility dont exist im good person lack work ethic im easily overwhelmed im lazy im spoiled im taker cant',\n",
       " 'tryign overdose help metoday took hiv test routine anxiety killing right id managed control today morining took 4 mg clonazepam took 4 5 mg clotiazepam im depressed im scared chased booze im pathetic im pathetic im patheticedit 45 clonazepam dont want want knocked fucked outi want end wanna disappear im felt good today morning probably feel good later dont pass fuck emotional instability wrong meeeeeeim fucking tears crying screaming hitting walls lost control dont know happened fuck deprssion nfjnkldsmedit took 25mg clonazepam help ive taken mcuh know wont kill maybe dont know im fucking lost world',\n",
       " 'fuck shithonestly fuck probaly end soon cus know way cause death suicide',\n",
       " 'probably 2 miles half hour try right ive mile half lately finished 2 minutes early today',\n",
       " 'hi gamers friend discord whos talk share memes play video games skribblio minecraft cards humanity online terraria stardew csgo tf2 valorant overwatch destiny 2 gmod doom smash rainbow halo war thunder apex blackwave guys girls listen music watch movies theres separate channel nsfw small form sweet community knows otherr pretty active ur lonelyyyalso dank memer dm link',\n",
       " 'im bipolar went medsthey making feel stopped taking today felt amazing quit job delusion 124000 bank went glider today went 4 wheeling desert hearing people scream terrible things scares glad living head clearer',\n",
       " 'feel near southern california45 earthquakebring 2020where tap fuck',\n",
       " 'opinion catboys great nearly good catgirls cat girl money',\n",
       " 'kill help wanna nowplease doesnt hurt wanna today sleeping pills idk',\n",
       " 'im getting 1k karma burger tommorow hopefully said eat burger 1k karma stand',\n",
       " 'tips tell newsso im pretty good day today months debating want tell parents mental health seek help tell',\n",
       " 'hey siri stop tracking',\n",
       " 'day 148 asking filler filler filler akrlrllalr sorry fucking count filler filler filler',\n",
       " 'lot countrys history culture replaced american things better tourists stop dont like country dont come dont fucking change itcountry spain',\n",
       " 'pfp reddit dark mode',\n",
       " 'ok know lot bad stuff goes twitter like theres thats kinda addicting like people tweet outrages things reddit instagram posts lowkey wanna experience know sounds kinda dumb wanna reply tweets happens twitter account years ago wasnt active installed today im sure advice genuinely appreciated',\n",
       " 'ah fuck bro dropped keys ford everest titanium 22l 42 premium package bend grab dont look oversized supreme pink hoodie youd able black tight little shorts btw im guy',\n",
       " 'need helpcan pm need help',\n",
       " 'found years later wrote song mei recently discovered past left feeling questioning life meaning story little weird bear college developed drug problem prescription pills years caused behave odd ways certain times sophomore year going band huge fan oncampus high pills time totally obsessed music friend opportunity meet lead singer said strange dont remember quickly left recently listening music remembered incident listening album came 10 months encounter realized themes songs awkward encounter know farfetched trust im 99 sure attended bands couple years later remember lead singer noticing stage studying lyrics music released initial encounter college realized wrote song seeing crowd years later reason upset themes songs emotional romantic nature songs taken aback behavior awkward meeting able head describing wreck theme searching starcrossed lovers sort way felt depressed wondered sort missed connection know im making head multiple songs 4 albums themes appears kind muse explain dont want divulge information songs changed lot past year suffering major depressive episode gained 40 lbs psych med feel disconnected self like happened old longer person dislike life goingampx200bi started reminiscing kind thing life depressed 10 months ago initially institutionalized drugs mental health 2016 kept transferred different facilities 2 years second facility schizophrenic break diagnosed formally schizophrenia june 2018 transitioned recent facility apartment community time drinking alcohol celebrate newfound freedom mother act crazy scream totally lose caught background mother undiagnosed psych issues hysterical rageyells gets confused ranting conversations people got hysterical dragged therapist doctor ranting totally stressful uncomfortable happened times summer moved apartment didnt catch drinking think stressed worried stay facilities needed 100 fixed time psych facilities day trouble sleeping took antianxiety pills doctor prescribed ended behavioral health unit shortly received dui 2 events therapist doctor decided php partial hospitalization program 5 days week 4 hours day working fulltime evening shift aware work schedule immediately recommend needed quit job weeks burnt wasnt attending php regularly therapist finally suggested quit job refused keeping job important time spent working stubborn realize wasnt healthy eventually rehab escape php stupid solution delusional time felt trapped php facility giving way telling discharged improvement php 2 months rehab felt stressed php 5 days week work evening shift time rehab experience awful sent facility 19 beds terrible shyness social anxiety like doesnt like opening group therapy individual therapy environment awful small number people feel extremely insecure expected interact peers staff constantly manner uncomfortable insecure withdrew rehab stuck php 3 days week instead 5 point totally stopped participating withdrawn rehab experience told needed participate order discharged stopped going php uncomfortable group setting felt nagging guilt attending messed psyche went 2 additional months rehab hearing dui ordered php 3 days week switched php facilities fact felt trapped program initial facility totally ignored fact wasnt getting better burning stress php working fulltime new php location discharged individual therapy month wasnt getting therapeutic group setting summarize forced php working time best thing mental health wellbeing didnt consider needs individual situation harmful mental health ultimately caused major depressive episode suffering lost interest things happy trouble concentrating restless constantly struggle social situations far facility negligence responsible current mental state',\n",
       " 'attention women ages 1418 dm girlfriend',\n",
       " 'need help feel losti need help dont know seek help edge taking life worst thing happened born muslim family girl forced live life meant years fully convinced muslim sense accepted thought mum religious purposes traditional lifestyle raised wish true religious prays actually tried violently follow islamic orders like wearing hijab talking boys going bf violent mum authorities took away little children brought hate old physical power feel pity tells hard life child wife start forgiving everythingbut yeah knew dont believe god anymore want hijab probably kill possibility hijab problem planned getting master degree real problem lost hope looking forward leave family totally excited dont know living whats purpose life feel lonely friends avoiding started talking critically islam want quit study dont know learning feel unhappy lost biggest fear know exactly ran away lonelier hard new friends destroy family dont point living constantly thinking committing suicide thing dont courage dont know excuse english dont believe thing wrote sense',\n",
       " 'thinking dayi cant handle chronic pain anymore getting better getting worse doctors giving new diagnosis relief',\n",
       " 'helpi horrible emotionally abused need way substantial physical abuse need live disability housing set need way stop forever help',\n",
       " 'tired tiredlife sucks people suck im sick bsi dont know thats isall ive life increasingly good video games accomplishments speak care im gone edit dont dont know assume',\n",
       " 'booked hotel room going buy pills tonight im gone tomorrow ive bed days friends manage oh sucks know tried killing suffer depression parents betterthe person thought stopped seeing said things better way calls texts hes frustrated work needs vent blocked facebook instagram hurts hes ignoring course hasnt texted asking im okay fuck boys wanna sex stopped texting shaved headim dont want exist want end cease exist im tired feeling like single day',\n",
       " 'spongebob god spongebobs combat capabilities raw power seemingly immeasurable unbelievably powerful spongebob ability absorb reflect deflect physical damage ability sever limbs instantaneously regenerate cells possesses ability change configuration body expand body significantly microscopictheres scene spongebob shown sleeping inside sun unfazed core temperature sun 15 million celsius means spongebob 4383x stronger tungsten melting point 3422 celsius spongebob shown unravel string universe current evidence spongebob foreign material compatible able edit structure conceivable element universe seemingly invincible able withstand sun damage shows instantaneous regeneration shape shifting ability spongebob tested instantaneous regeneration prove create mass cover universe referenced spongebob connections dimensions spongebob brought dimensional dimensional realm godly powers simply spongebob immeasurable power reconfigure suffocate universe wanted seemingly invincible essentially deity regeneration tested theory regenerate cell mass faster expansion universe true power tested potential power seemingly unlimited believe spongebob actually god bikini created bikini recreational uses reincarnated previous life patiently waiting attain power crush world spongebob genuinely monster absorbing life energy universe preparing crush universe taken form sponge concealing true identity prevent fighting power surprised spongebob destroys entire multiverse recovers energy reset reality expanding sponginess creating hypernova large collapse reality',\n",
       " 'hurt love im stupid affects ones closest girl longer 2 weeks fucking cunt im rage filled bastard try effort time true colours end hurting closest',\n",
       " 'feel death im feeling scared im trying reach help answeringi cant feeling know theyre ignoring purpose theyre busy im scared atm told loved feel tiniest bit hope like body killing hurts feels awful love doesnt matter long run hell probably leave find know deep theres point',\n",
       " 'comfortable talking therapisti suicidal fantasies self harm thoughts lot dont feel comfortable therapist dont like dont find use dont know dump given nhs dont know stop seeing creating drama dont point going appointment lie tell havent feeling bad dont feel comfortable talking lexapro quitting cold turkey feel terrible makes feel unlike',\n",
       " 'parents happy itits fucked life hell understand happy im longer suffering die',\n",
       " 'blasting music nice ears start hurting',\n",
       " 'healing item videogame im making aid kit turkey leg bandage massage hooker',\n",
       " 'took break got highi dont know good place post im sorry isnt yeah title states im high right took tramadol little bit ago ive trying work courage kill lately cant dont want die like pretty feel like need im complete piece shit fat lazy unattractive selfish mean liar thats things describe know dont deserve live im going live holidays family ive kind set deadline kill plan hang fucking hope dont bitch feeling im going cant choice need im sorry rant ive got talk fucking throwaway',\n",
       " 'remove theres streamer anita watched heard popping youtube recommended stop',\n",
       " 'think unique nightmares entire life couldnt felt like trapped heard like bee sounds felt like bees body tried scream mouth couldnt type noise woke jumping bed type bee noise like zzzz stuck head felt like dying mean idk strangely feel hear like couldnt',\n",
       " 'stop liking found social anxiety asking friend filler filler filler filler filler filler filler filler filler filler filler filler filler filler filler filler filler',\n",
       " 'im tiredive trying hormones order transition 3 years answer wait wait wait mother understands wait therapists decides right time wait im stable supposed stable thing hate wont allow transitionnow im moving away start process begging therapist decides im schizophrenic endocrinologist analyzes blood 10000 times dont know job waiting listi cant anymore cant wait anymore long like day hate day look girly day feel tired sad hopelessi probably kill tell tuesday wait alright like cared',\n",
       " 'think im gonna itive tried life makes happy thought good job place happy deal toxic ass gf worse hated job quit job like fucking idiot im gonna evicted soon cuz cant find work tomorrow phone atampt cuz cant pay bill girl dating roommate toxic fuck makes feel like im pressure support support try kind people people care favors reason feel selfish non wouldve happened wouldve kept job im tired pressure wanna die idk im gonna',\n",
       " 'people different kinds countries like meet online lives sweden speak english live france speak english im american understood english apparently popular countries language',\n",
       " 'miss samurai buyer series homie asian friend misaki miss idpz samurai buyer series damn sad thing sad',\n",
       " 'deathwhat like die acetiminophen overdose',\n",
       " 'dont know anymoreusing new reddit account im known redidtsim diagnosed bipolar bpd borderline personality disorderi feel time need love people im funny amazing honestly trying feel honestly feel 90 time manic episodes feel like crying screaming constant feeling like im going explode causes unable work play shitty weeaboo video games code day ive recently partnered discord woohoo feel hundreds friends altho dont feel connected im point wondering better didnt exist anymore better ended pain suffering im kinda wits end feel like thats option point dont know anymoretldr depressed cunt wants exist anymore',\n",
       " 'faulteverything fine yesterday woke got shower hadnt taken meds days staying missed bus yesterday asked roommate instead thats started staying past week away home life hes 9 years older result place continuously told fine wasnt burden apparently way bus terminal roommate discussed needed leave couldnt long concerned utilities went home received text need talk anxious leaving father picked uncomfortable hadnt meds bomb waiting lit asked leaving said incredibly anxious ive heard eventually told going flipped issues boundaries trying tell id wrong like brain short circuited ended cutting telling trying leave asked roommate help gasoline fire told disrespectful leave bf needed help things mindset point unstable actually wanted die religion hell commit suicide felt worse devil throw talked like 10 night woke morning ready angry tell hes leaving begged reevaluate said im talk week giving space boundary im horrible thats leaves hate im worse worst ex keeps running brain constant loop fine yesterday loved yesterday said wanted help cant believe ive fallen far quickly im sleeping time feels like insanity away friend support lost best friend boyfriend told wouldnt hurt honestly turns like reason exist anymore love hes broke dont know anymore',\n",
       " 'sunday im going kittens dance teachers cat kittens doesnt want shes letting im people whos getting im soooo excited im gonna turn crazy cat lady tho anyways kitten going orange suggestions',\n",
       " 'snapchat peeps sc myrightboys crack open cold onegirls ill simp u',\n",
       " 'im thinking timeive depressed lot recently school seeing awful grades realizing ill good peers theyll care like care making actually feel like killing moment thought future holds kept dont think future holds disappointment loser im distraught dont know wish end dont know im posting im sorry',\n",
       " 'request urgent help cant remember 22 barely remember 11 pls help aaaaaaaaa bot took post bad title',\n",
       " 'death dehydrationhas tried',\n",
       " 'im ready leavegoodbye',\n",
       " 'fiance broke feel like deadive depressed long remember finally started help issues years ago past months probably worst days ago fiance rely know shouldnt rely exfiance gone feel like ending broke drifting apart im sad doesnt know deal getting angry selfdepreciating ive unhealthy relationships meeting 4 years ago told good ugly actually care ive low selfesteem relationships paired fact relationships ended caught cheating trust people fairly easily hurt times continue hurt learn friends dont want bother stick issues past christmas got super depressed checked hospital suicide watch occasion exfiance got mad sad stopped talking visiting day got hurt packed things said going home called lyft hospital havent able drive everchanging medication cocktailthe week spent lonely exfiance best friend disappointed choosing hospital instead talking hard constantly feeling like im bother try hard inconvenience felt like failure tried pretend okay released pretending worked weeks unbearable kept wanting stop inconveniencing visits exfiance got worse worse feel distant messaging spending time started playing league legends lie bed watch look phone played multiple games felt ignored messed person thought things okay twice week long felt better feel like rambling ill try point soon promise want check hospital im scared disappointment come roommatebest friend family think getting better kept lying thinking okay hate letting person couldnt time comfort needed define pain feeling hate cant happier like woman met night easy bed kept crying passed tonight nightmare cried sleep ended waking nightmare brain speed telling worthless replaying good moments things leading breakup know time things easier right lowest point wish die sleep wake nightmare gone anymore dont know need dont talk push away sadness need tonight focus day repeat numb pain medication cocktail starts work dont want live dont want die disapoint people life feeling difficult right',\n",
       " 'daybeing worthless piece shit cant better ive tried people supposed way',\n",
       " 'horny teens reddit describe process finding good porn video filler filler filler filler filler filler filler filler filler filler filler',\n",
       " 'everythings huh okay fun fucking hate',\n",
       " 'trying tell teacher cant come online class im feeling sick whats good substitute im flu shit',\n",
       " 'goodbye sw better im sorry existedeven users mods better wo friends random people dont knowgoodbye delete reddits soon cant hurt people',\n",
       " 'reddit thank pretty getting piece shit year lol',\n",
       " 'want diewhy cant die want kill cant',\n",
       " 'im trans fleshed female version swap instantly shapeshift',\n",
       " 'peepee poopoo insert second unfunny joke',\n",
       " 'dont think reason live anymoreno talks shows care whats point continuing cut kinda sucky know try talk itd hurt lot wanna kms dont want die id like im probably gonna shows affection try anymore notice calm approach ive accepted im going process accepting im probably gonna loved sucks youre fat ugly waste space like kinda dont know anymore ones probably gonna read frankly dont care mind thats',\n",
       " '1159 31st decemberim year plan set place thought handle fell love told loved change mind professionals cocktail pills talk like hope dont worked 2 years im wish donate body wants live im sorry im jumping thank reading',\n",
       " 'past going kill present mei 26 years old going college 6 years like dumb ass hasnt graduated recently dads house got fist fight going college cant pay tuition credit fucking sucks shit spending ive younger young took student loans blew actually trying hard study cant loans met aggregate limits moms credit shit cosign private loan im living pretty girl friend sad got person moved couldnt manage finances 2 pay day loans gutter money rent im fucked dont know feel like quitting life know cowards way id homeless dont know hate younger self stupid shit head fucking present self family smart feel accomplished reality worthless took long develop work ethic 26 idea live afford thing holding right knowing devastated mom cousin killed self long ago feel like family fucked begin ive craigslist trying pay cosign student loan weeks ridiculous notion ive hoping actually ive come late toppling beneath ive interviews cant job shit credit ive depressed suicidal feel like want',\n",
       " 'tv line pixels red happened way fix dont know mean text ill send picture forgot title text lol',\n",
       " 'friends asked knew jonny sins said love watching movies thought teacher karate kid turns wrong',\n",
       " 'feel overwhelmed right nowi dont know',\n",
       " 'hi fello gamers gamerettes discord server friends r trying new peoplee chat send memes play games like minecraft overwatch stuff going commitment guys girls welcome dm link',\n",
       " 'swear im alien ai named diseased person harvesting data individuals earth swear im regular normal everyday person totally boring life',\n",
       " 'feeling like im arguing myselfso ive diagnosed depression attempting treat past couple months lately happened today ive sporadic changes process hour ill plan suicide head hour ill think crazy thinking like constantly changes dont know based im underlying issue prevent bad thought taking hold good thought',\n",
       " 'know dont deserve livei grew ludicrously rich went fancy school got wanted kid parents replaced affection attention money gifts learned treat people got handed result coast entire life live people friends insist im good person im hard theres ive learned years ive alive im going taking giving continue leech anybody thats misfortune kindnessi people id like friends mean lot dont know friends im consistently hurting getting blackout drunk forget bad ive everybodyive tried better end fucking deciding dont deserve world isolating couple days digging deeper pit ive created im bad broken person wont better matter try tell hard ive tried ive seen mental health professionals fills feeling guilt help help ive long known im incapable im bad know whats point living whats point continuing hindrance everybody care know ill contribute meaningful society trick people liking disappointing themmy mom bipolar spent lot time child parenting talking suicide listening tell im thing keeping alive im afraid im bipolar going cycles feeling bad hiding world suddenly deciding worth trying work improving life find cant fix entire life week blame spiral againmy boyfriend mom worried time talk boyfriend im drunk know hes noticed time talk mom im drunk theres way stand know im scaring know mental health issues arent bad rationalize drinking pity far deserve impact care know killing cowards way thats way life going itll extremely fitting selfish easy way leave fallout whomever misfortune house timei feel like owe kill want forget existed theyll eventually want quickly possible know sooner sooner itll understand therell couple months grieving polite feel thats worth know stable fulfilling lifei wouldnt want kill feel like ive felt way life felt like leading understand entire post hypocritical saying kill forum hopes people convince dont know point hope felt similar way come end okay help thanks',\n",
       " 'person disappoint idea hadplease positive responses person love end stop loving saying liked listened im constantly fucked forever feels like cant trust care long term family shit life shit want kind words remind loved forever im disgusting asshole useful emotional spongeplease positive responses',\n",
       " 'people pools backyard guys freaking lucky',\n",
       " 'im weak ago met girl hit immediately talked weeks interested things amazing started generic girl things like purposely making think mad ask says ok days got pissed deleted chats unfollowed 2 months later text says hi immediately forget',\n",
       " 'world cruel emptyi dont understand going world hate death good truly care',\n",
       " 'tried kill myselffirst tried tightening belt neck hard breathe plastic bag head tightening belt bag started ruining air quickly realised going die ripped bag head like reflex way explain itim scared dont know',\n",
       " 'want switch offi dont know noise pressure anxiety uncertainty want stillness want calm quiet warm safe home kind feeling',\n",
       " 'odd best friend lot friends person whos best friend idk odd dont person like dont feel like im missing fact people dont weird',\n",
       " 'december 31 2018thats date think choose ive suicidal long husband isnt understanding supportive try tell feeling hell twist selfish ruining day mood talk caresmy husband said leave night started talking terrible hes happy yelling poor doesnt know live anymore didnt sign bullshiti mental health issues increased greatly son born 2 years ago supposed appointment treatment plan 31st medication diagnosis reallymy husband says doesnt want medicated forever fair dont understand happy medicated fairhe said son right thing likes mother childso think thats soon wont husband son bawling thinking dont want instutionalized miss babyso way avoid pain myselfi dont know wrote hurts',\n",
       " 'dog passed away appreciate words people whove dealt stuff got passed sleep im glad wasnt painful goodbye time today guys',\n",
       " 'noticed long took spend 3 hours building lego car thats doesnt look good homemade wtf form 10pm 1am damn space shuddle 45 minutes yes true took 3 hours build small car anyways life meme se ya',\n",
       " 'everytime touch hair lose hairs relate filler filler filler',\n",
       " 'suicidetodaytoday realized worth dont feel need anymore im ready leave world ice searching ideas kill little mess everyday weighing heavy head know im ready matter',\n",
       " 'finally guts end life time nowwaiting day home find dads glock shot mouth thing im afraid surviving',\n",
       " 'im sorryim sorry mom dad brother sister cant anymore ive lived long shit heap world meant born meant child didnt survive birth stayed way death long overduethank partook making best memories thank showed kindnessbut thank didnt deserved itgod forgive mightnt let paradise plan im okay deserve merciful family wrong let pay price let good lives meant',\n",
       " 'im place im proud sorry isnt right place idk years ive neglecting physical health ive super skinny ate ton straight gut id super skinny giant belly started working 4 months ago im actually spot body im proud nobodys noticed said feeling able confidently walk happy thought id share tell thats boat totally possible dont let says drag mind',\n",
       " 'guess clich alreadyhello actually dont know start guess introducing myselfim girl 19 years old college student informatics major pretty life right guess clich didnt find place world think hurts hurts damn think choose went sports got called talented medals international titles felt like place felt like belonged thereas grew like clich bullied skinny result hated look mirror look pretty today felt like mirror hated hated bullying happened school came home mother told wanted friends boyfriend skinny wasnt fat healthy weight thought high school change like movies suddenly ton friends pretty life gets betterlife got worse time knee injury sport got fatter fatter going started vocal lessons know think clichic misunderstood artist ill honest dont natural born talent afraid people couldnt sing way thought didnt block lessons felt like world right time belonged purpose wasnt stood concerts told good voice special charm swear god day words best compliment ive receivedhad music senior year high school final exams coming think called sats usa told pick path life major college beyonce mariah carey subtly brought option family immediately dismissed major informatics ill honest hate math thing loved reach chose bring biggest money today failed exam came crushing mei meant think future looks like consider ending lets real life live dont die afraid thought waking mid 40s hating life job surrounds live like thatif bothered read till end thank honestly felt didnt overdosed pills hands dont know myselfi feel helpless angry angry feel pain wanted reach maybe theres way time ive dealing depression long time got guts act dark thoughts scared braver lately scared feel like breathing peoples oxygen stop wasting itclichic right depressed teen feels like dont belong feel bad trying reach dont deserve saved',\n",
       " 'shit offf meee aaauaggh',\n",
       " 'lonelyi dont know anymore life complete standstill march dont way moving forward hereover course pandemic dealt pain lost friends werent people best friends havent spoken months deleted blocked pretty toxic relationship past 2 years day texted speak sounds like good talk spend time im completely alonemy dog pets died month ive trying absolute hardest new friends old ones time tried got bailed friend plans person slowly stopped replying plans multiple times fell finally started talking guy thought fucking cool things going talking hanging possibly taking things told personal health got ghostedits hard deal crippling depression suicidal thoughts im completely talk im feeling like decided theres wrong wants livesive trying months kind help professionals flip flopping know stay away ive taken hospitaler probably 4 5 times suicidal thoughts acting taken seriously time sit room talk completely uninterested im sent home waiting hours thats come home feeling worthless numb went injust like friends parents dont know ignore texts im begging help telling badly want deadwhats point anymore supposed live clearly isnt help cant deal thoughts constantly flowing head telling need kill day think easiest way likely actually survive itim sure read respond people know im worth caring thoughts dont want alive anymore want fucking die misery anymore',\n",
       " 'skribbl going join httpsskribblio8cuk1vc3ksuohttpsskribblio8cuk1vc3ksuo',\n",
       " 'dont knowim 16 happy 3 years friends dropped school year ago sit pc 16 hours day job want mental ilness parents rich loving im massive failure instead living welfare rest life like degenerate',\n",
       " 'endi tired trying positivetrying positive thinking going okay notnow know fact noti going kill today end',\n",
       " 'dont wait happy longest time happines unachieavable tought x happens happy wishes eventually true try like got 500 hoodie manage 800 cooler slowly drove insane felt tough got enjoy mentality dont settle appreaciate nonetheless',\n",
       " 'russian rouletteim broke point access quick painless deathgunshot head hesitation got thinking video game underground russian roulette gambling empire got thinking perfect scenario gun 1 6 chance end suffering live money sounds fucking great ps send gun nitrogen pm address',\n",
       " 'secci teeneg piks webseit httpswwwfreeransomwarecomdowload57381917468eh26940trust virus pinky promis',\n",
       " 'worried friendhey guysmy friend history depression know know seeing psychiatrist point maybe isanyway 6 months life got lot worse got kicked college wasnt getting good grades found today brain tumor im worried hurt',\n",
       " 'today took airplane time person gets anxious taking bus consider decent achievement',\n",
       " 'im getting helpi fine dark humour previous attempts joke stopped way month ago kept getting worseand worse drank smoked working slowly wanting quit working quit living quit loving things end month im finally going treatment facility month',\n",
       " 'pedophilewhy god',\n",
       " 'life youre stupid bad grades motivacion diploma life youre stupid asf',\n",
       " 'suggest moderators messages privately immediately trust youre best interest',\n",
       " 'purpose lifei feel like priorities wrong way round ive come accept fact im worthless aspect life refuse attempt push forward theres point anymore thing ive strived perfect relationship guide life im dick ive kept handful friends life feels like lot moving 18 im contributing im depressed attempt anythingthe 6ish people ive tried worst shittest annoying excuses want try friends dont think anymore want live normal life reminds im far normal',\n",
       " 'idk goingima dealer im young cant familys house shoulders feel like iv edge long downing n pills n syrup expecting wake fucking day sun rises people tell im pussy wouldnt gonna day lost brother shit 16 im 18 wanna homie iv formed times count iv overdosed times count wanna die fucking bad dont understand pain waking everyday wanting alive going family dont let people raised dont fucking tell theres way switch jobs im vary smart theres way house utilities idk like posting reddit rn feel like im edge idk anymore sex drugs bestfriends stabbed girl 4 lmao 15 years drain idk pop pill cant wait final rest im probably gonna delete later feel like im losing felt years years counselor therapists book names tell story jaw drops know idk tbh story doesnt good ending like homie like peep rock stars end place cant wait girl doesnt second god help pray thats fucking god hope post doesnt bite ass day feds reading fictional story familys reading day im sorry',\n",
       " 'soft tissue decompositionim anorexic close wish people stop accusing let think want fact encourage confusion ive surrounded halftruths disinformation im sick ive gerdibs like counting calories im fond data believe things myselfits plan number body doesnt think im capable ive worked long time years years hurts god hurtsevery day hurts lie bed bones protrude im cold excess stomach acid burns inside hard know ive come far body finished growing shape child probably mind im selfish spoiled completely dependent virginal asexual things away age scars years selfmutilation probably count like tree ringsive gone 100 75 pounds teenager im midtwentiesthis isnt looks close stopped giving damn look like grew im impression visible ribcage veins arent hideous isnt control id deciding meits coward couldnt kill quickly instead slowly imperceptibly dont want noticemy life solitary doesnt matterbut couldnt kill right way thenso im taking slow instead hoping day body stop fade dont mind takes longer im patient ive got time world lose round win diesin end want ive wanted',\n",
       " 'im life waiting dateeverything im ready letter write days 6 different significant dates untill end year life days day catch bus',\n",
       " 'ready iti dont want discuss reasons feel like finally ready abusive family main reasons constantly trashing treating like shit telling worthless point selfharm second time hurt anger wish leave cant dont job place stay working hard education pointless long stay ready want watch know like feel helpless panic attack imagine panic experience jumping know fault thing stopped fear ending disabled getting way hurt broken bones etc actually dying scared cause irreversible damage youll try talk truly want need',\n",
       " 'smart poured dr pepper cup wrapped tinfoil stuck reusable plastic straw said tinfoil freezer couple hours licking delicious highly recommend thank',\n",
       " 'havent opened minecraft world 6 months night hadnt house character forever paused getting eaten zombies',\n",
       " 'im going kill weekendon surface looks great work industry studied student debt im respected supervisors small public profile looked community im miserable months day leave work think jumping parking garage couple times ive stood ledge days sit bed start drinking noon dont shower hell reason shower week dont want fired care getting fired dont want bored day im completely world im miserable day im tired im going camping weekend friends point im going piss woods shoot way looks like accident im fucking embarrassed im 30 feel way goes',\n",
       " 'hate lesbianim fucking literally headaches thinking heres hate lesbian1 small dating pool dont options fact im feminine im invisible im attracted masculine women femmes slightly tomboy girls use shitty dating apps ill die straight friends date fun like normal people 2 dont like lgbt related thing dont like community maybe thing like gay bars thats dont want pride lgbt related shit want normal person bunched group people 3 internalised lesbophobia fucking hate lesbian going love going love internalised lesbophobia im going change im going happy myself4 people hate ok lesbian people going treat like shit5 cant biological kids partner use sperm donor adopt mean im fine adopting want carry partners baby sperm donor dont want deprive kid hisher father straight wouldnt deal use sperm donor im going deal disgusting comments like fuck etc6 people wont believe look feminine suffer compulsory heterosexuality theyll constantly doubt 7 cant kiss hold hands partner public getting started gross comments thrown 8 family homophobic wont believe tell compulsory heterosexuality 9 im sick people thinking im lesbian means tell sexuality works sexuality fluid lesbians dont exist youre probably bi etc etc fuck im things im lesbian thats stop dismissive sexual orientation 10 im outsider friends talk guys like talk sex cant relate 11 hate sexualised lesbians im entertainment threesomes im going let watch kiss girl jack literally reason end life im ask im 18',\n",
       " 'mad uselessness mediocrity feel angry able achieve feel',\n",
       " 'noticed big ass scar forearm dont know havemt noticed look kinda cool',\n",
       " 'man battle bots awesome yeah nerd watching battle bots man exciting hell referencing legendary tombstone idk',\n",
       " 'joke dad joke comes apparent',\n",
       " 'feeling like shit againi havent posted like 2 years got better didnt want post post sound selfish stupid reason feel like shit im gonna write anywayim gonna start saying im gonna log account postingim 2nd year high school alright ive met people new class hasnt worst timenow christmas break christmas eve started feeling like complete shit told dad gaming pc trying ive telling year got response dont lot money know got paid significant money christmas clear doesnt wanna like christmas christmas christmas ive learned expect thats exactly im gettingthat feel like complete shit feel cares people met school dont actually want talk online friends tolerate fact im gay doesnt help know fact family friends school hate found theyre openly homophobic online friends know im going distance called friends school point dont talk anymoreive crying past hour dont wanna christmas wish dead didnt shitty christmas',\n",
       " 'im outside kinda late need catch work tomorrow oof',\n",
       " 'lonelinessmy thoughts plaguing thinking suicide selfharm conscious keeps telling honestly probably thing know people committed suicide ive seen pain causedbut feel lonely killing meno knows ill dive right 23 year old male ive confidence issues past damn good job overcoming like happy think attractive person plenty friends family loves meok positive negativei real girlfriend real quotes ive dated people turned im technically virgin technically oral sex im sexually inexperienced age physique frustrating think lucky people find sos like taking candy baby earlier year went dates girl started like got point thought happen stupid jump conclusions like hooked times wonderful day found shes best friendi tried hard knew hanging hooking regularly said fuck dating time stings hate hearing friend talk ive hung outgone dates girls good herthis felt like final nail fucking coffin trial error believed years wrong long finally convinced true finally found felt different friend steals fucking want wanted long night bed feel lonely friends getting engaged relationships im squarefuckingone years times feel like loser know im stopped looking forever memes got depressingim asking dating advice shit like dont need kind advice loneliness stings considering went late augustearly september im havent told friend hell think im obsessive psycho whos hung girl love friend hes best friends ive dont want end friendshipbut failing women killing fucking far age learned fuck rejection failure incompatibility fucking gets working meet people people like friend shit fall fucking lapwe humans long companionship taken away withdrawals voice head keeps telling end end pain fucking stop chime thats ridiculous find crazy shit like trying figure hang rope pipes ceilingdo want die nodo want sting loneliness away coursewhen step look think insane youre going throw away life like think pain stop ive dark haunting thoughts wont awayloneliness sucks soulhelp',\n",
       " 'feel like fucking loserabused gave fuck thanks guys',\n",
       " '17 years old feel like im right wasabout year half ago suicidal friend convinced help prescribed zoloft began seeing therapist got lot better went emptiness happy met nice guy started going fall felt zoloft longer working cymbalta birth controli guess looking knew cymbalta wasnt working past daysweeks gotten increasingly worseim suicidal skipped school today drove hours coming starbucks plan till library opens little hour im hoping engrossed book stop anythingive grown extremely clingy broke boyfriend week ago order try independent factors break guess main im pretty sure drove away best friends clinging smoked night helped guess ive tried working hasnt look forward future dont care dont point anymore feel like mess cant things straightened',\n",
       " 'reasons date shitty personalityi love guro arti watch suicide videos funi treat everybody equally drop kick far kill anybody deserves love knivesi fakei detest god worship demon beelzebub fuck bastardi shitty person comfort feel instead thats nice walk away',\n",
       " 'hey guys need tell secret pls dont tell anyonewere strangers loveyou know rules ia commitments im thinking ofyou wouldnt guyi wanna tell im feelinggotta understandnever gonna upnever gonna let downnever gonna run desert younever gonna crynever gonna goodbyenever gonna tell lie hurt youweve known longyour hearts aching butyoure shy itinside know whats going onwe know game gonna play itand ask im feelingdont tell youre blind seenever gonna upnever gonna let downnever gonna run desert younever gonna crynever gonna goodbyenever gonna tell lie hurt younever gonna upnever gonna let downnever gonna run desert younever gonna crynever gonna goodbyenever gonna tell lie hurt youooh upooh upnever gonna gonna givegive upnever gonna gonna givegive upweve known longyour hearts aching butyoure shy itinside know whats going onwe know game gonna play iti wanna tell im feelinggotta understandnever gonna upnever gonna let downnever gonna run desert younever gonna crynever gonna goodbyenever gonna tell lie hurt younever gonna upnever gonna let downnever gonna run desert younever gonna crynever gonna goodbyenever gonna tell lie hurt younever gonna upnever gonna let downnever gonna run desert younever gonna crynever gonna goodbyenever gonna tell lie hurt',\n",
       " 'cant iti want kill want end cant hold knife neck cant manage stab cant im coward wish wish like cant lose pain doesnt scare anymore pain nice makes feel feeling exhausting want end dont like living anymore theres live',\n",
       " 'waste time buti know im didnt itd swirling head like setting grenade office aka disastrous mess anywaysi hopeful want approach voice need fucking futile ive spoken shit eventually 1 goes quiet 2 admits dont know 3 wishes best longer try helpand frustrating humiliating numbing unfair kills time come like picking scab touch longer heal ive picking brain cant help desperately clamor help strangers signs talking people fastest way recover want fucking recover die whichever dont care anymore ive gotten help talking dead ends actually like lead promises yes yes improve going kept going years years years people feel way years older asking questions dont want end way people younger dont want end way im asking old things wanting old help vicious gets better theres point trying anymore point place run circles tired fall dead hoping day meet person doesnt quit trying help like rest maybe believe',\n",
       " 'aprreciation post uhomeworkguy peoples homework lol',\n",
       " 'therapist said cant headi think people position killed long time ago isnt basically permission commit suicide expected stronger people im actually living life',\n",
       " 'think im psychopathrecently completely insensitive nice guy im total ass hole tries talk constantly suicidal homicidal thoughts dreams consist killing people gore dont talk couple friends im suffering bipolar depression cant elses shoes want left angers burning rage inside cause bodily harm scared',\n",
       " 'fuck sarah im obese im pornaddict im suicidal thats thats thats circle im ini hate porn crap overeat hate think ways rid problem rid im depressed im pain think hurtful thing honest mecant im pain cant come tell im fat need help jumps help anorexic people person obese unethical jump help person friends ive voiced concerns times times ive learned quiet truly caresin middle im huge struggle faith reddit shit religion doesnt help reality cares youll read post posts like wont remember week dont care dont tell doesand shouldbecause elses shit crap deal withmineand alonebecause fix person holds power control life fix starting start obese depressed fucked girli fix toi guess started saving jumping multistory parking building tonight',\n",
       " 'want end shit goes shit isnt going downim usually depressed best apathetic occasionally seriously anxious bad anxious im suicidal im depressed want hurt anxious worse im depressed thoughts family anchor im freaking im like dumb animal im thinking getting im anxious start thinking work thinks suck learning fast studies fail deadline times like right im thinking big things mainly finite finite im running time im running money im running space population growing big countrys housing crisis ill house land deserve dont want clear bushland houses push endangered species im running water country drought water restrictions work hospital use water need use work restaurant water waste food plastic god plastic toss hospital syringes catheters test tubes fluid bags cant reuse shit obviously needs sterile aseptic landfills overflowing water freaks water life look state fucking country 220 hospitals hospitals counting smaller clinics elderly homes animal hospitals shelters wildlife centres businesses use shit tonne water hospitality hospitality hospitals construction jobs lmfao car washes going strong 135 major dams low levels leave country theres point ecause fucking world running south africa huge drought saying hospitals animal shelter risk hospitals india drought late monsoon season read article india overflowing rubbish smog problem oh fucking god cars roads congested cars taste fucking smog drive miles seeing dozen trees running trees o2 planet getting hotter water evaporating going slowly die sun gets chance explode petrol gas gonna run species going extinct need taking fucking resources finite need taking living fucking making poor fucking animals trying live simply going going going taking took shower days counted 3 minutes felt fucking longer like washing body gold like precious wasted felt sick feel sick want throw shit buy clean slate waste add landfills want ocean water salt water better water right want nuclear power fucking stupid know shit run solar power guess doesnt feel secure dont know definitely running sunlight sun explodes like said fucking dead way think said like 50 years shit starts getting real dire signs fucking terrify ive gone bed gotten twice dont like know obnoxious stupid dramatic im hate want die goes hell like end corner im trapped humanitys final garbage fire im human running water runs want jump bridge ocean die want fish decent meal theres left im taking space grave sorry know gonna valium guess',\n",
       " 'blow jobs arrogant prick second hand jeans turtleneck ill drill hole middle bony head little spinning beach ball death hippie got given birth away net worth aids research death wish guysalso phone 2',\n",
       " 'hanging right nowthank amazingmy journey ends heretoo paingoodbye',\n",
       " 'torni hoping slightly better state kind post sadly month badly hurting multiple points life thought problems succeeded single high points followed decay lower state mind previously couple months end year high point depth decayevery day hour moment past month spent lot time spent spent pain occasional fleeting moment concentrate interacting people distracted dont think simply act instinct whiled away hours trying desperately survive amidst hostile landscape mind becomethis twisted coil reality past years forced face destroying life pain cant imagine happiness light end tunnel gone distant invisible incomprehensible rapidly im sure existed completely lost hope returning try strength left suppress ethereal undercurrent depression stems tide temporarilyits coming point im beginning wonder theres point continuing life obvious unlikely drain productivity usefulness society heavily impacted inability motivate play games listen music good thatthe irony thing scared stuck depression die death understood death wish live forever progression society watch mankind journeys stars observer civilization waxes wanes eternity live infinity experience day real true happiness little ask concept foreign faced prospect number decades sorrow inevitable death help wonder choose earlier death tomorrow years save trouble watching grow old withered physically feel mentally 11pm tomorrow feels like long time live night long idea survived idea continue surviving changes',\n",
       " 'experimenting camera experimenting camera havent experience getting photographs know theyre blurry bit focus kind like kinda new photoshopedit 1httpspreviewredditf6ar8tm04gj61jpgwidth3168ampformatpjpgampautowebpamps976c21cb8a9e07d30ebb20758934bffffdd07706edit 2httpspreviewreddithmp1lqm04gj61jpgwidth3168ampformatpjpgampautowebpamps11fe72d8c141eb415db89197bd8f1e35d1996411edit 3httpspreviewredditugptvrm04gj61jpgwidth2976ampformatpjpgampautowebpamps278d125e360308d3b5adc4218fef84f970a48fb1edit 4httpspreviewredditvsr06sm04gj61jpgwidth2872ampformatpjpgampautowebpamps4cfedfa7ec6f6cb4ceaea6f027d3dc2bf012b32f',\n",
       " 'rape wrong dont rape people nice',\n",
       " 'world come ill watch gangbang vid againnever',\n",
       " 'tiredi cant anymore im tiredalways frustratedconstantly critcising hating theres hope left theres goals want achievei left live want close eyes open stay alive theres happiness life wish guts kill dont know feel likejust like ive triedi end pathetically failing',\n",
       " 'im ending new years dayive posted response troll comment idk im posting guess need organize thoughts ive looking better job year cant look resume ive applying jobs day actually default tabs set job boards search apply spare time started 4 interviews offered making hours responsibilities cuti want work bad literally killing inside look resume wont offer living wagei found rent going bills doubled late fee couldnt afford pay time hate hate life kost hate living time moved wasnt able pay rent month roommate difference looking like happen month idea afford pay bills savings gone cost living rising burden meim tired burden im tired working dead end job despise knowing matter hard try im going end dad inherited guns years doesnt like keeps locked know safe going find day work steal dont want live 2020 dont want live anymore im tired pain time im tired constantly feeling like drowning',\n",
       " 'jo arm commission running cross country meet today fell right arm hard broken sure hurts sadly arm buddy jo needs looks like nut november starts early boys',\n",
       " 'turn againhellosince joining ive tried active especially posts havent reply feels way help help gone mental health issues position truly understand tonight sit couch crying drinking beer downing benzos smoking pot know going justnot wake sober id right hard focus simply count ive bipolar 20 divorced 16y 6 months married recently acquired dui thats im coming',\n",
       " 'light mode users downvoted existing ive seen post light mode user comment people said use light mode downvoted makes hated',\n",
       " 'actually enjoys text post weekend apart crush said yesno post chains actually like text post weekend discussions people',\n",
       " 'stop stop revolves special character english qwerty keyboard speak language ok post things like vintage astethchehttic japanese smiley character like linxar vqrx drxxy somethign like thatstop',\n",
       " 'unworthyi feel like stupid worthless completely unworthy feel like people life feel obligated burden completely totally crazy know family upset honestly believe better going vacation week going cant wait struggle battling decade reason havent care cats',\n",
       " 'pseudo attempt 2well fuck chickened weeks ago friend come guns house wanted urge home shoot self course led intervention sorts distressed went meds ive felt super depersonalized numb like weirdly past year things actually going lots reasons wont nonetheless essentially psychotic break today wrote note left essentially testament probably wont legally binding dont guns house anymore tonight resolved hang belt went sleep music polished note thought rig belt door wadded necktie ensure slippage propped trash let dangle eventually felt unable breathe eyes felt like bulging leg started twitch weird time didnt feel afraid se relieved like finish chore leg twitched bit rig started slip said fuck pulled im total chickenshit im going wake bruises neck im sure come excuse maybe ill try thank letting vent im fucking tired alive hate',\n",
       " 'live fora member family told lot live asked thought live reply got blank stare couldnt come finally futureive living hopes better future entire life ive unable kind meaningful connections people lack trying 10 years old tried hang didnt work ended giant bruise neck guess family school asked 26 exactly zero friends end incurable disease asshole took advantage whilst drunk fucking disgusting wanted theres hope im tired living better future life ends getting worse worse swear cant recall single happy memory pray night dont wake cant stop crying ive got exist dayi dont want future anymore want end gotta soon',\n",
       " 'ruined lifein january sexually assaulted boyfriends roommate boyfriend dating years time loved spiraled happened broke tried find solace pushed cared away created fake version thought emotions bay september comes rushing want ruined relationship blame im tired feeling like years diagnosed bipolar disorder ive felt like ive gotten control life moods decisions cant mad people wanting feels lonely left turn talk weeks ago attempt got scared got help day felt weak dont know dark place',\n",
       " 'omg stop selfies yall ugly af im tryna shit',\n",
       " 'control thoughtswhat control dark thoughts use help',\n",
       " 'know ducked',\n",
       " 'new reddit update makes throw mouth time find new social media platform',\n",
       " 'gamerdude u dinner ideas shit posts',\n",
       " 'love life im tiredi love life life beautiful living beautiful cant anymore im young im ashamed fact feel like stress eating alive panic attack 3 times week family doesnt care respect dont close friends dont hobby dream dont know feel like shit parents wont let therapy ungrateful age dont money dont time dont want specify reason hate myselfi wanted let sorry bad english',\n",
       " 'wish cat pretty life passed away weeks ago im little sad',\n",
       " 'posted nighti taken xanax drank half liter liquor sadly didnt die sleep went college today fucked suicide want exist thanks lot support j',\n",
       " 'homie youtuber trying hit 500 subs new year httpswwwyoutubecomceorissfeaturedhttpswwwyoutubecomceorissfeatured streams twitch dont like begging subs reddit want hit goal',\n",
       " 'hello appriciate zoomgoogle meet codes like troll teacher classmates funny think',\n",
       " 'dont want live money feel like escape system suicidei dont want live meaningless life feel like ive dealt bad cards im going going find state happiness whats point living logically kill',\n",
       " 'rare nane find keychains im 99 sure kid entire high school',\n",
       " 'tired disappointment goodbyeim tired tired disappointment tired letting people tired meim probably getting kicked uni soon honestly think thats tipping point ive time low recently im exhaustedmy parents invested education supported decisions work asses decent life expect return cant fucking love im tired letting tired giving bad news tired like colossal fuck upmy best friend person doesnt fuck anymore lifeline shes basically fucked im yeah guess goodbye guys importantly goodbye familyim sorry',\n",
       " 'im starting strongly dislike new pe teacher live allowed pe indoors outside stuffnow winter kinda cold snow probably best idea play football conditions right nah played football u know whats best cant changing room wear clothes normally wear school played clothes cant probably rip jeans played football running game 3c snow shitty clothes wear masks bcs virus head hurt probably healthy right especially friend asthmasry misspelled tell worse dont care isnt normal vent day shitty bad grades lot exams freeze ass playing football screw',\n",
       " 'twitter skrrrt twitter died thats oof im super sad cant view group chats',\n",
       " 'aaaaaa presentation 40 minutes im nervous af tell gonna alright need calm',\n",
       " 'theres absolutely nerveracking talking crush cap possibly butterflies stomachtry change mind',\n",
       " 'sisters good friend committed suicide weeki dont know posting im worried sister live far away im worried friend passed away hasnt shes hard saying things wish saved dont know cope pain shes constantly crying mention friend days personality changed guess losing someones close im worried shell eventually start thinking life isnt worth living follow friend recommend help im miles away tough time shes dont lean person left moved away',\n",
       " 'god bidenharris stans annoying like better trump doesnt mean good thocant wait 2024 progressives',\n",
       " 'pet names great feel goodi miss',\n",
       " 'actual fuck wrong fuck shoulder knee pains 19 relate 85 year old grandma fucking hell',\n",
       " 'pee pee poo poo wants phd someday field tell want time ability',\n",
       " 'bitches wishing curves like like naw aint fault look like ruler',\n",
       " 'opinions job know couple places hire 15 wanna know job early worth',\n",
       " 'song recommendation disco type beat billymachiafava makes u want dance like nobodys watching',\n",
       " 'yesterday e p c yesterday bit boring played terraria got good stuff best yesterday comes afternoon english class exclusive channel noticed friends sending meme images decided start war btw best friends like memes goddamn sent memes sent memes war continued rest students stopped unfortunately didnt winner fun meme war watched youtube channel known memekun usually sends terraria memes making memes rterrariamemes memekun noticed memes videos saw meme freaked wanted meme shown youtube video especially lwaiy jacksepticeyes meme time memes bit sad saw memes shown youtube channel 12k subs damn channels videos usually lot views youtube channelampx200bi hope day good days like',\n",
       " 'smart httpsyoutubei2eisx8xwrs tho arent subs',\n",
       " 'family sad itso ive sadder life',\n",
       " 'posting everyday girlfriend day 24 ive getting comments im pursuing goal im saying placing happiness different person reason goal new girlfriend know im struggling month happened im breakup know happy',\n",
       " 'heyim finally ready dont want live anymore im ok thatim ready',\n",
       " 'ive trading nudes random guys find internet im unsure pedophiles theyre like 24 years older dont know feel guess maybe bored dont know im posting think feel like tell',\n",
       " '2 accounts 25 commenters past year gonna confuse',\n",
       " 'left meshe best friend true spark beauty light life room walked brighter vivid alive took granted shes gone dont know',\n",
       " 'people dream world peace dream night dropped phone puddle best friends dad swimming puddle asked said jumped puddle drowned',\n",
       " 'come join friends stream httpswwwtwitchtvdjaylivehttpswwwtwitchtvdjaylive',\n",
       " 'imagine personality post ppls personality im talking',\n",
       " 'attempted suicide failedim trying tonightmy job sucking energy life ive trying help mental health stop moving parents life matters ive trying kill failing attempted days ago drank bottles codeine puke brushed cried way work im going try tonight thinking oding try breaking arm suicide feeling lingers im jumping bedroom window im tired living like',\n",
       " 'ive discord yall doin im high lol talk meeee pee rly bad tho oops',\n",
       " 'bit upset discussion im homeschooled atmwould church twice week sports weekmaybe twice social interaction got person aside home parentsi chat online lot churchwell covid twice week person co op week couple online classes barely leaving housei feel like missed tbh got independent ect likeyou hear things kids going things making cool experiments sitting computer cause went store somethingfeeling slightly bitter ityeah talk lot online loltheres like 1 kid age church nowused like 5and like 10 kids age group person co op bigger tho twice week socializing like 4 times week guessin person',\n",
       " 'cat uncomfortably adorable right shes laying arms like baby shit like stay alive',\n",
       " 'didnt betterpreface find talking sort thing unbelievably difficult person hated talking thoughts pretty life uh likely read disjointedim 30 year ive failed career ive attempted im gay im type introverted dumpy depressed guy ignores im lgbtfriendly city bars like location bad im ugly short big creative projects pursued life laughing stock embarrassments ive worked fucking ass try happysuccessful insurmountable debt bowel problems testicle torsion quest ive gotten nothingi family friends great increasingly clear im simply burden group group excessively intelligent talented individuals hope compare toim good bitching guess reading whats like meand going better arguably gotten worse ive gotten older despite syrupy feel good antibully campaigns trying tell cynical didnt fairly okay dead end job walking distance source income feels like scam doesnt pay save car havent able afford car accident got years ago keeping afloative exclusively kicked life incredibly unfair supposed continue absolutely chance opportunity betteri worked comic project 3 years 3 years life spent pouring god damn soul thing thing stats visitors reality think im realistic maybe thats tricky thing depression regardless numbers tend lie reasonable start traffic wise wasnt going game came semirecently concept going incorperate project better frankly watching dwindleing interest work vs overwhelming success medias use somewhat similar concept breakdown deleted comic internet kind spiraled years life energy gone foreverits months recovered know logically brain losing day wasnt terribly happy person lot hopes dreams riding thing colour life drained rambly tend bottle things comes stuff like im kind sitting work right hitting keys exhaling stupid shiti dont want shitty failure younger kids depressed hope dont life gone wish killed sooner wouldnt single hardest thing wake realize im personi dont know man googled shit desperately saw place wrote hands going talking stupid im idiot elses world',\n",
       " 'im overdose againthis aint right',\n",
       " 'slide girls dm birthday party met girl think sweet later added instagram like know better dont know start conversation know going',\n",
       " 'fun pinewood derby yall remember boyscouts right sucked clean kitchen church loved pinewood derby isnt like community pinewood derby like power tools stuff makes sense idk thought',\n",
       " 'english 12 exam bullshit ill start saying feeling english subject mixed love idea community writers share ideas essays forms written work hate pretentious quote shakespeare old english basically foreign language point taught read thrown tank yoda speak thats 18th century dialect im getting track im talk english essay dropped mark 98 english 11 88 english 12first half essay multiple choice course multiple choice questions definitive answer right heres example definitive questionshow nonfictional character story feel read second story exama supportiveb gratefulc amusedd disappointed nonfictional character fictional defining characteristics supposed know real life person feel didnt realize empath school curriculum course questions definitive english generally known lot interpretative answers questions answers given time explain whysecond exam 800 words worth essays written responses heres problem exams substantiated 800 quality thought words hardly possible 2 hours usually given week write essay size normal class time sudden reason expected write work quality fraction time usually given spite think good idea students time pressure making written piece work grade affecting conditions exam idea english needs exam absurd english requires time detail thought exam counterintuitive asks quantity quality believe english 12 exams bullshit think',\n",
       " 'oldest living tree 5067 years old youd think named named tallest thiccest trees california tallest thiccest oldest living trees world completely different mountain ranges things like remind california like 20 larger germany',\n",
       " 'boys reddit gfs cause im lonely af',\n",
       " 'day 1 sharing uncle irohs wisdom finally watched legendary avatar airbender fell love uncle iroh realized deserves blessed wise words day im going post favorite uncle iroh quotes hope guys stick look light find look dark uncle iroh',\n",
       " 'bring net negative mei useless person spine subject constant belittlement family friends coworkersi constantly wishing hit traffic purchase gun kill myselfi necessary earth cant relate im wasting good resources better usedmy brain fucked addictions world turning',\n",
       " 'need help im brokenokay im bad asking help im 18 outside looks fine ive got amazing girlfriend good friends feel cold inside feel like im dying inside day gets little closer bullied high school dont know im overweight heart problems hypertrophic cardiomyopathy ill live life doesnt involve surgeries pacemakers medication feel like makes happy think negatives time cant help iti think school class time calling fat saying useless walking sake passing intermediate english real great qualifications mum passed away 15 feel cold inside time moments joy far wonder died today come funeral miss insomnia dont sleep body image issues hate look hate scar chest hate despite girlfriend cares constantly feel better anxiety deep trust issues ex girlfriends family kicking streets year ago thats roughly started feel anxious started feeling depressed feel wrong feeling im feeling typically afford want buy video games want doesnt happy fear ive actually considering suicide cant getting better suppose need help 2 mindsets right im scared thoughts',\n",
       " 'know unsettling im pretty sure night think ive reached point ive talked happened ive posted think im ready try killing im unhappy dont know im posting guess wanted goodbye listen minutes think im crazy truly want thank trying help wish best luck fight im sorry inappropriate',\n",
       " 'american dream lieplease dont read youre vulnerable state know loved worthy life especially youre young feel way find happiness life wish thoughts mind collapse future greed driven apocalyptic america choices blame hopeful nature serves destroy easier day ready bought 4 bags charcoal briquettes amazon antiemetic feel making progress starting encouraging weird way dont feel sad anymore going different methods coordinate process high efficiency low pain hope include alcohol benzodiazepines opiates sort anti emetic charcoal briquettes work timing process living quiet desperation definitely limits abuse self imposed thrust person madness happy funny kid wanting people laugh feel good wasnt prepared evil world fact ignored wanted people happy line work ive exposed especially recently horrifying sights saddest things grave struggle sights addictions poverty 2020 america brutal darwinism corruption false narratives pulling society apart interest sociopaths upper echelon society good hearted people care commodity world stepped murdered control happens life control death thats control',\n",
       " 'crush things crush nice weather today isnt itme thanks',\n",
       " 'god fucking damnit hate myselfi hate fail fail fail begging help gives turn away reject advice fucking hate dont belong need die',\n",
       " 'need helpbut im strong seek feel like bitch feel like head gotta man dont look people mental illness weak look mind weak know doctor therapist feel like wont seriously dont want mental illness label following rest life think requires lifelong treatment im fan dont know',\n",
       " 'think perverted reasons dont think im going kill myselfthe thought suicide going head life cruel joke wish born feelings want fuck im goodbye think unlikely kill like 2 reasons wont itone close relationship mom ruin rest life kill perverted reason conclusion ive lot conversations therapistmy perverted reason parents fairly wealthy distance future im going lot money trust fund shit die im lucky im failure perverted trust fund im going maybe actually enjoy life ill money fucked world money like thing matters money lot things legally sugar daddy sweet 18 girl maybe entering college want legitimate relationship kind help financially obv ill exchange sex',\n",
       " 'new school times basically got 20mins later school means ill wake bus 20mins later means wont cute girl bus',\n",
       " 'came friends ace friend today told friends accepting walking air right worried stressful went literally stop smiling people faces',\n",
       " 'fake friends theres dude friends thought nice id hang hed shit like pussy fatass things like youre going girlfriend im alpha etc everytime hed nice people viewed deserving respect stupid let like year saying friend group associates cut blocked shit calling bullshit ofc called fake friend said social skills 5 yr old didnt contribute friendship smoke weed insult slap face times blocked havent seen spoken like 3 months dont know hell react sees school sumn im remote shit sucks tho dedicated time got like friends damn life sucks',\n",
       " 'im aloneso dont know im suicidal im definitely feeling self destructivethis kind long story ill try ramble guaruntees2 months ago got fired job everybody promised try feel better imediately started talking problems including girl ive head heels love years telling new guy shed seeing dick dated like 9 months year ago got days later tried talk whats going life like forgot play fortnite chat talked got new job people incredibly verbally abusive started going college stress getting chance escape stress disappeared thin air second hope little stand date suggested started dating new guy ta way dated year drama life basically cut destroyed spent entire past year helping feel better wanted shes best friend hate depressed eventally started started like old self weeks ago comes starts getting close insisted theyre friends worried cut labor day weekend good mood decided ask stand date said maybe knew immediately making happy asked het date started telling bad idea seen dark place willing admit im jealous concerned night feeling dumps drunk saw online xbox send party invite sends text sorry brought xbox date morning saw online hadnt opened messages sent night knew date friends assume stayed night immediately got jealous upset im feeling whirlwind emotions dont know stay night know shouldnt matter want happy cant help sad doesnt want find happiness im terrified shes gonna heart broken terrified wont know feels way worst case scenario gets heart broken help pick peices best case finds happiness end watching relationship wanted girl dreamsi know sound like incel im understand friend doesnt entitle know doesnt want theres hurts friends talk actually tell theyre hanging pretends care shes best friend girl dreams hate im jealous upset genuinely want happy cut life ill talk dont im stuck knows long im stuck rock hard place doesnt help women time day need helpim sorry long need talk somebodytldr life started going bad exgirlfriend girl dreams dating guy ruined shes love love life friends remotely close',\n",
       " 'curious afterlifemy curiosity afterlife making suicidal want know certain know kill permanent want know sacrifices hopes pleasing god futile',\n",
       " 'dont know anymorei lurk id find solace words said left got better im life barely started dont know anymore want happy',\n",
       " '',\n",
       " 'im lost perfectly fine making mistakes chores mess missed dog poop lose im confuseedddd',\n",
       " 'know cares got gf 3 months becasue pf vacantion havent seen month 2 weeks im kinda sad',\n",
       " 'help metheres demons head want kill attention attention dont want hurt anybody ze willen dat ik sterf',\n",
       " '45 minutesi dont know things dont know think memory garbage im indifferent im dead alive im eating decent cheese burger right idk 40 minutes ill 12g caffeine pill find survive certain cardiac arrest ill decide live maybe',\n",
       " 'meat sack hard killi tried kill friday night took box benzos remainder box codine based pain killers half box washed beers half bottle wine woke day monster headache slept lot honestly im 57 girl hell fucking hate job hate life hate meat sack yeah family friends love long supposed endure utter misery sake hurting themi want cant rightsorry venting',\n",
       " 'hiso 17 years old dont know whats basically overall pretty happy dude times feel sad lonely point im fucking problem years feel like thats interested way thats giving sort attention feel bad actually care appreciate spending time think feel like basically hate im good destroying whats good example friend consider best friend btw forgot earlier picky person stay tbh enjoy people hes dont live close drinking fun chat send fun shit love fact hes fun friends thinks forget point everytime feel like meant send messages reason im posting im starting feel like problem letting live anymore ill kill ill smile face cause feeling sounds like big deal making feel like theres left live thing forgot mention rarely feel connecting pretty obsessed person dont know thing related problem',\n",
       " 'severly depressed living nothingi live secluded life people dont like maybe dont belong people look forward death know sounds bad wish like cancer know spineless disrespectful people actually hope feel maybe ill jump abridge',\n",
       " 'want cut myselfsometimes look mirror wanna cut feel like dont actually friends feel like im im pretty social seeing people fun great life seeing self shit day boring ass life angers dont wanna talk anybody feel like attention whoring piece shit people think im loser dont know cut dont wanna die want cut bleed maybe miracle happen',\n",
       " 'waffel breakfast',\n",
       " 'emotions like yoyosyesterday feeling okay fine today mood dips badly feel deprived hopeless pain reduced case holds soul imagine death lot money buy stupid casket dead body money spent right buy hope buy days live tired worrying present future deep dont care anymore tired expressing sadness anger circumstances befall words honestly dont care wish purchase deadly poison drink hopeless exhausting',\n",
       " 'nobodymy husband died 8 bit years ago sees priority yes ive sexual purposes actually cares puts metonight attempted method redacted rules friend saved resent actually friend let achieve goal hard understand im stood outside hospital unable leave permission hate',\n",
       " 'suicidalit dawned pathetic pathetic 90 sub r depression r anxiety im subhuman relate problems people sub exgirlfriendwife left hard kill youre fathermother friends love im bother themhow way wrong subhumanlife horrifying fight depression anxiety bullying loneliness peers blast best years flowing away bother living ive happy day life standing wayyeah gives shot anyways im hot girl hot guy damn anyways dont dare looks dont matter',\n",
       " 'honestly idea im going lifeim junior highschool literally friends talk school online year opportunity talk peers teachers new school program set idea job want idea want major want college anymore dont know tell anybody strangers',\n",
       " 'agrees emoji worst like die inside use',\n",
       " 'bad memories playing headover thought',\n",
       " 'getting outok want live impossible left contact friends need tell situation good friends dont think ppl understand want live things impossible u gotten tell story steps',\n",
       " 'mom woke late guess gets fucking sleep thats right bitches',\n",
       " 'want dieim tired im trying hard reason im hesitating 6 small children worry happen im gone feel useless know family needs thinking ending life especially husband fight think need talk wont judge depression ive tried talking husband doesnt understand brushes feel like cant talk doctors dont want label',\n",
       " 'breathing hermy mother refer shes love life support system dawned desire drown fact im 28 living home job skills ambition energy acquire friends literally feel disabled like mum wouldnt survive world barely body dysmorphiaskin ailmentsoverall health worsening times goes im writing purely connect ive felt close termination years bed ridden depression',\n",
       " 'reason staying alive ill firstn h n g wanna die kill idk feel like unreal mean real bro wereits cant reality wanna shifting',\n",
       " 'older redditors sensitive dont like agree youll downvoted oblivion hell downvoted asking basic questions obviously doesnt apply older person holy shit way shut completely holier thou attitude',\n",
       " '8222 reply im tryna',\n",
       " 'kind want stone age tbh think problems result modern society schoolwork taxes household chores things turning society stone age easiernow way actually wed somethinganyone got ideas like kaiju monsters want know',\n",
       " 'figured outa case suicideborn world preprogrammed forbearers environment upbringing experience mold incredibly young age slave desires act desires chosen compelled write truly choosing result complex amalgamation lead unsavory conclusion purpose species procreate endure fundamental meaning life seek wealth powerstatus sex purpose pleasure truly implicit survival advantages learned continuously reinforced time humans existed endure procreate immense suffering worthwhile option remains unfortunate hopeless beings spite root cause cause existence',\n",
       " 'dont want live anymorei live dont think going better told going better year self harm relapse suicide attempt knows im glad know cares cared believed told suffering mom extremely narcissistic cant stand living barely know closet friends dont care spend time plans hope future know lazy real job dont care hobbies feel bored time feel like shit day dont want live feel like im suffering majority time',\n",
       " 'holy shit saw lyrics new magic wand tyler creator goddamn dark saying kill girlfriend man wants pick dont pick lover doesnt leave girlfriend kill basically cant cansuper fucking wholesome',\n",
       " 'hot 10 easy steps 12345its pure luck lolanyways hope tutorial helped someway',\n",
       " 'im conventionally suicidalim new poster sub apologize rules im wasting peoples time masshealth cant find therapist turni feel worthless disappoint consigned realizing feel love know feel womans touch know deserve worthless human deserves death dont courage kill final disappointment wait death come mei dont know wanted vent frustration continue worthless human wont provide world write know mind wont let fix thank support advanced think dont deserve',\n",
       " ...]"
      ]
     },
     "execution_count": 12,
     "metadata": {},
     "output_type": "execute_result"
    }
   ],
   "source": [
    "cleaned_train_text"
   ]
  },
  {
   "cell_type": "code",
   "execution_count": 13,
   "metadata": {},
   "outputs": [],
   "source": [
    "train_text_seq=tokenizer.texts_to_sequences(cleaned_train_text)\n",
    "train_text_pad=pad_sequences(train_text_seq,maxlen=40)\n",
    "\n",
    "\n",
    "test_text_seq=tokenizer.texts_to_sequences(cleaned_test_text)\n",
    "test_text_pad=pad_sequences(test_text_seq,maxlen=40)"
   ]
  },
  {
   "cell_type": "code",
   "execution_count": 14,
   "metadata": {},
   "outputs": [
    {
     "data": {
      "text/plain": [
       "array([[    0,     0,     0, ...,     6,   368,  1975],\n",
       "       [    0,     0,     0, ...,   285,  2385,  5575],\n",
       "       [   10,    67,  2110, ...,   143,   123,    16],\n",
       "       ...,\n",
       "       [    7,    42,  1367, ..., 58112,   214, 73686],\n",
       "       [  503,     8,  1559, ...,   686,  1511,   265],\n",
       "       [    0,     0,     0, ...,  3336,  4487,   550]])"
      ]
     },
     "execution_count": 14,
     "metadata": {},
     "output_type": "execute_result"
    }
   ],
   "source": [
    "train_text_pad"
   ]
  },
  {
   "cell_type": "markdown",
   "metadata": {},
   "source": [
    "# Glove Embeddings"
   ]
  },
  {
   "cell_type": "code",
   "execution_count": 15,
   "metadata": {},
   "outputs": [],
   "source": [
    "lbl_target=LabelEncoder()\n",
    "train_output=lbl_target.fit_transform(train_data['class'])\n",
    "test_output=lbl_target.transform(test_data['class'])"
   ]
  },
  {
   "cell_type": "code",
   "execution_count": 16,
   "metadata": {},
   "outputs": [],
   "source": [
    "import pickle\n",
    "with open('glove.840B.300d.pkl', 'rb') as fp:\n",
    "    glove_embedding = pickle.load(fp)"
   ]
  },
  {
   "cell_type": "code",
   "execution_count": 17,
   "metadata": {},
   "outputs": [],
   "source": [
    "v=len(tokenizer.word_index)\n",
    "\n",
    "embedding_matrix=np.zeros((v+1,300), dtype=float)\n",
    "for word,idx in tokenizer.word_index.items():\n",
    "    embedding_vector=glove_embedding.get(word)\n",
    "    if embedding_vector is not None:\n",
    "        embedding_matrix[idx]=embedding_vector"
   ]
  },
  {
   "cell_type": "code",
   "execution_count": 18,
   "metadata": {},
   "outputs": [
    {
     "data": {
      "text/plain": [
       "array([[ 0.        ,  0.        ,  0.        , ...,  0.        ,\n",
       "         0.        ,  0.        ],\n",
       "       [ 0.074482  ,  0.58293003, -0.78233999, ..., -0.24984001,\n",
       "        -0.096953  ,  0.66692001],\n",
       "       [-0.35394999,  0.23051   , -0.62689   , ..., -0.20720001,\n",
       "         0.52003002,  0.51129001],\n",
       "       ...,\n",
       "       [ 0.        ,  0.        ,  0.        , ...,  0.        ,\n",
       "         0.        ,  0.        ],\n",
       "       [ 0.        ,  0.        ,  0.        , ...,  0.        ,\n",
       "         0.        ,  0.        ],\n",
       "       [ 0.        ,  0.        ,  0.        , ...,  0.        ,\n",
       "         0.        ,  0.        ]])"
      ]
     },
     "execution_count": 18,
     "metadata": {},
     "output_type": "execute_result"
    }
   ],
   "source": [
    "embedding_matrix"
   ]
  },
  {
   "cell_type": "code",
   "execution_count": 19,
   "metadata": {},
   "outputs": [],
   "source": [
    "early_stop=EarlyStopping(monitor='val_loss', patience=3, restore_best_weights=True)\n",
    "reducelr=ReduceLROnPlateau(monitor='val_loss', factor=0.2, patience=2, min_lr=0.0001)"
   ]
  },
  {
   "cell_type": "markdown",
   "metadata": {},
   "source": [
    "# Keras Sequential Model Construction"
   ]
  },
  {
   "cell_type": "code",
   "execution_count": 20,
   "metadata": {},
   "outputs": [
    {
     "name": "stdout",
     "output_type": "stream",
     "text": [
      "WARNING:tensorflow:From c:\\Python311\\Lib\\site-packages\\keras\\src\\backend.py:873: The name tf.get_default_graph is deprecated. Please use tf.compat.v1.get_default_graph instead.\n",
      "\n"
     ]
    }
   ],
   "source": [
    "model=Sequential()\n",
    "model.add(Input(shape=(40,)))\n",
    "model.add(Embedding(v+1,300,weights=[embedding_matrix],trainable=False))\n",
    "model.add(LSTM(20,return_sequences=True))\n",
    "model.add(GlobalMaxPooling1D())\n",
    "model.add(Dense(256,activation='relu'))\n",
    "model.add(Dense(1,activation='sigmoid'))\n",
    "model.compile(optimizer=keras.optimizers.SGD(0.1,momentum=0.09),loss='binary_crossentropy',metrics=['accuracy'])"
   ]
  },
  {
   "cell_type": "code",
   "execution_count": 21,
   "metadata": {},
   "outputs": [
    {
     "name": "stdout",
     "output_type": "stream",
     "text": [
      "Model: \"sequential\"\n",
      "_________________________________________________________________\n",
      " Layer (type)                Output Shape              Param #   \n",
      "=================================================================\n",
      " embedding (Embedding)       (None, 40, 300)           80627100  \n",
      "                                                                 \n",
      " lstm (LSTM)                 (None, 40, 20)            25680     \n",
      "                                                                 \n",
      " global_max_pooling1d (Glob  (None, 20)                0         \n",
      " alMaxPooling1D)                                                 \n",
      "                                                                 \n",
      " dense (Dense)               (None, 256)               5376      \n",
      "                                                                 \n",
      " dense_1 (Dense)             (None, 1)                 257       \n",
      "                                                                 \n",
      "=================================================================\n",
      "Total params: 80658413 (307.69 MB)\n",
      "Trainable params: 31313 (122.32 KB)\n",
      "Non-trainable params: 80627100 (307.57 MB)\n",
      "_________________________________________________________________\n"
     ]
    }
   ],
   "source": [
    "model.summary()"
   ]
  },
  {
   "cell_type": "markdown",
   "metadata": {},
   "source": [
    "# Model Training and Evaluation"
   ]
  },
  {
   "cell_type": "code",
   "execution_count": 22,
   "metadata": {},
   "outputs": [
    {
     "name": "stdout",
     "output_type": "stream",
     "text": [
      "Epoch 1/20\n",
      "WARNING:tensorflow:From c:\\Python311\\Lib\\site-packages\\keras\\src\\utils\\tf_utils.py:492: The name tf.ragged.RaggedTensorValue is deprecated. Please use tf.compat.v1.ragged.RaggedTensorValue instead.\n",
      "\n",
      "WARNING:tensorflow:From c:\\Python311\\Lib\\site-packages\\keras\\src\\engine\\base_layer_utils.py:384: The name tf.executing_eagerly_outside_functions is deprecated. Please use tf.compat.v1.executing_eagerly_outside_functions instead.\n",
      "\n",
      "726/726 [==============================] - 27s 34ms/step - loss: 0.3491 - accuracy: 0.8489 - val_loss: 0.2657 - val_accuracy: 0.8932 - lr: 0.1000\n",
      "Epoch 2/20\n",
      "726/726 [==============================] - 20s 27ms/step - loss: 0.2564 - accuracy: 0.8965 - val_loss: 0.2527 - val_accuracy: 0.8975 - lr: 0.1000\n",
      "Epoch 3/20\n",
      "726/726 [==============================] - 24s 33ms/step - loss: 0.2374 - accuracy: 0.9050 - val_loss: 0.4107 - val_accuracy: 0.8185 - lr: 0.1000\n",
      "Epoch 4/20\n",
      "726/726 [==============================] - 23s 31ms/step - loss: 0.2244 - accuracy: 0.9111 - val_loss: 0.2185 - val_accuracy: 0.9150 - lr: 0.1000\n",
      "Epoch 5/20\n",
      "726/726 [==============================] - 20s 28ms/step - loss: 0.2145 - accuracy: 0.9154 - val_loss: 0.2311 - val_accuracy: 0.9077 - lr: 0.1000\n",
      "Epoch 6/20\n",
      "726/726 [==============================] - 22s 31ms/step - loss: 0.2059 - accuracy: 0.9194 - val_loss: 0.3663 - val_accuracy: 0.8533 - lr: 0.1000\n",
      "Epoch 7/20\n",
      "726/726 [==============================] - 22s 31ms/step - loss: 0.1947 - accuracy: 0.9251 - val_loss: 0.2071 - val_accuracy: 0.9193 - lr: 0.0200\n",
      "Epoch 8/20\n",
      "726/726 [==============================] - 21s 29ms/step - loss: 0.1919 - accuracy: 0.9257 - val_loss: 0.2050 - val_accuracy: 0.9203 - lr: 0.0200\n",
      "Epoch 9/20\n",
      "726/726 [==============================] - 21s 29ms/step - loss: 0.1898 - accuracy: 0.9266 - val_loss: 0.2043 - val_accuracy: 0.9203 - lr: 0.0200\n",
      "Epoch 10/20\n",
      "726/726 [==============================] - 21s 29ms/step - loss: 0.1879 - accuracy: 0.9276 - val_loss: 0.2027 - val_accuracy: 0.9215 - lr: 0.0200\n",
      "Epoch 11/20\n",
      "726/726 [==============================] - 21s 29ms/step - loss: 0.1860 - accuracy: 0.9284 - val_loss: 0.2102 - val_accuracy: 0.9182 - lr: 0.0200\n",
      "Epoch 12/20\n",
      "726/726 [==============================] - 22s 30ms/step - loss: 0.1841 - accuracy: 0.9287 - val_loss: 0.2033 - val_accuracy: 0.9212 - lr: 0.0200\n",
      "Epoch 13/20\n",
      "726/726 [==============================] - 21s 29ms/step - loss: 0.1820 - accuracy: 0.9296 - val_loss: 0.2005 - val_accuracy: 0.9227 - lr: 0.0040\n",
      "Epoch 14/20\n",
      "726/726 [==============================] - 21s 30ms/step - loss: 0.1816 - accuracy: 0.9297 - val_loss: 0.2020 - val_accuracy: 0.9220 - lr: 0.0040\n",
      "Epoch 15/20\n",
      "726/726 [==============================] - 22s 30ms/step - loss: 0.1812 - accuracy: 0.9299 - val_loss: 0.2007 - val_accuracy: 0.9225 - lr: 0.0040\n",
      "Epoch 16/20\n",
      "726/726 [==============================] - 22s 31ms/step - loss: 0.1808 - accuracy: 0.9300 - val_loss: 0.2010 - val_accuracy: 0.9223 - lr: 8.0000e-04\n"
     ]
    }
   ],
   "source": [
    "r=model.fit(train_text_pad,train_output,validation_data=(test_text_pad,test_output),\n",
    "            epochs=20,batch_size=256,callbacks=[early_stop,reducelr])"
   ]
  },
  {
   "cell_type": "code",
   "execution_count": 23,
   "metadata": {},
   "outputs": [
    {
     "name": "stdout",
     "output_type": "stream",
     "text": [
      "TESTING DATA CLASSIFICATION REPORT \n",
      " \n",
      "\n",
      "1451/1451 [==============================] - 7s 5ms/step\n",
      "              precision    recall  f1-score   support\n",
      "\n",
      " non-suicide       0.92      0.93      0.92     23198\n",
      "     suicide       0.93      0.92      0.92     23211\n",
      "\n",
      "    accuracy                           0.92     46409\n",
      "   macro avg       0.92      0.92      0.92     46409\n",
      "weighted avg       0.92      0.92      0.92     46409\n",
      "\n",
      "TRAINING DATA CLASSIFICATION REPORT \n",
      " \n",
      "\n",
      "5802/5802 [==============================] - 35s 6ms/step\n",
      "              precision    recall  f1-score   support\n",
      "\n",
      " non-suicide       0.93      0.92      0.93     92814\n",
      "     suicide       0.93      0.94      0.93     92822\n",
      "\n",
      "    accuracy                           0.93    185636\n",
      "   macro avg       0.93      0.93      0.93    185636\n",
      "weighted avg       0.93      0.93      0.93    185636\n",
      "\n"
     ]
    }
   ],
   "source": [
    "print('TESTING DATA CLASSIFICATION REPORT \\n \\n')\n",
    "y_pred = (model.predict(test_text_pad) > 0.5).astype(\"int32\")\n",
    "print(classification_report(test_output,y_pred,\n",
    "                            target_names=lbl_target.inverse_transform([0,1])))\n",
    "\n",
    "print('TRAINING DATA CLASSIFICATION REPORT \\n \\n')\n",
    "print(classification_report(train_output,(model.predict(train_text_pad)>0.5).astype(\"int32\"),\n",
    "                           target_names=lbl_target.inverse_transform([0,1])))"
   ]
  },
  {
   "cell_type": "code",
   "execution_count": 32,
   "metadata": {},
   "outputs": [
    {
     "name": "stdout",
     "output_type": "stream",
     "text": [
      "1/1 [==============================] - 0s 33ms/step\n",
      "0.8569623\n",
      "Potential Suicide Post\n"
     ]
    }
   ],
   "source": [
    "twt = ['i am not feeling well and i want to be left alone and all my life is a waste']\n",
    "twt = tokenizer.texts_to_sequences(twt)\n",
    "twt = pad_sequences(twt, maxlen=50)\n",
    "\n",
    "prediction = model.predict(twt)[0][0]\n",
    "print(prediction)\n",
    "\n",
    "if(prediction > 0.5):\n",
    "    print(\"Potential Suicide Post\")\n",
    "else:\n",
    "    print(\"Non Suicide Post\")"
   ]
  },
  {
   "cell_type": "code",
   "execution_count": 25,
   "metadata": {},
   "outputs": [],
   "source": [
    "pickle.dump(tokenizer, open('tokenizer.pkl', 'wb'))"
   ]
  },
  {
   "cell_type": "code",
   "execution_count": 26,
   "metadata": {},
   "outputs": [
    {
     "name": "stderr",
     "output_type": "stream",
     "text": [
      "c:\\Python311\\Lib\\site-packages\\keras\\src\\engine\\training.py:3103: UserWarning:\n",
      "\n",
      "You are saving your model as an HDF5 file via `model.save()`. This file format is considered legacy. We recommend using instead the native Keras format, e.g. `model.save('my_model.keras')`.\n",
      "\n"
     ]
    }
   ],
   "source": [
    "model.save(\"model.h5\")"
   ]
  },
  {
   "cell_type": "code",
   "execution_count": 27,
   "metadata": {},
   "outputs": [],
   "source": [
    "token_form = pickle.load(open('tokenizer.pkl', 'rb'))"
   ]
  },
  {
   "cell_type": "code",
   "execution_count": 28,
   "metadata": {},
   "outputs": [],
   "source": [
    "from keras.models import load_model"
   ]
  },
  {
   "cell_type": "code",
   "execution_count": 29,
   "metadata": {},
   "outputs": [],
   "source": [
    "model_form = load_model(\"model.h5\")"
   ]
  },
  {
   "cell_type": "code",
   "execution_count": 37,
   "metadata": {},
   "outputs": [
    {
     "name": "stdout",
     "output_type": "stream",
     "text": [
      "1/1 [==============================] - 0s 33ms/step\n",
      "Prediction score: 0.8021\n",
      "Potential Suicide Post (Confidence: 0.8021)\n"
     ]
    }
   ],
   "source": [
    "twt = [\"i am an engineering student but have no job and certainly no money and i think i am not worth of anything in my life as i am a drug addict and i dont have money to buy drugs but i wish that my life was any better \"]\n",
    "twt = token_form.texts_to_sequences(twt)\n",
    "twt = pad_sequences(twt, maxlen=40)\n",
    "\n",
    "\n",
    "prediction = model_form.predict(twt)[0][0]\n",
    "print(f\"Prediction score: {prediction:.4f}\")\n",
    "\n",
    "if(prediction > 0.5):\n",
    "    print(f\"Potential Suicide Post (Confidence: {prediction:.4f})\")\n",
    "else:\n",
    "    print(f\"Non Suicide Post (Confidence: {prediction:.4f})\")"
   ]
  }
 ],
 "metadata": {
  "kernelspec": {
   "display_name": "Python 3",
   "language": "python",
   "name": "python3"
  },
  "language_info": {
   "codemirror_mode": {
    "name": "ipython",
    "version": 3
   },
   "file_extension": ".py",
   "mimetype": "text/x-python",
   "name": "python",
   "nbconvert_exporter": "python",
   "pygments_lexer": "ipython3",
   "version": "3.11.2"
  }
 },
 "nbformat": 4,
 "nbformat_minor": 2
}
